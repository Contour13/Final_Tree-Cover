{
 "cells": [
  {
   "cell_type": "markdown",
   "metadata": {},
   "source": [
    "#### This is the 'Modeling' Workbook by Megan Gray utilizing the \"Forest Cover Type Dataset: Tree types found in the Roosevelt National Forest in Colorado.\"\n",
    "\n",
    "https://www.kaggle.com/uciml/forest-cover-type-dataset\n",
    "\n",
    "Please note that you will need to apply the covtype.csv datafile from the above link to the 'Scrub' workbook in order to procure the \"soilsCovDF\" file needed for this section of the process."
   ]
  },
  {
   "cell_type": "code",
   "execution_count": 1,
   "metadata": {},
   "outputs": [],
   "source": [
    "import pandas as pd\n",
    "import seaborn as sns\n",
    "import matplotlib.pyplot as plt\n",
    "import numpy as np\n",
    "\n",
    "from sklearn.linear_model import LogisticRegression\n",
    "from sklearn.tree import DecisionTreeClassifier\n",
    "from sklearn.ensemble import RandomForestClassifier\n",
    "from sklearn.svm import SVC\n",
    "from sklearn.preprocessing import StandardScaler\n",
    "from sklearn.model_selection import train_test_split, ShuffleSplit, GridSearchCV\n",
    "from sklearn.metrics import roc_auc_score, roc_curve, auc\n",
    "from sklearn.neighbors import KNeighborsRegressor, KNeighborsClassifier\n",
    "\n",
    "import os\n",
    "import time\n",
    "import sys"
   ]
  },
  {
   "cell_type": "markdown",
   "metadata": {},
   "source": [
    "##### According to dataset specifications, here is a list of Cover Types and the respective Tree Types:\n",
    "\n",
    "1 -- Spruce/Fir\n",
    "2 -- Lodgepole Pine\n",
    "3 -- Ponderosa Pine\n",
    "4 -- Cottonwood/Willow\n",
    "5 -- Aspen\n",
    "6 -- Douglas-fir\n",
    "7 -- Krummholz"
   ]
  },
  {
   "cell_type": "code",
   "execution_count": 2,
   "metadata": {},
   "outputs": [
    {
     "name": "stderr",
     "output_type": "stream",
     "text": [
      "/Users/Megan/anaconda3/lib/python3.6/site-packages/IPython/core/interactiveshell.py:2785: DtypeWarning: Columns (19,20) have mixed types. Specify dtype option on import or set low_memory=False.\n",
      "  interactivity=interactivity, compiler=compiler, result=result)\n"
     ]
    }
   ],
   "source": [
    "soilsCovDF = pd.read_csv(\"Data/soilsCovtype.csv\")"
   ]
  },
  {
   "cell_type": "code",
   "execution_count": 3,
   "metadata": {},
   "outputs": [
    {
     "data": {
      "text/html": [
       "<div>\n",
       "<style scoped>\n",
       "    .dataframe tbody tr th:only-of-type {\n",
       "        vertical-align: middle;\n",
       "    }\n",
       "\n",
       "    .dataframe tbody tr th {\n",
       "        vertical-align: top;\n",
       "    }\n",
       "\n",
       "    .dataframe thead th {\n",
       "        text-align: right;\n",
       "    }\n",
       "</style>\n",
       "<table border=\"1\" class=\"dataframe\">\n",
       "  <thead>\n",
       "    <tr style=\"text-align: right;\">\n",
       "      <th></th>\n",
       "      <th>Elevation</th>\n",
       "      <th>Aspect</th>\n",
       "      <th>Slope</th>\n",
       "      <th>Horizontal_Distance_To_Hydrology</th>\n",
       "      <th>Vertical_Distance_To_Hydrology</th>\n",
       "      <th>Horizontal_Distance_To_Roadways</th>\n",
       "      <th>Hillshade_9am</th>\n",
       "      <th>Hillshade_Noon</th>\n",
       "      <th>Hillshade_3pm</th>\n",
       "      <th>Horizontal_Distance_To_Fire_Points</th>\n",
       "      <th>...</th>\n",
       "      <th>Cover_Type</th>\n",
       "      <th>SoilType</th>\n",
       "      <th>Soil_Type</th>\n",
       "      <th>code</th>\n",
       "      <th>family</th>\n",
       "      <th>sub-family</th>\n",
       "      <th>description</th>\n",
       "      <th>climatic zone</th>\n",
       "      <th>geologic zone</th>\n",
       "      <th>GeoSoils</th>\n",
       "    </tr>\n",
       "  </thead>\n",
       "  <tbody>\n",
       "    <tr>\n",
       "      <th>0</th>\n",
       "      <td>2596</td>\n",
       "      <td>51</td>\n",
       "      <td>3</td>\n",
       "      <td>258</td>\n",
       "      <td>0</td>\n",
       "      <td>510</td>\n",
       "      <td>221</td>\n",
       "      <td>232</td>\n",
       "      <td>148</td>\n",
       "      <td>6279</td>\n",
       "      <td>...</td>\n",
       "      <td>5</td>\n",
       "      <td>29</td>\n",
       "      <td>29</td>\n",
       "      <td>7745</td>\n",
       "      <td>Como</td>\n",
       "      <td>Legault</td>\n",
       "      <td>extremely stony</td>\n",
       "      <td>subalpine</td>\n",
       "      <td>igneous and metamorphic</td>\n",
       "      <td>1</td>\n",
       "    </tr>\n",
       "    <tr>\n",
       "      <th>1</th>\n",
       "      <td>2590</td>\n",
       "      <td>56</td>\n",
       "      <td>2</td>\n",
       "      <td>212</td>\n",
       "      <td>-6</td>\n",
       "      <td>390</td>\n",
       "      <td>220</td>\n",
       "      <td>235</td>\n",
       "      <td>151</td>\n",
       "      <td>6225</td>\n",
       "      <td>...</td>\n",
       "      <td>5</td>\n",
       "      <td>29</td>\n",
       "      <td>29</td>\n",
       "      <td>7745</td>\n",
       "      <td>Como</td>\n",
       "      <td>Legault</td>\n",
       "      <td>extremely stony</td>\n",
       "      <td>subalpine</td>\n",
       "      <td>igneous and metamorphic</td>\n",
       "      <td>1</td>\n",
       "    </tr>\n",
       "    <tr>\n",
       "      <th>2</th>\n",
       "      <td>2595</td>\n",
       "      <td>45</td>\n",
       "      <td>2</td>\n",
       "      <td>153</td>\n",
       "      <td>-1</td>\n",
       "      <td>391</td>\n",
       "      <td>220</td>\n",
       "      <td>234</td>\n",
       "      <td>150</td>\n",
       "      <td>6172</td>\n",
       "      <td>...</td>\n",
       "      <td>5</td>\n",
       "      <td>29</td>\n",
       "      <td>29</td>\n",
       "      <td>7745</td>\n",
       "      <td>Como</td>\n",
       "      <td>Legault</td>\n",
       "      <td>extremely stony</td>\n",
       "      <td>subalpine</td>\n",
       "      <td>igneous and metamorphic</td>\n",
       "      <td>1</td>\n",
       "    </tr>\n",
       "    <tr>\n",
       "      <th>3</th>\n",
       "      <td>2579</td>\n",
       "      <td>132</td>\n",
       "      <td>6</td>\n",
       "      <td>300</td>\n",
       "      <td>-15</td>\n",
       "      <td>67</td>\n",
       "      <td>230</td>\n",
       "      <td>237</td>\n",
       "      <td>140</td>\n",
       "      <td>6031</td>\n",
       "      <td>...</td>\n",
       "      <td>2</td>\n",
       "      <td>29</td>\n",
       "      <td>29</td>\n",
       "      <td>7745</td>\n",
       "      <td>Como</td>\n",
       "      <td>Legault</td>\n",
       "      <td>extremely stony</td>\n",
       "      <td>subalpine</td>\n",
       "      <td>igneous and metamorphic</td>\n",
       "      <td>1</td>\n",
       "    </tr>\n",
       "    <tr>\n",
       "      <th>4</th>\n",
       "      <td>2606</td>\n",
       "      <td>45</td>\n",
       "      <td>7</td>\n",
       "      <td>270</td>\n",
       "      <td>5</td>\n",
       "      <td>633</td>\n",
       "      <td>222</td>\n",
       "      <td>225</td>\n",
       "      <td>138</td>\n",
       "      <td>6256</td>\n",
       "      <td>...</td>\n",
       "      <td>5</td>\n",
       "      <td>29</td>\n",
       "      <td>29</td>\n",
       "      <td>7745</td>\n",
       "      <td>Como</td>\n",
       "      <td>Legault</td>\n",
       "      <td>extremely stony</td>\n",
       "      <td>subalpine</td>\n",
       "      <td>igneous and metamorphic</td>\n",
       "      <td>1</td>\n",
       "    </tr>\n",
       "  </tbody>\n",
       "</table>\n",
       "<p>5 rows × 24 columns</p>\n",
       "</div>"
      ],
      "text/plain": [
       "   Elevation  Aspect  Slope  Horizontal_Distance_To_Hydrology  \\\n",
       "0       2596      51      3                               258   \n",
       "1       2590      56      2                               212   \n",
       "2       2595      45      2                               153   \n",
       "3       2579     132      6                               300   \n",
       "4       2606      45      7                               270   \n",
       "\n",
       "   Vertical_Distance_To_Hydrology  Horizontal_Distance_To_Roadways  \\\n",
       "0                               0                              510   \n",
       "1                              -6                              390   \n",
       "2                              -1                              391   \n",
       "3                             -15                               67   \n",
       "4                               5                              633   \n",
       "\n",
       "   Hillshade_9am  Hillshade_Noon  Hillshade_3pm  \\\n",
       "0            221             232            148   \n",
       "1            220             235            151   \n",
       "2            220             234            150   \n",
       "3            230             237            140   \n",
       "4            222             225            138   \n",
       "\n",
       "   Horizontal_Distance_To_Fire_Points   ...     Cover_Type  SoilType  \\\n",
       "0                                6279   ...              5        29   \n",
       "1                                6225   ...              5        29   \n",
       "2                                6172   ...              5        29   \n",
       "3                                6031   ...              2        29   \n",
       "4                                6256   ...              5        29   \n",
       "\n",
       "   Soil_Type  code  family  sub-family      description  climatic zone  \\\n",
       "0         29  7745    Como     Legault  extremely stony      subalpine   \n",
       "1         29  7745    Como     Legault  extremely stony      subalpine   \n",
       "2         29  7745    Como     Legault  extremely stony      subalpine   \n",
       "3         29  7745    Como     Legault  extremely stony      subalpine   \n",
       "4         29  7745    Como     Legault  extremely stony      subalpine   \n",
       "\n",
       "             geologic zone GeoSoils  \n",
       "0  igneous and metamorphic        1  \n",
       "1  igneous and metamorphic        1  \n",
       "2  igneous and metamorphic        1  \n",
       "3  igneous and metamorphic        1  \n",
       "4  igneous and metamorphic        1  \n",
       "\n",
       "[5 rows x 24 columns]"
      ]
     },
     "execution_count": 3,
     "metadata": {},
     "output_type": "execute_result"
    }
   ],
   "source": [
    "soilsCovDF.head()"
   ]
  },
  {
   "cell_type": "code",
   "execution_count": 4,
   "metadata": {},
   "outputs": [
    {
     "data": {
      "text/plain": [
       "Index(['Elevation', 'Aspect', 'Slope', 'Horizontal_Distance_To_Hydrology',\n",
       "       'Vertical_Distance_To_Hydrology', 'Horizontal_Distance_To_Roadways',\n",
       "       'Hillshade_9am', 'Hillshade_Noon', 'Hillshade_3pm',\n",
       "       'Horizontal_Distance_To_Fire_Points', 'Wilderness_Area1',\n",
       "       'Wilderness_Area2', 'Wilderness_Area3', 'Wilderness_Area4',\n",
       "       'Cover_Type', 'SoilType', 'Soil_Type', 'code', 'family', 'sub-family',\n",
       "       'description', 'climatic zone', 'geologic zone', 'GeoSoils'],\n",
       "      dtype='object')"
      ]
     },
     "execution_count": 4,
     "metadata": {},
     "output_type": "execute_result"
    }
   ],
   "source": [
    "soilsCovDF.columns"
   ]
  },
  {
   "cell_type": "markdown",
   "metadata": {},
   "source": [
    "#### To begin the modeling process - I need to specify which features to use for the model to train on."
   ]
  },
  {
   "cell_type": "code",
   "execution_count": 5,
   "metadata": {},
   "outputs": [],
   "source": [
    "features_to_use = [\n",
    "#     \"Cover_Type\",\n",
    "    \"GeoSoils\",\n",
    "    \"Elevation\",  \n",
    "    \"Slope\", \n",
    "    \"Hillshade_9am\", \n",
    "    \"Hillshade_3pm\", \n",
    "    \"Horizontal_Distance_To_Hydrology\", \n",
    "    \"Horizontal_Distance_To_Fire_Points\"\n",
    "]"
   ]
  },
  {
   "cell_type": "markdown",
   "metadata": {},
   "source": [
    "#### However I do need to drop un-needed columns from the dataset for now. I may need to come back to this and remove some of these items from the drop list to re-incorporate if I feel that they are needed."
   ]
  },
  {
   "cell_type": "code",
   "execution_count": 6,
   "metadata": {
    "scrolled": false
   },
   "outputs": [],
   "source": [
    "CoverTypeDF = soilsCovDF.drop(columns=[\n",
    "    \"Aspect\",\n",
    "    \"Vertical_Distance_To_Hydrology\",\n",
    "    \"Horizontal_Distance_To_Roadways\",\n",
    "    \"Hillshade_Noon\",\n",
    "    \"Wilderness_Area1\",\n",
    "    \"Wilderness_Area2\",\n",
    "    \"Wilderness_Area3\",\n",
    "    \"Wilderness_Area4\",\n",
    "    \"SoilType\",\n",
    "    \"Soil_Type\",\n",
    "    \"code\",\n",
    "    \"family\",\n",
    "    \"sub-family\",\n",
    "    \"description\",\n",
    "    \"climatic zone\",\n",
    "    \"geologic zone\"\n",
    "    ])"
   ]
  },
  {
   "cell_type": "code",
   "execution_count": 7,
   "metadata": {
    "scrolled": true
   },
   "outputs": [
    {
     "data": {
      "text/html": [
       "<div>\n",
       "<style scoped>\n",
       "    .dataframe tbody tr th:only-of-type {\n",
       "        vertical-align: middle;\n",
       "    }\n",
       "\n",
       "    .dataframe tbody tr th {\n",
       "        vertical-align: top;\n",
       "    }\n",
       "\n",
       "    .dataframe thead th {\n",
       "        text-align: right;\n",
       "    }\n",
       "</style>\n",
       "<table border=\"1\" class=\"dataframe\">\n",
       "  <thead>\n",
       "    <tr style=\"text-align: right;\">\n",
       "      <th></th>\n",
       "      <th>Elevation</th>\n",
       "      <th>Slope</th>\n",
       "      <th>Horizontal_Distance_To_Hydrology</th>\n",
       "      <th>Hillshade_9am</th>\n",
       "      <th>Hillshade_3pm</th>\n",
       "      <th>Horizontal_Distance_To_Fire_Points</th>\n",
       "      <th>Cover_Type</th>\n",
       "      <th>GeoSoils</th>\n",
       "    </tr>\n",
       "  </thead>\n",
       "  <tbody>\n",
       "    <tr>\n",
       "      <th>0</th>\n",
       "      <td>2596</td>\n",
       "      <td>3</td>\n",
       "      <td>258</td>\n",
       "      <td>221</td>\n",
       "      <td>148</td>\n",
       "      <td>6279</td>\n",
       "      <td>5</td>\n",
       "      <td>1</td>\n",
       "    </tr>\n",
       "    <tr>\n",
       "      <th>1</th>\n",
       "      <td>2590</td>\n",
       "      <td>2</td>\n",
       "      <td>212</td>\n",
       "      <td>220</td>\n",
       "      <td>151</td>\n",
       "      <td>6225</td>\n",
       "      <td>5</td>\n",
       "      <td>1</td>\n",
       "    </tr>\n",
       "    <tr>\n",
       "      <th>2</th>\n",
       "      <td>2595</td>\n",
       "      <td>2</td>\n",
       "      <td>153</td>\n",
       "      <td>220</td>\n",
       "      <td>150</td>\n",
       "      <td>6172</td>\n",
       "      <td>5</td>\n",
       "      <td>1</td>\n",
       "    </tr>\n",
       "    <tr>\n",
       "      <th>3</th>\n",
       "      <td>2579</td>\n",
       "      <td>6</td>\n",
       "      <td>300</td>\n",
       "      <td>230</td>\n",
       "      <td>140</td>\n",
       "      <td>6031</td>\n",
       "      <td>2</td>\n",
       "      <td>1</td>\n",
       "    </tr>\n",
       "    <tr>\n",
       "      <th>4</th>\n",
       "      <td>2606</td>\n",
       "      <td>7</td>\n",
       "      <td>270</td>\n",
       "      <td>222</td>\n",
       "      <td>138</td>\n",
       "      <td>6256</td>\n",
       "      <td>5</td>\n",
       "      <td>1</td>\n",
       "    </tr>\n",
       "  </tbody>\n",
       "</table>\n",
       "</div>"
      ],
      "text/plain": [
       "   Elevation  Slope  Horizontal_Distance_To_Hydrology  Hillshade_9am  \\\n",
       "0       2596      3                               258            221   \n",
       "1       2590      2                               212            220   \n",
       "2       2595      2                               153            220   \n",
       "3       2579      6                               300            230   \n",
       "4       2606      7                               270            222   \n",
       "\n",
       "   Hillshade_3pm  Horizontal_Distance_To_Fire_Points  Cover_Type  GeoSoils  \n",
       "0            148                                6279           5         1  \n",
       "1            151                                6225           5         1  \n",
       "2            150                                6172           5         1  \n",
       "3            140                                6031           2         1  \n",
       "4            138                                6256           5         1  "
      ]
     },
     "execution_count": 7,
     "metadata": {},
     "output_type": "execute_result"
    }
   ],
   "source": [
    "# Show what the working dataset now looks like.\n",
    "CoverTypeDF.head()"
   ]
  },
  {
   "cell_type": "code",
   "execution_count": 8,
   "metadata": {},
   "outputs": [
    {
     "data": {
      "text/plain": [
       "Elevation                             int64\n",
       "Slope                                 int64\n",
       "Horizontal_Distance_To_Hydrology      int64\n",
       "Hillshade_9am                         int64\n",
       "Hillshade_3pm                         int64\n",
       "Horizontal_Distance_To_Fire_Points    int64\n",
       "Cover_Type                            int64\n",
       "GeoSoils                              int64\n",
       "dtype: object"
      ]
     },
     "execution_count": 8,
     "metadata": {},
     "output_type": "execute_result"
    }
   ],
   "source": [
    "# Check the data types for each line of data.\n",
    "CoverTypeDF.dtypes"
   ]
  },
  {
   "cell_type": "code",
   "execution_count": 9,
   "metadata": {},
   "outputs": [],
   "source": [
    "features_to_use = [\n",
    "#     \"Cover_Type\",\n",
    "    \"GeoSoils\",\n",
    "    \"Elevation\",  \n",
    "    \"Slope\", \n",
    "    \"Hillshade_9am\", \n",
    "    \"Hillshade_3pm\", \n",
    "    \"Horizontal_Distance_To_Hydrology\", \n",
    "    \"Horizontal_Distance_To_Fire_Points\",\n",
    "]"
   ]
  },
  {
   "cell_type": "markdown",
   "metadata": {},
   "source": [
    "#### Create 'X' which is the summarized dataframe from CoverTypeDF with the extracted data via 'features_to_use'."
   ]
  },
  {
   "cell_type": "code",
   "execution_count": 10,
   "metadata": {},
   "outputs": [],
   "source": [
    "X = CoverTypeDF[features_to_use]"
   ]
  },
  {
   "cell_type": "code",
   "execution_count": 11,
   "metadata": {},
   "outputs": [
    {
     "data": {
      "text/html": [
       "<div>\n",
       "<style scoped>\n",
       "    .dataframe tbody tr th:only-of-type {\n",
       "        vertical-align: middle;\n",
       "    }\n",
       "\n",
       "    .dataframe tbody tr th {\n",
       "        vertical-align: top;\n",
       "    }\n",
       "\n",
       "    .dataframe thead th {\n",
       "        text-align: right;\n",
       "    }\n",
       "</style>\n",
       "<table border=\"1\" class=\"dataframe\">\n",
       "  <thead>\n",
       "    <tr style=\"text-align: right;\">\n",
       "      <th></th>\n",
       "      <th>GeoSoils</th>\n",
       "      <th>Elevation</th>\n",
       "      <th>Slope</th>\n",
       "      <th>Hillshade_9am</th>\n",
       "      <th>Hillshade_3pm</th>\n",
       "      <th>Horizontal_Distance_To_Hydrology</th>\n",
       "      <th>Horizontal_Distance_To_Fire_Points</th>\n",
       "    </tr>\n",
       "  </thead>\n",
       "  <tbody>\n",
       "    <tr>\n",
       "      <th>0</th>\n",
       "      <td>1</td>\n",
       "      <td>2596</td>\n",
       "      <td>3</td>\n",
       "      <td>221</td>\n",
       "      <td>148</td>\n",
       "      <td>258</td>\n",
       "      <td>6279</td>\n",
       "    </tr>\n",
       "    <tr>\n",
       "      <th>1</th>\n",
       "      <td>1</td>\n",
       "      <td>2590</td>\n",
       "      <td>2</td>\n",
       "      <td>220</td>\n",
       "      <td>151</td>\n",
       "      <td>212</td>\n",
       "      <td>6225</td>\n",
       "    </tr>\n",
       "    <tr>\n",
       "      <th>2</th>\n",
       "      <td>1</td>\n",
       "      <td>2595</td>\n",
       "      <td>2</td>\n",
       "      <td>220</td>\n",
       "      <td>150</td>\n",
       "      <td>153</td>\n",
       "      <td>6172</td>\n",
       "    </tr>\n",
       "    <tr>\n",
       "      <th>3</th>\n",
       "      <td>1</td>\n",
       "      <td>2579</td>\n",
       "      <td>6</td>\n",
       "      <td>230</td>\n",
       "      <td>140</td>\n",
       "      <td>300</td>\n",
       "      <td>6031</td>\n",
       "    </tr>\n",
       "    <tr>\n",
       "      <th>4</th>\n",
       "      <td>1</td>\n",
       "      <td>2606</td>\n",
       "      <td>7</td>\n",
       "      <td>222</td>\n",
       "      <td>138</td>\n",
       "      <td>270</td>\n",
       "      <td>6256</td>\n",
       "    </tr>\n",
       "  </tbody>\n",
       "</table>\n",
       "</div>"
      ],
      "text/plain": [
       "   GeoSoils  Elevation  Slope  Hillshade_9am  Hillshade_3pm  \\\n",
       "0         1       2596      3            221            148   \n",
       "1         1       2590      2            220            151   \n",
       "2         1       2595      2            220            150   \n",
       "3         1       2579      6            230            140   \n",
       "4         1       2606      7            222            138   \n",
       "\n",
       "   Horizontal_Distance_To_Hydrology  Horizontal_Distance_To_Fire_Points  \n",
       "0                               258                                6279  \n",
       "1                               212                                6225  \n",
       "2                               153                                6172  \n",
       "3                               300                                6031  \n",
       "4                               270                                6256  "
      ]
     },
     "execution_count": 11,
     "metadata": {},
     "output_type": "execute_result"
    }
   ],
   "source": [
    "X.head()"
   ]
  },
  {
   "cell_type": "code",
   "execution_count": 12,
   "metadata": {
    "scrolled": true
   },
   "outputs": [],
   "source": [
    "# apply X to 'get_dummies' to get X_encoded\n",
    "X_encoded = pd.get_dummies(X)"
   ]
  },
  {
   "cell_type": "code",
   "execution_count": 13,
   "metadata": {},
   "outputs": [],
   "source": [
    "# specify what \"y\" is\n",
    "y = CoverTypeDF[[\"Cover_Type\"]]"
   ]
  },
  {
   "cell_type": "code",
   "execution_count": 14,
   "metadata": {},
   "outputs": [],
   "source": [
    "# create training and testing datasets for x and y.\n",
    "X_train, X_test, y_train, y_test = train_test_split(X_encoded[features_to_use], y)"
   ]
  },
  {
   "cell_type": "code",
   "execution_count": 15,
   "metadata": {},
   "outputs": [],
   "source": [
    "# normalize the X_train and X_test\n",
    "sds = StandardScaler()\n",
    "sds.fit(X_train)\n",
    "X_train = sds.transform(X_train)\n",
    "X_test = sds.transform(X_test)"
   ]
  },
  {
   "cell_type": "code",
   "execution_count": 16,
   "metadata": {},
   "outputs": [
    {
     "ename": "ValueError",
     "evalue": "multiclass format is not supported",
     "output_type": "error",
     "traceback": [
      "\u001b[0;31m---------------------------------------------------------------------------\u001b[0m",
      "\u001b[0;31mValueError\u001b[0m                                Traceback (most recent call last)",
      "\u001b[0;32m<ipython-input-16-1185de01b9b6>\u001b[0m in \u001b[0;36m<module>\u001b[0;34m()\u001b[0m\n\u001b[1;32m      9\u001b[0m \u001b[0;34m\u001b[0m\u001b[0m\n\u001b[1;32m     10\u001b[0m     \u001b[0mypred\u001b[0m \u001b[0;34m=\u001b[0m \u001b[0mclf\u001b[0m\u001b[0;34m.\u001b[0m\u001b[0mpredict\u001b[0m\u001b[0;34m(\u001b[0m\u001b[0mX_test\u001b[0m\u001b[0;34m)\u001b[0m\u001b[0;34m\u001b[0m\u001b[0m\n\u001b[0;32m---> 11\u001b[0;31m     \u001b[0mscores\u001b[0m \u001b[0;34m=\u001b[0m \u001b[0mroc_auc_score\u001b[0m\u001b[0;34m(\u001b[0m\u001b[0my_test\u001b[0m\u001b[0;34m,\u001b[0m \u001b[0mypred\u001b[0m\u001b[0;34m)\u001b[0m\u001b[0;34m\u001b[0m\u001b[0m\n\u001b[0m\u001b[1;32m     12\u001b[0m \u001b[0;34m\u001b[0m\u001b[0m\n\u001b[1;32m     13\u001b[0m     \u001b[0mprint\u001b[0m\u001b[0;34m(\u001b[0m\u001b[0;34mf\"Decision tree {i+1} took {t1-t0} seconds to train and got a score of {scores}\"\u001b[0m\u001b[0;34m)\u001b[0m\u001b[0;34m\u001b[0m\u001b[0m\n",
      "\u001b[0;32m~/anaconda3/lib/python3.6/site-packages/sklearn/metrics/ranking.py\u001b[0m in \u001b[0;36mroc_auc_score\u001b[0;34m(y_true, y_score, average, sample_weight)\u001b[0m\n\u001b[1;32m    275\u001b[0m     return _average_binary_score(\n\u001b[1;32m    276\u001b[0m         \u001b[0m_binary_roc_auc_score\u001b[0m\u001b[0;34m,\u001b[0m \u001b[0my_true\u001b[0m\u001b[0;34m,\u001b[0m \u001b[0my_score\u001b[0m\u001b[0;34m,\u001b[0m \u001b[0maverage\u001b[0m\u001b[0;34m,\u001b[0m\u001b[0;34m\u001b[0m\u001b[0m\n\u001b[0;32m--> 277\u001b[0;31m         sample_weight=sample_weight)\n\u001b[0m\u001b[1;32m    278\u001b[0m \u001b[0;34m\u001b[0m\u001b[0m\n\u001b[1;32m    279\u001b[0m \u001b[0;34m\u001b[0m\u001b[0m\n",
      "\u001b[0;32m~/anaconda3/lib/python3.6/site-packages/sklearn/metrics/base.py\u001b[0m in \u001b[0;36m_average_binary_score\u001b[0;34m(binary_metric, y_true, y_score, average, sample_weight)\u001b[0m\n\u001b[1;32m     70\u001b[0m     \u001b[0my_type\u001b[0m \u001b[0;34m=\u001b[0m \u001b[0mtype_of_target\u001b[0m\u001b[0;34m(\u001b[0m\u001b[0my_true\u001b[0m\u001b[0;34m)\u001b[0m\u001b[0;34m\u001b[0m\u001b[0m\n\u001b[1;32m     71\u001b[0m     \u001b[0;32mif\u001b[0m \u001b[0my_type\u001b[0m \u001b[0;32mnot\u001b[0m \u001b[0;32min\u001b[0m \u001b[0;34m(\u001b[0m\u001b[0;34m\"binary\"\u001b[0m\u001b[0;34m,\u001b[0m \u001b[0;34m\"multilabel-indicator\"\u001b[0m\u001b[0;34m)\u001b[0m\u001b[0;34m:\u001b[0m\u001b[0;34m\u001b[0m\u001b[0m\n\u001b[0;32m---> 72\u001b[0;31m         \u001b[0;32mraise\u001b[0m \u001b[0mValueError\u001b[0m\u001b[0;34m(\u001b[0m\u001b[0;34m\"{0} format is not supported\"\u001b[0m\u001b[0;34m.\u001b[0m\u001b[0mformat\u001b[0m\u001b[0;34m(\u001b[0m\u001b[0my_type\u001b[0m\u001b[0;34m)\u001b[0m\u001b[0;34m)\u001b[0m\u001b[0;34m\u001b[0m\u001b[0m\n\u001b[0m\u001b[1;32m     73\u001b[0m \u001b[0;34m\u001b[0m\u001b[0m\n\u001b[1;32m     74\u001b[0m     \u001b[0;32mif\u001b[0m \u001b[0my_type\u001b[0m \u001b[0;34m==\u001b[0m \u001b[0;34m\"binary\"\u001b[0m\u001b[0;34m:\u001b[0m\u001b[0;34m\u001b[0m\u001b[0m\n",
      "\u001b[0;31mValueError\u001b[0m: multiclass format is not supported"
     ]
    }
   ],
   "source": [
    "# apply training dataset to see if the DecisionTree Classifier is able to predict features.\n",
    "for i in range(5):\n",
    "    \n",
    "    t0 = time.time()\n",
    "    clf = DecisionTreeClassifier()\n",
    "    \n",
    "    clf.fit(X_train, y_train)\n",
    "    t1 = time.time()\n",
    "    \n",
    "    ypred = clf.predict(X_test)\n",
    "    scores = roc_auc_score(y_test, ypred)\n",
    "    \n",
    "    print(f\"Decision tree {i+1} took {t1-t0} seconds to train and got a score of {scores}\")\n",
    "    print()\n",
    "    print(\"And here are the top features: \")\n",
    "    c = X_encoded.columns \n",
    "    for cfi in zip(c, clf.feature_importances_):\n",
    "        print(cfi)\n",
    "    print()"
   ]
  },
  {
   "cell_type": "markdown",
   "metadata": {},
   "source": [
    "#### After trying to run the Decision Tree Classifier on main Dataframe - the results come back with \"ValueError: multiclass format is not supported\". Now is the time to separate Cover_Type out into separate columns with values of '1' or '0' in order to allow for binary values for each covertype and re-run for each."
   ]
  },
  {
   "cell_type": "code",
   "execution_count": 17,
   "metadata": {},
   "outputs": [],
   "source": [
    "CoverTypeDF['Y1'] = CoverTypeDF.Cover_Type.apply(lambda x: 1 if x == 1 else 0)\n",
    "CoverTypeDF['Y2'] = CoverTypeDF.Cover_Type.apply(lambda x: 1 if x == 2 else 0)\n",
    "CoverTypeDF['Y3'] = CoverTypeDF.Cover_Type.apply(lambda x: 1 if x == 3 else 0)\n",
    "CoverTypeDF['Y4'] = CoverTypeDF.Cover_Type.apply(lambda x: 1 if x == 4 else 0)\n",
    "CoverTypeDF['Y5'] = CoverTypeDF.Cover_Type.apply(lambda x: 1 if x == 5 else 0)\n",
    "CoverTypeDF['Y6'] = CoverTypeDF.Cover_Type.apply(lambda x: 1 if x == 6 else 0)\n",
    "CoverTypeDF['Y7'] = CoverTypeDF.Cover_Type.apply(lambda x: 1 if x == 7 else 0)"
   ]
  },
  {
   "cell_type": "code",
   "execution_count": 18,
   "metadata": {},
   "outputs": [],
   "source": [
    "# export new dataframe to csv to preserve data.\n",
    "CoverTypeCSV = CoverTypeDF.to_csv(\"Data/CovTypeDF.csv\")"
   ]
  },
  {
   "cell_type": "code",
   "execution_count": 19,
   "metadata": {},
   "outputs": [
    {
     "data": {
      "text/html": [
       "<div>\n",
       "<style scoped>\n",
       "    .dataframe tbody tr th:only-of-type {\n",
       "        vertical-align: middle;\n",
       "    }\n",
       "\n",
       "    .dataframe tbody tr th {\n",
       "        vertical-align: top;\n",
       "    }\n",
       "\n",
       "    .dataframe thead th {\n",
       "        text-align: right;\n",
       "    }\n",
       "</style>\n",
       "<table border=\"1\" class=\"dataframe\">\n",
       "  <thead>\n",
       "    <tr style=\"text-align: right;\">\n",
       "      <th></th>\n",
       "      <th>Elevation</th>\n",
       "      <th>Slope</th>\n",
       "      <th>Horizontal_Distance_To_Hydrology</th>\n",
       "      <th>Hillshade_9am</th>\n",
       "      <th>Hillshade_3pm</th>\n",
       "      <th>Horizontal_Distance_To_Fire_Points</th>\n",
       "      <th>Cover_Type</th>\n",
       "      <th>GeoSoils</th>\n",
       "      <th>Y1</th>\n",
       "      <th>Y2</th>\n",
       "      <th>Y3</th>\n",
       "      <th>Y4</th>\n",
       "      <th>Y5</th>\n",
       "      <th>Y6</th>\n",
       "      <th>Y7</th>\n",
       "    </tr>\n",
       "  </thead>\n",
       "  <tbody>\n",
       "    <tr>\n",
       "      <th>0</th>\n",
       "      <td>2596</td>\n",
       "      <td>3</td>\n",
       "      <td>258</td>\n",
       "      <td>221</td>\n",
       "      <td>148</td>\n",
       "      <td>6279</td>\n",
       "      <td>5</td>\n",
       "      <td>1</td>\n",
       "      <td>0</td>\n",
       "      <td>0</td>\n",
       "      <td>0</td>\n",
       "      <td>0</td>\n",
       "      <td>1</td>\n",
       "      <td>0</td>\n",
       "      <td>0</td>\n",
       "    </tr>\n",
       "    <tr>\n",
       "      <th>1</th>\n",
       "      <td>2590</td>\n",
       "      <td>2</td>\n",
       "      <td>212</td>\n",
       "      <td>220</td>\n",
       "      <td>151</td>\n",
       "      <td>6225</td>\n",
       "      <td>5</td>\n",
       "      <td>1</td>\n",
       "      <td>0</td>\n",
       "      <td>0</td>\n",
       "      <td>0</td>\n",
       "      <td>0</td>\n",
       "      <td>1</td>\n",
       "      <td>0</td>\n",
       "      <td>0</td>\n",
       "    </tr>\n",
       "    <tr>\n",
       "      <th>2</th>\n",
       "      <td>2595</td>\n",
       "      <td>2</td>\n",
       "      <td>153</td>\n",
       "      <td>220</td>\n",
       "      <td>150</td>\n",
       "      <td>6172</td>\n",
       "      <td>5</td>\n",
       "      <td>1</td>\n",
       "      <td>0</td>\n",
       "      <td>0</td>\n",
       "      <td>0</td>\n",
       "      <td>0</td>\n",
       "      <td>1</td>\n",
       "      <td>0</td>\n",
       "      <td>0</td>\n",
       "    </tr>\n",
       "    <tr>\n",
       "      <th>3</th>\n",
       "      <td>2579</td>\n",
       "      <td>6</td>\n",
       "      <td>300</td>\n",
       "      <td>230</td>\n",
       "      <td>140</td>\n",
       "      <td>6031</td>\n",
       "      <td>2</td>\n",
       "      <td>1</td>\n",
       "      <td>0</td>\n",
       "      <td>1</td>\n",
       "      <td>0</td>\n",
       "      <td>0</td>\n",
       "      <td>0</td>\n",
       "      <td>0</td>\n",
       "      <td>0</td>\n",
       "    </tr>\n",
       "    <tr>\n",
       "      <th>4</th>\n",
       "      <td>2606</td>\n",
       "      <td>7</td>\n",
       "      <td>270</td>\n",
       "      <td>222</td>\n",
       "      <td>138</td>\n",
       "      <td>6256</td>\n",
       "      <td>5</td>\n",
       "      <td>1</td>\n",
       "      <td>0</td>\n",
       "      <td>0</td>\n",
       "      <td>0</td>\n",
       "      <td>0</td>\n",
       "      <td>1</td>\n",
       "      <td>0</td>\n",
       "      <td>0</td>\n",
       "    </tr>\n",
       "  </tbody>\n",
       "</table>\n",
       "</div>"
      ],
      "text/plain": [
       "   Elevation  Slope  Horizontal_Distance_To_Hydrology  Hillshade_9am  \\\n",
       "0       2596      3                               258            221   \n",
       "1       2590      2                               212            220   \n",
       "2       2595      2                               153            220   \n",
       "3       2579      6                               300            230   \n",
       "4       2606      7                               270            222   \n",
       "\n",
       "   Hillshade_3pm  Horizontal_Distance_To_Fire_Points  Cover_Type  GeoSoils  \\\n",
       "0            148                                6279           5         1   \n",
       "1            151                                6225           5         1   \n",
       "2            150                                6172           5         1   \n",
       "3            140                                6031           2         1   \n",
       "4            138                                6256           5         1   \n",
       "\n",
       "   Y1  Y2  Y3  Y4  Y5  Y6  Y7  \n",
       "0   0   0   0   0   1   0   0  \n",
       "1   0   0   0   0   1   0   0  \n",
       "2   0   0   0   0   1   0   0  \n",
       "3   0   1   0   0   0   0   0  \n",
       "4   0   0   0   0   1   0   0  "
      ]
     },
     "execution_count": 19,
     "metadata": {},
     "output_type": "execute_result"
    }
   ],
   "source": [
    "CoverTypeDF.head()"
   ]
  },
  {
   "cell_type": "markdown",
   "metadata": {},
   "source": [
    "#### Re-do the same modeling process as above but now each CoverType needs to be done individually."
   ]
  },
  {
   "cell_type": "code",
   "execution_count": 20,
   "metadata": {},
   "outputs": [],
   "source": [
    "X = CoverTypeDF[features_to_use]"
   ]
  },
  {
   "cell_type": "code",
   "execution_count": 21,
   "metadata": {},
   "outputs": [],
   "source": [
    "y1 = CoverTypeDF[[\"Y1\"]]"
   ]
  },
  {
   "cell_type": "code",
   "execution_count": 22,
   "metadata": {
    "scrolled": true
   },
   "outputs": [
    {
     "data": {
      "text/html": [
       "<div>\n",
       "<style scoped>\n",
       "    .dataframe tbody tr th:only-of-type {\n",
       "        vertical-align: middle;\n",
       "    }\n",
       "\n",
       "    .dataframe tbody tr th {\n",
       "        vertical-align: top;\n",
       "    }\n",
       "\n",
       "    .dataframe thead th {\n",
       "        text-align: right;\n",
       "    }\n",
       "</style>\n",
       "<table border=\"1\" class=\"dataframe\">\n",
       "  <thead>\n",
       "    <tr style=\"text-align: right;\">\n",
       "      <th></th>\n",
       "      <th>GeoSoils</th>\n",
       "      <th>Elevation</th>\n",
       "      <th>Slope</th>\n",
       "      <th>Hillshade_9am</th>\n",
       "      <th>Hillshade_3pm</th>\n",
       "      <th>Horizontal_Distance_To_Hydrology</th>\n",
       "      <th>Horizontal_Distance_To_Fire_Points</th>\n",
       "    </tr>\n",
       "  </thead>\n",
       "  <tbody>\n",
       "    <tr>\n",
       "      <th>0</th>\n",
       "      <td>1</td>\n",
       "      <td>2596</td>\n",
       "      <td>3</td>\n",
       "      <td>221</td>\n",
       "      <td>148</td>\n",
       "      <td>258</td>\n",
       "      <td>6279</td>\n",
       "    </tr>\n",
       "    <tr>\n",
       "      <th>1</th>\n",
       "      <td>1</td>\n",
       "      <td>2590</td>\n",
       "      <td>2</td>\n",
       "      <td>220</td>\n",
       "      <td>151</td>\n",
       "      <td>212</td>\n",
       "      <td>6225</td>\n",
       "    </tr>\n",
       "    <tr>\n",
       "      <th>2</th>\n",
       "      <td>1</td>\n",
       "      <td>2595</td>\n",
       "      <td>2</td>\n",
       "      <td>220</td>\n",
       "      <td>150</td>\n",
       "      <td>153</td>\n",
       "      <td>6172</td>\n",
       "    </tr>\n",
       "    <tr>\n",
       "      <th>3</th>\n",
       "      <td>1</td>\n",
       "      <td>2579</td>\n",
       "      <td>6</td>\n",
       "      <td>230</td>\n",
       "      <td>140</td>\n",
       "      <td>300</td>\n",
       "      <td>6031</td>\n",
       "    </tr>\n",
       "    <tr>\n",
       "      <th>4</th>\n",
       "      <td>1</td>\n",
       "      <td>2606</td>\n",
       "      <td>7</td>\n",
       "      <td>222</td>\n",
       "      <td>138</td>\n",
       "      <td>270</td>\n",
       "      <td>6256</td>\n",
       "    </tr>\n",
       "  </tbody>\n",
       "</table>\n",
       "</div>"
      ],
      "text/plain": [
       "   GeoSoils  Elevation  Slope  Hillshade_9am  Hillshade_3pm  \\\n",
       "0         1       2596      3            221            148   \n",
       "1         1       2590      2            220            151   \n",
       "2         1       2595      2            220            150   \n",
       "3         1       2579      6            230            140   \n",
       "4         1       2606      7            222            138   \n",
       "\n",
       "   Horizontal_Distance_To_Hydrology  Horizontal_Distance_To_Fire_Points  \n",
       "0                               258                                6279  \n",
       "1                               212                                6225  \n",
       "2                               153                                6172  \n",
       "3                               300                                6031  \n",
       "4                               270                                6256  "
      ]
     },
     "execution_count": 22,
     "metadata": {},
     "output_type": "execute_result"
    }
   ],
   "source": [
    "X.head()"
   ]
  },
  {
   "cell_type": "code",
   "execution_count": 23,
   "metadata": {},
   "outputs": [
    {
     "data": {
      "text/html": [
       "<div>\n",
       "<style scoped>\n",
       "    .dataframe tbody tr th:only-of-type {\n",
       "        vertical-align: middle;\n",
       "    }\n",
       "\n",
       "    .dataframe tbody tr th {\n",
       "        vertical-align: top;\n",
       "    }\n",
       "\n",
       "    .dataframe thead th {\n",
       "        text-align: right;\n",
       "    }\n",
       "</style>\n",
       "<table border=\"1\" class=\"dataframe\">\n",
       "  <thead>\n",
       "    <tr style=\"text-align: right;\">\n",
       "      <th></th>\n",
       "      <th>Y1</th>\n",
       "    </tr>\n",
       "  </thead>\n",
       "  <tbody>\n",
       "    <tr>\n",
       "      <th>0</th>\n",
       "      <td>0</td>\n",
       "    </tr>\n",
       "    <tr>\n",
       "      <th>1</th>\n",
       "      <td>0</td>\n",
       "    </tr>\n",
       "    <tr>\n",
       "      <th>2</th>\n",
       "      <td>0</td>\n",
       "    </tr>\n",
       "    <tr>\n",
       "      <th>3</th>\n",
       "      <td>0</td>\n",
       "    </tr>\n",
       "    <tr>\n",
       "      <th>4</th>\n",
       "      <td>0</td>\n",
       "    </tr>\n",
       "  </tbody>\n",
       "</table>\n",
       "</div>"
      ],
      "text/plain": [
       "   Y1\n",
       "0   0\n",
       "1   0\n",
       "2   0\n",
       "3   0\n",
       "4   0"
      ]
     },
     "execution_count": 23,
     "metadata": {},
     "output_type": "execute_result"
    }
   ],
   "source": [
    "y1.head()"
   ]
  },
  {
   "cell_type": "code",
   "execution_count": 24,
   "metadata": {},
   "outputs": [],
   "source": [
    "X_encoded = pd.get_dummies(X)"
   ]
  },
  {
   "cell_type": "code",
   "execution_count": 25,
   "metadata": {},
   "outputs": [],
   "source": [
    "X_train1, X_test1, y_train1, y_test1 = train_test_split(X_encoded, y1)"
   ]
  },
  {
   "cell_type": "code",
   "execution_count": 26,
   "metadata": {},
   "outputs": [
    {
     "data": {
      "text/plain": [
       "((435759, 7), (145253, 7))"
      ]
     },
     "execution_count": 26,
     "metadata": {},
     "output_type": "execute_result"
    }
   ],
   "source": [
    "X_train1.shape, X_test1.shape"
   ]
  },
  {
   "cell_type": "code",
   "execution_count": 27,
   "metadata": {},
   "outputs": [
    {
     "data": {
      "text/html": [
       "<div>\n",
       "<style scoped>\n",
       "    .dataframe tbody tr th:only-of-type {\n",
       "        vertical-align: middle;\n",
       "    }\n",
       "\n",
       "    .dataframe tbody tr th {\n",
       "        vertical-align: top;\n",
       "    }\n",
       "\n",
       "    .dataframe thead th {\n",
       "        text-align: right;\n",
       "    }\n",
       "</style>\n",
       "<table border=\"1\" class=\"dataframe\">\n",
       "  <thead>\n",
       "    <tr style=\"text-align: right;\">\n",
       "      <th></th>\n",
       "      <th>GeoSoils</th>\n",
       "      <th>Elevation</th>\n",
       "      <th>Slope</th>\n",
       "      <th>Hillshade_9am</th>\n",
       "      <th>Hillshade_3pm</th>\n",
       "      <th>Horizontal_Distance_To_Hydrology</th>\n",
       "      <th>Horizontal_Distance_To_Fire_Points</th>\n",
       "    </tr>\n",
       "  </thead>\n",
       "  <tbody>\n",
       "    <tr>\n",
       "      <th>563543</th>\n",
       "      <td>1</td>\n",
       "      <td>2570</td>\n",
       "      <td>31</td>\n",
       "      <td>190</td>\n",
       "      <td>173</td>\n",
       "      <td>277</td>\n",
       "      <td>552</td>\n",
       "    </tr>\n",
       "    <tr>\n",
       "      <th>518738</th>\n",
       "      <td>1</td>\n",
       "      <td>2874</td>\n",
       "      <td>17</td>\n",
       "      <td>185</td>\n",
       "      <td>202</td>\n",
       "      <td>433</td>\n",
       "      <td>1698</td>\n",
       "    </tr>\n",
       "    <tr>\n",
       "      <th>380437</th>\n",
       "      <td>1</td>\n",
       "      <td>3004</td>\n",
       "      <td>18</td>\n",
       "      <td>195</td>\n",
       "      <td>141</td>\n",
       "      <td>532</td>\n",
       "      <td>1961</td>\n",
       "    </tr>\n",
       "    <tr>\n",
       "      <th>82733</th>\n",
       "      <td>1</td>\n",
       "      <td>3100</td>\n",
       "      <td>15</td>\n",
       "      <td>192</td>\n",
       "      <td>157</td>\n",
       "      <td>268</td>\n",
       "      <td>900</td>\n",
       "    </tr>\n",
       "    <tr>\n",
       "      <th>171299</th>\n",
       "      <td>1</td>\n",
       "      <td>3042</td>\n",
       "      <td>36</td>\n",
       "      <td>234</td>\n",
       "      <td>81</td>\n",
       "      <td>582</td>\n",
       "      <td>859</td>\n",
       "    </tr>\n",
       "  </tbody>\n",
       "</table>\n",
       "</div>"
      ],
      "text/plain": [
       "        GeoSoils  Elevation  Slope  Hillshade_9am  Hillshade_3pm  \\\n",
       "563543         1       2570     31            190            173   \n",
       "518738         1       2874     17            185            202   \n",
       "380437         1       3004     18            195            141   \n",
       "82733          1       3100     15            192            157   \n",
       "171299         1       3042     36            234             81   \n",
       "\n",
       "        Horizontal_Distance_To_Hydrology  Horizontal_Distance_To_Fire_Points  \n",
       "563543                               277                                 552  \n",
       "518738                               433                                1698  \n",
       "380437                               532                                1961  \n",
       "82733                                268                                 900  \n",
       "171299                               582                                 859  "
      ]
     },
     "execution_count": 27,
     "metadata": {},
     "output_type": "execute_result"
    }
   ],
   "source": [
    "X_train1.head()"
   ]
  },
  {
   "cell_type": "code",
   "execution_count": 28,
   "metadata": {},
   "outputs": [
    {
     "data": {
      "text/html": [
       "<div>\n",
       "<style scoped>\n",
       "    .dataframe tbody tr th:only-of-type {\n",
       "        vertical-align: middle;\n",
       "    }\n",
       "\n",
       "    .dataframe tbody tr th {\n",
       "        vertical-align: top;\n",
       "    }\n",
       "\n",
       "    .dataframe thead th {\n",
       "        text-align: right;\n",
       "    }\n",
       "</style>\n",
       "<table border=\"1\" class=\"dataframe\">\n",
       "  <thead>\n",
       "    <tr style=\"text-align: right;\">\n",
       "      <th></th>\n",
       "      <th>GeoSoils</th>\n",
       "      <th>Elevation</th>\n",
       "      <th>Slope</th>\n",
       "      <th>Hillshade_9am</th>\n",
       "      <th>Hillshade_3pm</th>\n",
       "      <th>Horizontal_Distance_To_Hydrology</th>\n",
       "      <th>Horizontal_Distance_To_Fire_Points</th>\n",
       "      <th>Y1</th>\n",
       "    </tr>\n",
       "  </thead>\n",
       "  <tbody>\n",
       "    <tr>\n",
       "      <th>563543</th>\n",
       "      <td>1</td>\n",
       "      <td>2570</td>\n",
       "      <td>31</td>\n",
       "      <td>190</td>\n",
       "      <td>173</td>\n",
       "      <td>277</td>\n",
       "      <td>552</td>\n",
       "      <td>0</td>\n",
       "    </tr>\n",
       "    <tr>\n",
       "      <th>518738</th>\n",
       "      <td>1</td>\n",
       "      <td>2874</td>\n",
       "      <td>17</td>\n",
       "      <td>185</td>\n",
       "      <td>202</td>\n",
       "      <td>433</td>\n",
       "      <td>1698</td>\n",
       "      <td>0</td>\n",
       "    </tr>\n",
       "    <tr>\n",
       "      <th>380437</th>\n",
       "      <td>1</td>\n",
       "      <td>3004</td>\n",
       "      <td>18</td>\n",
       "      <td>195</td>\n",
       "      <td>141</td>\n",
       "      <td>532</td>\n",
       "      <td>1961</td>\n",
       "      <td>0</td>\n",
       "    </tr>\n",
       "    <tr>\n",
       "      <th>82733</th>\n",
       "      <td>1</td>\n",
       "      <td>3100</td>\n",
       "      <td>15</td>\n",
       "      <td>192</td>\n",
       "      <td>157</td>\n",
       "      <td>268</td>\n",
       "      <td>900</td>\n",
       "      <td>1</td>\n",
       "    </tr>\n",
       "    <tr>\n",
       "      <th>171299</th>\n",
       "      <td>1</td>\n",
       "      <td>3042</td>\n",
       "      <td>36</td>\n",
       "      <td>234</td>\n",
       "      <td>81</td>\n",
       "      <td>582</td>\n",
       "      <td>859</td>\n",
       "      <td>0</td>\n",
       "    </tr>\n",
       "  </tbody>\n",
       "</table>\n",
       "</div>"
      ],
      "text/plain": [
       "        GeoSoils  Elevation  Slope  Hillshade_9am  Hillshade_3pm  \\\n",
       "563543         1       2570     31            190            173   \n",
       "518738         1       2874     17            185            202   \n",
       "380437         1       3004     18            195            141   \n",
       "82733          1       3100     15            192            157   \n",
       "171299         1       3042     36            234             81   \n",
       "\n",
       "        Horizontal_Distance_To_Hydrology  Horizontal_Distance_To_Fire_Points  \\\n",
       "563543                               277                                 552   \n",
       "518738                               433                                1698   \n",
       "380437                               532                                1961   \n",
       "82733                                268                                 900   \n",
       "171299                               582                                 859   \n",
       "\n",
       "        Y1  \n",
       "563543   0  \n",
       "518738   0  \n",
       "380437   0  \n",
       "82733    1  \n",
       "171299   0  "
      ]
     },
     "execution_count": 28,
     "metadata": {},
     "output_type": "execute_result"
    }
   ],
   "source": [
    "pd.concat([X_train1, y_train1], axis=1).head()"
   ]
  },
  {
   "cell_type": "code",
   "execution_count": 29,
   "metadata": {},
   "outputs": [],
   "source": [
    "sds1 = StandardScaler()\n",
    "sds1.fit(X_train1)\n",
    "X_train1 = sds1.transform(X_train1)\n",
    "X_test1 = sds1.transform(X_test1)"
   ]
  },
  {
   "cell_type": "markdown",
   "metadata": {},
   "source": [
    "## Decision Tree Classifier"
   ]
  },
  {
   "cell_type": "markdown",
   "metadata": {},
   "source": [
    "#### Apply Decision Tree Classifier to all 7 Cover Types\n",
    "\n",
    "1 -- Spruce/Fir\n",
    "2 -- Lodgepole Pine\n",
    "3 -- Ponderosa Pine\n",
    "4 -- Cottonwood/Willow\n",
    "5 -- Aspen\n",
    "6 -- Douglas-fir\n",
    "7 -- Krummholz"
   ]
  },
  {
   "cell_type": "code",
   "execution_count": 30,
   "metadata": {},
   "outputs": [
    {
     "name": "stdout",
     "output_type": "stream",
     "text": [
      "Decision tree 1 took 3.0873427391052246 seconds to train and got a score of 0.8753876176487871\n",
      "\n",
      "And here are the top features: \n",
      "('GeoSoils', 0.03062287972119335)\n",
      "('Elevation', 0.389626723051759)\n",
      "('Slope', 0.06380024819540583)\n",
      "('Hillshade_9am', 0.08587252646699137)\n",
      "('Hillshade_3pm', 0.09474595013348393)\n",
      "('Horizontal_Distance_To_Hydrology', 0.11755963753752581)\n",
      "('Horizontal_Distance_To_Fire_Points', 0.2177720348936407)\n",
      "\n",
      "Decision tree 2 took 2.9424190521240234 seconds to train and got a score of 0.8750719892330433\n",
      "\n",
      "And here are the top features: \n",
      "('GeoSoils', 0.0305925853030078)\n",
      "('Elevation', 0.3895651024992156)\n",
      "('Slope', 0.06345868329576553)\n",
      "('Hillshade_9am', 0.08539641551192034)\n",
      "('Hillshade_3pm', 0.09511015566761624)\n",
      "('Horizontal_Distance_To_Hydrology', 0.11692441749622978)\n",
      "('Horizontal_Distance_To_Fire_Points', 0.2189526402262446)\n",
      "\n",
      "Decision tree 3 took 2.9670190811157227 seconds to train and got a score of 0.8744598141549403\n",
      "\n",
      "And here are the top features: \n",
      "('GeoSoils', 0.030635126649192164)\n",
      "('Elevation', 0.39013296018625976)\n",
      "('Slope', 0.06303037294552087)\n",
      "('Hillshade_9am', 0.08566379489311286)\n",
      "('Hillshade_3pm', 0.09482492699426188)\n",
      "('Horizontal_Distance_To_Hydrology', 0.11745842322653065)\n",
      "('Horizontal_Distance_To_Fire_Points', 0.2182543951051218)\n",
      "\n",
      "Decision tree 4 took 2.8534891605377197 seconds to train and got a score of 0.8752696845868181\n",
      "\n",
      "And here are the top features: \n",
      "('GeoSoils', 0.030606808126821837)\n",
      "('Elevation', 0.38988370317848076)\n",
      "('Slope', 0.06321190676113023)\n",
      "('Hillshade_9am', 0.08631863496470614)\n",
      "('Hillshade_3pm', 0.09424488906396325)\n",
      "('Horizontal_Distance_To_Hydrology', 0.11743957595976605)\n",
      "('Horizontal_Distance_To_Fire_Points', 0.2182944819451317)\n",
      "\n",
      "Decision tree 5 took 2.835704803466797 seconds to train and got a score of 0.8753218661363222\n",
      "\n",
      "And here are the top features: \n",
      "('GeoSoils', 0.030663815081907353)\n",
      "('Elevation', 0.3902160599855499)\n",
      "('Slope', 0.06310346032465622)\n",
      "('Hillshade_9am', 0.08595851705022575)\n",
      "('Hillshade_3pm', 0.0942675776759645)\n",
      "('Horizontal_Distance_To_Hydrology', 0.11701353642113381)\n",
      "('Horizontal_Distance_To_Fire_Points', 0.21877703346056243)\n",
      "\n"
     ]
    }
   ],
   "source": [
    "# Cover-Type 1: Spruce/Fir\n",
    "\n",
    "for i in range(5):\n",
    "    \n",
    "    t0 = time.time()\n",
    "    clf = DecisionTreeClassifier()\n",
    "    \n",
    "    clf.fit(X_train1, y_train1)\n",
    "    t1 = time.time()\n",
    "    \n",
    "    ypred1 = clf.predict(X_test1)\n",
    "    scores1 = roc_auc_score(y_test1, ypred1)\n",
    "    \n",
    "    print(f\"Decision tree {i+1} took {t1-t0} seconds to train and got a score of {scores1}\")\n",
    "    print()\n",
    "    print(\"And here are the top features: \")\n",
    "    c = X_encoded.columns \n",
    "    for cfi in zip(c, clf.feature_importances_):\n",
    "        print(cfi)\n",
    "    print()"
   ]
  },
  {
   "cell_type": "markdown",
   "metadata": {},
   "source": [
    "#### For Type 2 Covertypes - Lodgepole Pine"
   ]
  },
  {
   "cell_type": "code",
   "execution_count": 31,
   "metadata": {},
   "outputs": [
    {
     "name": "stdout",
     "output_type": "stream",
     "text": [
      "Decision tree 1 took 3.1286537647247314 seconds to train and got a score of 0.8630051944840021\n",
      "\n",
      "And here are the top features: \n",
      "('GeoSoils', 0.02687559381987963)\n",
      "('Elevation', 0.39015302016645287)\n",
      "('Slope', 0.06732609293827077)\n",
      "('Hillshade_9am', 0.08878679105715029)\n",
      "('Hillshade_3pm', 0.09351728923052881)\n",
      "('Horizontal_Distance_To_Hydrology', 0.1181111126466284)\n",
      "('Horizontal_Distance_To_Fire_Points', 0.2152301001410892)\n",
      "\n",
      "Decision tree 2 took 3.0704634189605713 seconds to train and got a score of 0.8628821045729956\n",
      "\n",
      "And here are the top features: \n",
      "('GeoSoils', 0.026749000835882466)\n",
      "('Elevation', 0.3904480976313324)\n",
      "('Slope', 0.06684432363793755)\n",
      "('Hillshade_9am', 0.08936940192219828)\n",
      "('Hillshade_3pm', 0.09351131305153096)\n",
      "('Horizontal_Distance_To_Hydrology', 0.1177409065918153)\n",
      "('Horizontal_Distance_To_Fire_Points', 0.21533695632930303)\n",
      "\n",
      "Decision tree 3 took 2.9480550289154053 seconds to train and got a score of 0.8629525611223631\n",
      "\n",
      "And here are the top features: \n",
      "('GeoSoils', 0.026793240219432284)\n",
      "('Elevation', 0.3901273349642247)\n",
      "('Slope', 0.06715929059698758)\n",
      "('Hillshade_9am', 0.08947429472072196)\n",
      "('Hillshade_3pm', 0.09280800163175705)\n",
      "('Horizontal_Distance_To_Hydrology', 0.11863083063166908)\n",
      "('Horizontal_Distance_To_Fire_Points', 0.21500700723520744)\n",
      "\n",
      "Decision tree 4 took 3.0566141605377197 seconds to train and got a score of 0.8631110167145124\n",
      "\n",
      "And here are the top features: \n",
      "('GeoSoils', 0.02682570251213756)\n",
      "('Elevation', 0.3897573144137502)\n",
      "('Slope', 0.0671292064892619)\n",
      "('Hillshade_9am', 0.08923317289898676)\n",
      "('Hillshade_3pm', 0.0934951289359596)\n",
      "('Horizontal_Distance_To_Hydrology', 0.11802130903206982)\n",
      "('Horizontal_Distance_To_Fire_Points', 0.21553816571783416)\n",
      "\n",
      "Decision tree 5 took 2.9841911792755127 seconds to train and got a score of 0.8631822080587946\n",
      "\n",
      "And here are the top features: \n",
      "('GeoSoils', 0.02674008708151995)\n",
      "('Elevation', 0.39023105074736136)\n",
      "('Slope', 0.06674688151086854)\n",
      "('Hillshade_9am', 0.08935098081879417)\n",
      "('Hillshade_3pm', 0.09349593676501054)\n",
      "('Horizontal_Distance_To_Hydrology', 0.1182782496879188)\n",
      "('Horizontal_Distance_To_Fire_Points', 0.21515681338852666)\n",
      "\n"
     ]
    }
   ],
   "source": [
    "y2 = CoverTypeDF[[\"Y2\"]]\n",
    "X_train2, X_test2, y_train2, y_test2 = train_test_split(X_encoded, y2)\n",
    "pd.concat([X_train2, y_train2], axis=1)\n",
    "\n",
    "# normalizer\n",
    "sds2 = StandardScaler()\n",
    "sds2.fit(X_train2)\n",
    "X_train2 = sds2.transform(X_train2)\n",
    "X_test2 = sds2.transform(X_test2)\n",
    "\n",
    "for i in range(5):\n",
    "    \n",
    "    t0 = time.time()\n",
    "    clf = DecisionTreeClassifier()\n",
    "    \n",
    "    clf.fit(X_train2, y_train2)\n",
    "    t1 = time.time()\n",
    "    \n",
    "    ypred2 = clf.predict(X_test2)\n",
    "    scores2 = roc_auc_score(y_test2, ypred2)\n",
    "    \n",
    "    print(f\"Decision tree {i+1} took {t1-t0} seconds to train and got a score of {scores2}\")\n",
    "    print()\n",
    "    print(\"And here are the top features: \")\n",
    "    c = X_encoded.columns \n",
    "    for cfi in zip(c, clf.feature_importances_):\n",
    "        print(cfi)\n",
    "    print()"
   ]
  },
  {
   "cell_type": "markdown",
   "metadata": {},
   "source": [
    "#### For Type 3 Covertypes - Ponderosa Pine"
   ]
  },
  {
   "cell_type": "code",
   "execution_count": 32,
   "metadata": {},
   "outputs": [
    {
     "name": "stdout",
     "output_type": "stream",
     "text": [
      "Decision tree 1 took 1.4681599140167236 seconds to train and got a score of 0.8962617468472518\n",
      "\n",
      "And here are the top features: \n",
      "('GeoSoils', 0.01140019300958032)\n",
      "('Elevation', 0.5176137925444374)\n",
      "('Slope', 0.0614549788962319)\n",
      "('Hillshade_9am', 0.08327621196334187)\n",
      "('Hillshade_3pm', 0.07705076364545738)\n",
      "('Horizontal_Distance_To_Hydrology', 0.09434765396137997)\n",
      "('Horizontal_Distance_To_Fire_Points', 0.15485640597957118)\n",
      "\n",
      "Decision tree 2 took 1.4363319873809814 seconds to train and got a score of 0.8957765755608414\n",
      "\n",
      "And here are the top features: \n",
      "('GeoSoils', 0.011448190090809067)\n",
      "('Elevation', 0.5172987171660608)\n",
      "('Slope', 0.06070656920188194)\n",
      "('Hillshade_9am', 0.08355270786135047)\n",
      "('Hillshade_3pm', 0.07654002368768077)\n",
      "('Horizontal_Distance_To_Hydrology', 0.09473860695960998)\n",
      "('Horizontal_Distance_To_Fire_Points', 0.1557151850326071)\n",
      "\n",
      "Decision tree 3 took 1.4262299537658691 seconds to train and got a score of 0.8971419921007134\n",
      "\n",
      "And here are the top features: \n",
      "('GeoSoils', 0.011385875424785964)\n",
      "('Elevation', 0.5178265301584454)\n",
      "('Slope', 0.06118122841656495)\n",
      "('Hillshade_9am', 0.08311898470481634)\n",
      "('Hillshade_3pm', 0.0764891219416615)\n",
      "('Horizontal_Distance_To_Hydrology', 0.0942828464697267)\n",
      "('Horizontal_Distance_To_Fire_Points', 0.15571541288399907)\n",
      "\n",
      "Decision tree 4 took 1.4498498439788818 seconds to train and got a score of 0.897895114993646\n",
      "\n",
      "And here are the top features: \n",
      "('GeoSoils', 0.0114191707147053)\n",
      "('Elevation', 0.5181671750052825)\n",
      "('Slope', 0.0604315034260202)\n",
      "('Hillshade_9am', 0.08329556162302208)\n",
      "('Hillshade_3pm', 0.07663633628751926)\n",
      "('Horizontal_Distance_To_Hydrology', 0.09477101185107335)\n",
      "('Horizontal_Distance_To_Fire_Points', 0.15527924109237715)\n",
      "\n",
      "Decision tree 5 took 1.4473180770874023 seconds to train and got a score of 0.8964093220074306\n",
      "\n",
      "And here are the top features: \n",
      "('GeoSoils', 0.011548756803072399)\n",
      "('Elevation', 0.5180371603341224)\n",
      "('Slope', 0.05947750099156111)\n",
      "('Hillshade_9am', 0.08372807379145618)\n",
      "('Hillshade_3pm', 0.07677272190332352)\n",
      "('Horizontal_Distance_To_Hydrology', 0.09472397902794824)\n",
      "('Horizontal_Distance_To_Fire_Points', 0.15571180714851612)\n",
      "\n"
     ]
    }
   ],
   "source": [
    "y3 = CoverTypeDF[[\"Y3\"]]\n",
    "X_train3, X_test3, y_train3, y_test3 = train_test_split(X_encoded, y3)\n",
    "pd.concat([X_train3, y_train3], axis=1)\n",
    "\n",
    "# normalizer\n",
    "sds3 = StandardScaler()\n",
    "sds3.fit(X_train3)\n",
    "X_train3 = sds3.transform(X_train3)\n",
    "X_test3 = sds3.transform(X_test3)\n",
    "\n",
    "for i in range(5):\n",
    "    \n",
    "    t0 = time.time()\n",
    "    clf = DecisionTreeClassifier()\n",
    "    \n",
    "    clf.fit(X_train3, y_train3)\n",
    "    t1 = time.time()\n",
    "    \n",
    "    ypred3 = clf.predict(X_test3)\n",
    "    scores3 = roc_auc_score(y_test3, ypred3)\n",
    "    \n",
    "    print(f\"Decision tree {i+1} took {t1-t0} seconds to train and got a score of {scores3}\")\n",
    "    print()\n",
    "    print(\"And here are the top features: \")\n",
    "    c = X_encoded.columns \n",
    "    for cfi in zip(c, clf.feature_importances_):\n",
    "        print(cfi)\n",
    "    print()"
   ]
  },
  {
   "cell_type": "markdown",
   "metadata": {},
   "source": [
    "#### For Type 4 Covertypes - Cottonwood/Willow"
   ]
  },
  {
   "cell_type": "code",
   "execution_count": 33,
   "metadata": {},
   "outputs": [
    {
     "name": "stdout",
     "output_type": "stream",
     "text": [
      "Decision tree 1 took 0.7264788150787354 seconds to train and got a score of 0.865262448263873\n",
      "\n",
      "And here are the top features: \n",
      "('GeoSoils', 0.020500367033715862)\n",
      "('Elevation', 0.27442744067111063)\n",
      "('Slope', 0.06615252873370583)\n",
      "('Hillshade_9am', 0.15026675762245828)\n",
      "('Hillshade_3pm', 0.07275429000604731)\n",
      "('Horizontal_Distance_To_Hydrology', 0.2270377374044883)\n",
      "('Horizontal_Distance_To_Fire_Points', 0.18886087852847366)\n",
      "\n",
      "Decision tree 2 took 0.722200870513916 seconds to train and got a score of 0.8675628393930801\n",
      "\n",
      "And here are the top features: \n",
      "('GeoSoils', 0.01955349063739275)\n",
      "('Elevation', 0.2783057267548142)\n",
      "('Slope', 0.062465875138841206)\n",
      "('Hillshade_9am', 0.1499358445488427)\n",
      "('Hillshade_3pm', 0.0733965024309303)\n",
      "('Horizontal_Distance_To_Hydrology', 0.2277783560431753)\n",
      "('Horizontal_Distance_To_Fire_Points', 0.18856420444600344)\n",
      "\n",
      "Decision tree 3 took 0.7413451671600342 seconds to train and got a score of 0.8629897209911457\n",
      "\n",
      "And here are the top features: \n",
      "('GeoSoils', 0.020466547823508856)\n",
      "('Elevation', 0.27883504912119306)\n",
      "('Slope', 0.06681192833010813)\n",
      "('Hillshade_9am', 0.14888562970804883)\n",
      "('Hillshade_3pm', 0.07272271902119838)\n",
      "('Horizontal_Distance_To_Hydrology', 0.23010596085424653)\n",
      "('Horizontal_Distance_To_Fire_Points', 0.18217216514169626)\n",
      "\n",
      "Decision tree 4 took 0.7699120044708252 seconds to train and got a score of 0.871333428270659\n",
      "\n",
      "And here are the top features: \n",
      "('GeoSoils', 0.019395009206652224)\n",
      "('Elevation', 0.27577173047731096)\n",
      "('Slope', 0.06726537549377937)\n",
      "('Hillshade_9am', 0.1497615467985702)\n",
      "('Hillshade_3pm', 0.07003932070168191)\n",
      "('Horizontal_Distance_To_Hydrology', 0.23038791041807874)\n",
      "('Horizontal_Distance_To_Fire_Points', 0.1873791069039267)\n",
      "\n",
      "Decision tree 5 took 0.734382152557373 seconds to train and got a score of 0.8629966369552656\n",
      "\n",
      "And here are the top features: \n",
      "('GeoSoils', 0.01935402757085495)\n",
      "('Elevation', 0.2777701008714762)\n",
      "('Slope', 0.06769662882421229)\n",
      "('Hillshade_9am', 0.14819996995585602)\n",
      "('Hillshade_3pm', 0.0745758700374952)\n",
      "('Horizontal_Distance_To_Hydrology', 0.22893334725033562)\n",
      "('Horizontal_Distance_To_Fire_Points', 0.18347005548976975)\n",
      "\n"
     ]
    }
   ],
   "source": [
    "y4 = CoverTypeDF[[\"Y4\"]]\n",
    "X_train4, X_test4, y_train4, y_test4 = train_test_split(X_encoded, y4)\n",
    "pd.concat([X_train4, y_train4], axis=1)\n",
    "\n",
    "# normalizer\n",
    "sds4 = StandardScaler()\n",
    "sds4.fit(X_train4)\n",
    "X_train4 = sds4.transform(X_train4)\n",
    "X_test4 = sds4.transform(X_test4)\n",
    "\n",
    "for i in range(5):\n",
    "    \n",
    "    t0 = time.time()\n",
    "    clf = DecisionTreeClassifier()\n",
    "    \n",
    "    clf.fit(X_train4, y_train4)\n",
    "    t1 = time.time()\n",
    "    \n",
    "    ypred4 = clf.predict(X_test4)\n",
    "    scores4 = roc_auc_score(y_test4, ypred4)\n",
    "    \n",
    "    print(f\"Decision tree {i+1} took {t1-t0} seconds to train and got a score of {scores4}\")\n",
    "    print()\n",
    "    print(\"And here are the top features: \")\n",
    "    c = X_encoded.columns \n",
    "    for cfi in zip(c, clf.feature_importances_):\n",
    "        print(cfi)\n",
    "    print()"
   ]
  },
  {
   "cell_type": "markdown",
   "metadata": {},
   "source": [
    "#### For Type 5 Covertypes - Aspen"
   ]
  },
  {
   "cell_type": "code",
   "execution_count": 34,
   "metadata": {},
   "outputs": [
    {
     "name": "stdout",
     "output_type": "stream",
     "text": [
      "Decision tree 1 took 1.282268762588501 seconds to train and got a score of 0.7956714270860867\n",
      "\n",
      "And here are the top features: \n",
      "('GeoSoils', 0.01073602393342606)\n",
      "('Elevation', 0.2340919559579985)\n",
      "('Slope', 0.09278603644804306)\n",
      "('Hillshade_9am', 0.10552128552229399)\n",
      "('Hillshade_3pm', 0.13927576487427082)\n",
      "('Horizontal_Distance_To_Hydrology', 0.16910843740131135)\n",
      "('Horizontal_Distance_To_Fire_Points', 0.24848049586265608)\n",
      "\n",
      "Decision tree 2 took 1.2998650074005127 seconds to train and got a score of 0.7987801651439596\n",
      "\n",
      "And here are the top features: \n",
      "('GeoSoils', 0.010835201599149876)\n",
      "('Elevation', 0.2347585546135082)\n",
      "('Slope', 0.08927931604258402)\n",
      "('Hillshade_9am', 0.10503692642383214)\n",
      "('Hillshade_3pm', 0.1431046163314484)\n",
      "('Horizontal_Distance_To_Hydrology', 0.16936605041365918)\n",
      "('Horizontal_Distance_To_Fire_Points', 0.24761933457581817)\n",
      "\n",
      "Decision tree 3 took 1.2690811157226562 seconds to train and got a score of 0.7988571770808097\n",
      "\n",
      "And here are the top features: \n",
      "('GeoSoils', 0.010951942145164475)\n",
      "('Elevation', 0.23256994201719847)\n",
      "('Slope', 0.08978062386926576)\n",
      "('Hillshade_9am', 0.10434837118393207)\n",
      "('Hillshade_3pm', 0.14166783117083906)\n",
      "('Horizontal_Distance_To_Hydrology', 0.17079744152081583)\n",
      "('Horizontal_Distance_To_Fire_Points', 0.2498838480927844)\n",
      "\n",
      "Decision tree 4 took 1.297544240951538 seconds to train and got a score of 0.7988256721975528\n",
      "\n",
      "And here are the top features: \n",
      "('GeoSoils', 0.010581287725487292)\n",
      "('Elevation', 0.23305739226290514)\n",
      "('Slope', 0.09122417412206467)\n",
      "('Hillshade_9am', 0.10500361780184368)\n",
      "('Hillshade_3pm', 0.14359454876375372)\n",
      "('Horizontal_Distance_To_Hydrology', 0.16911651099275896)\n",
      "('Horizontal_Distance_To_Fire_Points', 0.2474224683311866)\n",
      "\n",
      "Decision tree 5 took 1.2647068500518799 seconds to train and got a score of 0.7986048875623695\n",
      "\n",
      "And here are the top features: \n",
      "('GeoSoils', 0.010576032064106903)\n",
      "('Elevation', 0.23184617015755907)\n",
      "('Slope', 0.08999588313691693)\n",
      "('Hillshade_9am', 0.10456751055295758)\n",
      "('Hillshade_3pm', 0.14151290400408073)\n",
      "('Horizontal_Distance_To_Hydrology', 0.17151232710870107)\n",
      "('Horizontal_Distance_To_Fire_Points', 0.24998917297567763)\n",
      "\n"
     ]
    }
   ],
   "source": [
    "y5 = CoverTypeDF[[\"Y5\"]]\n",
    "X_train5, X_test5, y_train5, y_test5 = train_test_split(X_encoded, y5)\n",
    "pd.concat([X_train5, y_train5], axis=1)\n",
    "\n",
    "# normalizer\n",
    "sds5 = StandardScaler()\n",
    "sds5.fit(X_train5)\n",
    "X_train5 = sds5.transform(X_train5)\n",
    "X_test5 = sds5.transform(X_test5)\n",
    "\n",
    "for i in range(5):\n",
    "    \n",
    "    t0 = time.time()\n",
    "    clf = DecisionTreeClassifier()\n",
    "    \n",
    "    clf.fit(X_train5, y_train5)\n",
    "    t1 = time.time()\n",
    "    \n",
    "    ypred5 = clf.predict(X_test5)\n",
    "    scores5 = roc_auc_score(y_test5, ypred5)\n",
    "    \n",
    "    print(f\"Decision tree {i+1} took {t1-t0} seconds to train and got a score of {scores5}\")\n",
    "    print()\n",
    "    print(\"And here are the top features: \")\n",
    "    c = X_encoded.columns \n",
    "    for cfi in zip(c, clf.feature_importances_):\n",
    "        print(cfi)\n",
    "    print()"
   ]
  },
  {
   "cell_type": "markdown",
   "metadata": {},
   "source": [
    "#### For Type 6 Covertypes - Douglas-fir"
   ]
  },
  {
   "cell_type": "code",
   "execution_count": 35,
   "metadata": {},
   "outputs": [
    {
     "name": "stdout",
     "output_type": "stream",
     "text": [
      "Decision tree 1 took 1.2616708278656006 seconds to train and got a score of 0.8377454139584587\n",
      "\n",
      "And here are the top features: \n",
      "('GeoSoils', 0.012913003061421255)\n",
      "('Elevation', 0.3673458276739894)\n",
      "('Slope', 0.07780371827884486)\n",
      "('Hillshade_9am', 0.11336065913519948)\n",
      "('Hillshade_3pm', 0.1040083583247625)\n",
      "('Horizontal_Distance_To_Hydrology', 0.1285862077497623)\n",
      "('Horizontal_Distance_To_Fire_Points', 0.19598222577602026)\n",
      "\n",
      "Decision tree 2 took 1.462508201599121 seconds to train and got a score of 0.8377280690929008\n",
      "\n",
      "And here are the top features: \n",
      "('GeoSoils', 0.012871111976760302)\n",
      "('Elevation', 0.3672032835283091)\n",
      "('Slope', 0.07680716515324748)\n",
      "('Hillshade_9am', 0.11370704232687043)\n",
      "('Hillshade_3pm', 0.10488953059250586)\n",
      "('Horizontal_Distance_To_Hydrology', 0.1286557787002988)\n",
      "('Horizontal_Distance_To_Fire_Points', 0.1958660877220081)\n",
      "\n",
      "Decision tree 3 took 1.257011890411377 seconds to train and got a score of 0.838403583704941\n",
      "\n",
      "And here are the top features: \n",
      "('GeoSoils', 0.013159461513802543)\n",
      "('Elevation', 0.3694962069865953)\n",
      "('Slope', 0.07693718166409022)\n",
      "('Hillshade_9am', 0.11190782564256475)\n",
      "('Hillshade_3pm', 0.10372312645886937)\n",
      "('Horizontal_Distance_To_Hydrology', 0.1310226343871509)\n",
      "('Horizontal_Distance_To_Fire_Points', 0.19375356334692692)\n",
      "\n",
      "Decision tree 4 took 1.2817049026489258 seconds to train and got a score of 0.8394744055045883\n",
      "\n",
      "And here are the top features: \n",
      "('GeoSoils', 0.01253832765152189)\n",
      "('Elevation', 0.3686914337427671)\n",
      "('Slope', 0.07668071322823423)\n",
      "('Hillshade_9am', 0.11265338033965511)\n",
      "('Hillshade_3pm', 0.10287758432483157)\n",
      "('Horizontal_Distance_To_Hydrology', 0.13040497455636163)\n",
      "('Horizontal_Distance_To_Fire_Points', 0.19615358615662856)\n",
      "\n",
      "Decision tree 5 took 1.3090898990631104 seconds to train and got a score of 0.8383184573987841\n",
      "\n",
      "And here are the top features: \n",
      "('GeoSoils', 0.012917955540603591)\n",
      "('Elevation', 0.36876364301095066)\n",
      "('Slope', 0.07744803244510746)\n",
      "('Hillshade_9am', 0.11254031248585804)\n",
      "('Hillshade_3pm', 0.10236029353647229)\n",
      "('Horizontal_Distance_To_Hydrology', 0.12990491718652408)\n",
      "('Horizontal_Distance_To_Fire_Points', 0.1960648457944839)\n",
      "\n"
     ]
    }
   ],
   "source": [
    "y6 = CoverTypeDF[[\"Y6\"]]\n",
    "X_train6, X_test6, y_train6, y_test6 = train_test_split(X_encoded, y6)\n",
    "pd.concat([X_train6, y_train6], axis=1)\n",
    "\n",
    "# normalizer\n",
    "sds6 = StandardScaler()\n",
    "sds6.fit(X_train6)\n",
    "X_train6 = sds6.transform(X_train6)\n",
    "X_test6 = sds6.transform(X_test6)\n",
    "\n",
    "for i in range(5):\n",
    "    \n",
    "    t0 = time.time()\n",
    "    clf = DecisionTreeClassifier()\n",
    "    \n",
    "    clf.fit(X_train6, y_train6)\n",
    "    t1 = time.time()\n",
    "    \n",
    "    ypred6 = clf.predict(X_test6)\n",
    "    scores6 = roc_auc_score(y_test6, ypred6)\n",
    "    \n",
    "    print(f\"Decision tree {i+1} took {t1-t0} seconds to train and got a score of {scores6}\")\n",
    "    print()\n",
    "    print(\"And here are the top features: \")\n",
    "    c = X_encoded.columns \n",
    "    for cfi in zip(c, clf.feature_importances_):\n",
    "        print(cfi)\n",
    "    print()"
   ]
  },
  {
   "cell_type": "markdown",
   "metadata": {},
   "source": [
    "#### For Type 7 Covertypes - Krummholz"
   ]
  },
  {
   "cell_type": "code",
   "execution_count": 36,
   "metadata": {},
   "outputs": [
    {
     "name": "stdout",
     "output_type": "stream",
     "text": [
      "Decision tree 1 took 1.5153660774230957 seconds to train and got a score of 0.9148764073845994\n",
      "\n",
      "And here are the top features: \n",
      "('GeoSoils', 0.011602821533840974)\n",
      "('Elevation', 0.378924610144022)\n",
      "('Slope', 0.06877053046317524)\n",
      "('Hillshade_9am', 0.0856287987405456)\n",
      "('Hillshade_3pm', 0.0888772890528855)\n",
      "('Horizontal_Distance_To_Hydrology', 0.12719533880065792)\n",
      "('Horizontal_Distance_To_Fire_Points', 0.23900061126487282)\n",
      "\n",
      "Decision tree 2 took 1.5457639694213867 seconds to train and got a score of 0.9167640745075369\n",
      "\n",
      "And here are the top features: \n",
      "('GeoSoils', 0.012480811858707221)\n",
      "('Elevation', 0.38094944715918483)\n",
      "('Slope', 0.06762147759278475)\n",
      "('Hillshade_9am', 0.08429124084494033)\n",
      "('Hillshade_3pm', 0.08885569285817257)\n",
      "('Horizontal_Distance_To_Hydrology', 0.12674262013642432)\n",
      "('Horizontal_Distance_To_Fire_Points', 0.23905870954978606)\n",
      "\n",
      "Decision tree 3 took 1.537513017654419 seconds to train and got a score of 0.9147013518075393\n",
      "\n",
      "And here are the top features: \n",
      "('GeoSoils', 0.012782921892509026)\n",
      "('Elevation', 0.38050585901801837)\n",
      "('Slope', 0.06850824567418974)\n",
      "('Hillshade_9am', 0.08337896295177412)\n",
      "('Hillshade_3pm', 0.08971403242451695)\n",
      "('Horizontal_Distance_To_Hydrology', 0.1269634944260261)\n",
      "('Horizontal_Distance_To_Fire_Points', 0.23814648361296567)\n",
      "\n",
      "Decision tree 4 took 1.5505549907684326 seconds to train and got a score of 0.9153948753197002\n",
      "\n",
      "And here are the top features: \n",
      "('GeoSoils', 0.01232299533562885)\n",
      "('Elevation', 0.3811594571212838)\n",
      "('Slope', 0.06964295835427592)\n",
      "('Hillshade_9am', 0.08402660968383187)\n",
      "('Hillshade_3pm', 0.08876555977757139)\n",
      "('Horizontal_Distance_To_Hydrology', 0.1275759172414784)\n",
      "('Horizontal_Distance_To_Fire_Points', 0.23650650248592972)\n",
      "\n",
      "Decision tree 5 took 1.574455976486206 seconds to train and got a score of 0.9145010157003903\n",
      "\n",
      "And here are the top features: \n",
      "('GeoSoils', 0.012446479963407503)\n",
      "('Elevation', 0.3800820845251618)\n",
      "('Slope', 0.06788983566552818)\n",
      "('Hillshade_9am', 0.08409961842396256)\n",
      "('Hillshade_3pm', 0.08857629931248633)\n",
      "('Horizontal_Distance_To_Hydrology', 0.12650566009446054)\n",
      "('Horizontal_Distance_To_Fire_Points', 0.24040002201499297)\n",
      "\n"
     ]
    }
   ],
   "source": [
    "y7 = CoverTypeDF[[\"Y7\"]]\n",
    "X_train7, X_test7, y_train7, y_test7 = train_test_split(X_encoded, y7)\n",
    "pd.concat([X_train7, y_train7], axis=1)\n",
    "\n",
    "# normalizer\n",
    "sds7 = StandardScaler()\n",
    "sds7.fit(X_train7)\n",
    "X_train7 = sds7.transform(X_train7)\n",
    "X_test7 = sds7.transform(X_test7)\n",
    "\n",
    "for i in range(5):\n",
    "    \n",
    "    t0 = time.time()\n",
    "    clf = DecisionTreeClassifier()\n",
    "    \n",
    "    clf.fit(X_train7, y_train7)\n",
    "    t1 = time.time()\n",
    "    \n",
    "    ypred7 = clf.predict(X_test7)\n",
    "    scores7 = roc_auc_score(y_test7, ypred7)\n",
    "    \n",
    "    print(f\"Decision tree {i+1} took {t1-t0} seconds to train and got a score of {scores7}\")\n",
    "    print()\n",
    "    print(\"And here are the top features: \")\n",
    "    c = X_encoded.columns \n",
    "    for cfi in zip(c, clf.feature_importances_):\n",
    "        print(cfi)\n",
    "    print()"
   ]
  },
  {
   "cell_type": "markdown",
   "metadata": {},
   "source": [
    "#### For both all Covertypes, the lowest CLF score for features is consistently GeoSoils. Now it is time to take it out of the 'features_to_use' set to see if this helps to improve the model."
   ]
  },
  {
   "cell_type": "code",
   "execution_count": 37,
   "metadata": {},
   "outputs": [],
   "source": [
    "features_to_use = [\n",
    "#     \"Cover_Type\",\n",
    "#     \"GeoSoils\",\n",
    "    \"Elevation\",  \n",
    "    \"Slope\", \n",
    "    \"Hillshade_9am\", \n",
    "    \"Hillshade_3pm\", \n",
    "    \"Horizontal_Distance_To_Hydrology\", \n",
    "    \"Horizontal_Distance_To_Fire_Points\"\n",
    "]"
   ]
  },
  {
   "cell_type": "code",
   "execution_count": 38,
   "metadata": {},
   "outputs": [
    {
     "data": {
      "text/plain": [
       "['Elevation',\n",
       " 'Slope',\n",
       " 'Hillshade_9am',\n",
       " 'Hillshade_3pm',\n",
       " 'Horizontal_Distance_To_Hydrology',\n",
       " 'Horizontal_Distance_To_Fire_Points']"
      ]
     },
     "execution_count": 38,
     "metadata": {},
     "output_type": "execute_result"
    }
   ],
   "source": [
    "features_to_use"
   ]
  },
  {
   "cell_type": "markdown",
   "metadata": {},
   "source": [
    "#### Re-run Y1 through Y7 without GeoSoils"
   ]
  },
  {
   "cell_type": "code",
   "execution_count": 39,
   "metadata": {},
   "outputs": [],
   "source": [
    "X = CoverTypeDF[features_to_use]\n",
    "X_encoded = pd.get_dummies(X)"
   ]
  },
  {
   "cell_type": "code",
   "execution_count": 40,
   "metadata": {},
   "outputs": [
    {
     "data": {
      "text/html": [
       "<div>\n",
       "<style scoped>\n",
       "    .dataframe tbody tr th:only-of-type {\n",
       "        vertical-align: middle;\n",
       "    }\n",
       "\n",
       "    .dataframe tbody tr th {\n",
       "        vertical-align: top;\n",
       "    }\n",
       "\n",
       "    .dataframe thead th {\n",
       "        text-align: right;\n",
       "    }\n",
       "</style>\n",
       "<table border=\"1\" class=\"dataframe\">\n",
       "  <thead>\n",
       "    <tr style=\"text-align: right;\">\n",
       "      <th></th>\n",
       "      <th>Elevation</th>\n",
       "      <th>Slope</th>\n",
       "      <th>Hillshade_9am</th>\n",
       "      <th>Hillshade_3pm</th>\n",
       "      <th>Horizontal_Distance_To_Hydrology</th>\n",
       "      <th>Horizontal_Distance_To_Fire_Points</th>\n",
       "    </tr>\n",
       "  </thead>\n",
       "  <tbody>\n",
       "    <tr>\n",
       "      <th>0</th>\n",
       "      <td>2596</td>\n",
       "      <td>3</td>\n",
       "      <td>221</td>\n",
       "      <td>148</td>\n",
       "      <td>258</td>\n",
       "      <td>6279</td>\n",
       "    </tr>\n",
       "    <tr>\n",
       "      <th>1</th>\n",
       "      <td>2590</td>\n",
       "      <td>2</td>\n",
       "      <td>220</td>\n",
       "      <td>151</td>\n",
       "      <td>212</td>\n",
       "      <td>6225</td>\n",
       "    </tr>\n",
       "  </tbody>\n",
       "</table>\n",
       "</div>"
      ],
      "text/plain": [
       "   Elevation  Slope  Hillshade_9am  Hillshade_3pm  \\\n",
       "0       2596      3            221            148   \n",
       "1       2590      2            220            151   \n",
       "\n",
       "   Horizontal_Distance_To_Hydrology  Horizontal_Distance_To_Fire_Points  \n",
       "0                               258                                6279  \n",
       "1                               212                                6225  "
      ]
     },
     "execution_count": 40,
     "metadata": {},
     "output_type": "execute_result"
    }
   ],
   "source": [
    "X.head(2)"
   ]
  },
  {
   "cell_type": "code",
   "execution_count": 41,
   "metadata": {},
   "outputs": [
    {
     "name": "stdout",
     "output_type": "stream",
     "text": [
      "Decision tree 1 took 2.6457390785217285 seconds to train and got a score of 0.862041478491032\n",
      "\n",
      "And here are the top features: \n",
      "('Elevation', 0.3916260531597723)\n",
      "('Slope', 0.06981618935933852)\n",
      "('Hillshade_9am', 0.09378522583185196)\n",
      "('Hillshade_3pm', 0.10000908229595756)\n",
      "('Horizontal_Distance_To_Hydrology', 0.11908700426429432)\n",
      "('Horizontal_Distance_To_Fire_Points', 0.2256764450887854)\n",
      "\n",
      "Decision tree 2 took 2.6604819297790527 seconds to train and got a score of 0.8619609117707848\n",
      "\n",
      "And here are the top features: \n",
      "('Elevation', 0.3914347950819087)\n",
      "('Slope', 0.06952961034790946)\n",
      "('Hillshade_9am', 0.09415238948757515)\n",
      "('Hillshade_3pm', 0.0997558667663367)\n",
      "('Horizontal_Distance_To_Hydrology', 0.11877692188989566)\n",
      "('Horizontal_Distance_To_Fire_Points', 0.22635041642637438)\n",
      "\n",
      "Decision tree 3 took 2.625119924545288 seconds to train and got a score of 0.8622818855092391\n",
      "\n",
      "And here are the top features: \n",
      "('Elevation', 0.3915521445496806)\n",
      "('Slope', 0.07003167943394402)\n",
      "('Hillshade_9am', 0.0943608514132695)\n",
      "('Hillshade_3pm', 0.09969993251493295)\n",
      "('Horizontal_Distance_To_Hydrology', 0.11896961068391262)\n",
      "('Horizontal_Distance_To_Fire_Points', 0.2253857814042603)\n",
      "\n",
      "Decision tree 4 took 2.6068148612976074 seconds to train and got a score of 0.8622163107048954\n",
      "\n",
      "And here are the top features: \n",
      "('Elevation', 0.39152114666490706)\n",
      "('Slope', 0.0694570933361194)\n",
      "('Hillshade_9am', 0.0940287222052596)\n",
      "('Hillshade_3pm', 0.09984630670110411)\n",
      "('Horizontal_Distance_To_Hydrology', 0.11879460598528503)\n",
      "('Horizontal_Distance_To_Fire_Points', 0.2263521251073249)\n",
      "\n",
      "Decision tree 5 took 2.5686819553375244 seconds to train and got a score of 0.8613630709003975\n",
      "\n",
      "And here are the top features: \n",
      "('Elevation', 0.39074948998751735)\n",
      "('Slope', 0.06958866451642806)\n",
      "('Hillshade_9am', 0.09438532305167824)\n",
      "('Hillshade_3pm', 0.10045784652085803)\n",
      "('Horizontal_Distance_To_Hydrology', 0.1186347504624849)\n",
      "('Horizontal_Distance_To_Fire_Points', 0.2261839254610333)\n",
      "\n"
     ]
    }
   ],
   "source": [
    "y1 = CoverTypeDF[[\"Y1\"]]\n",
    "X_train1, X_test1, y_train1, y_test1 = train_test_split(X_encoded, y1)\n",
    "pd.concat([X_train1, y_train1], axis=1)\n",
    "\n",
    "# normalizer\n",
    "sds1 = StandardScaler()\n",
    "sds1.fit(X_train1)\n",
    "X_train1 = sds1.transform(X_train1)\n",
    "X_test1 = sds1.transform(X_test1)\n",
    "\n",
    "for i in range(5):\n",
    "    \n",
    "    t0 = time.time()\n",
    "    clf = DecisionTreeClassifier()\n",
    "    \n",
    "    clf.fit(X_train1, y_train1)\n",
    "    t1 = time.time()\n",
    "    \n",
    "    ypred1 = clf.predict(X_test1)\n",
    "    scores1 = roc_auc_score(y_test1, ypred1)\n",
    "    \n",
    "    print(f\"Decision tree {i+1} took {t1-t0} seconds to train and got a score of {scores1}\")\n",
    "    print()\n",
    "    print(\"And here are the top features: \")\n",
    "    c = X_encoded.columns \n",
    "    for cfi in zip(c, clf.feature_importances_):\n",
    "        print(cfi)\n",
    "    print()"
   ]
  },
  {
   "cell_type": "markdown",
   "metadata": {},
   "source": [
    "#### Taking GeoSoils out did not have much of an impact to the overall model, but did decrease the score slightly. So - taking this variable out did not improve the model. It appears that adding more variables may help to improve the model."
   ]
  },
  {
   "cell_type": "markdown",
   "metadata": {},
   "source": [
    "## Model Bench and Model Selection"
   ]
  },
  {
   "cell_type": "code",
   "execution_count": 42,
   "metadata": {},
   "outputs": [
    {
     "data": {
      "text/html": [
       "<div>\n",
       "<style scoped>\n",
       "    .dataframe tbody tr th:only-of-type {\n",
       "        vertical-align: middle;\n",
       "    }\n",
       "\n",
       "    .dataframe tbody tr th {\n",
       "        vertical-align: top;\n",
       "    }\n",
       "\n",
       "    .dataframe thead th {\n",
       "        text-align: right;\n",
       "    }\n",
       "</style>\n",
       "<table border=\"1\" class=\"dataframe\">\n",
       "  <thead>\n",
       "    <tr style=\"text-align: right;\">\n",
       "      <th></th>\n",
       "      <th>Elevation</th>\n",
       "      <th>Slope</th>\n",
       "      <th>Horizontal_Distance_To_Hydrology</th>\n",
       "      <th>Hillshade_9am</th>\n",
       "      <th>Hillshade_3pm</th>\n",
       "      <th>Horizontal_Distance_To_Fire_Points</th>\n",
       "      <th>Cover_Type</th>\n",
       "      <th>GeoSoils</th>\n",
       "      <th>Y1</th>\n",
       "      <th>Y2</th>\n",
       "      <th>Y3</th>\n",
       "      <th>Y4</th>\n",
       "      <th>Y5</th>\n",
       "      <th>Y6</th>\n",
       "      <th>Y7</th>\n",
       "    </tr>\n",
       "  </thead>\n",
       "  <tbody>\n",
       "    <tr>\n",
       "      <th>0</th>\n",
       "      <td>2596</td>\n",
       "      <td>3</td>\n",
       "      <td>258</td>\n",
       "      <td>221</td>\n",
       "      <td>148</td>\n",
       "      <td>6279</td>\n",
       "      <td>5</td>\n",
       "      <td>1</td>\n",
       "      <td>0</td>\n",
       "      <td>0</td>\n",
       "      <td>0</td>\n",
       "      <td>0</td>\n",
       "      <td>1</td>\n",
       "      <td>0</td>\n",
       "      <td>0</td>\n",
       "    </tr>\n",
       "    <tr>\n",
       "      <th>1</th>\n",
       "      <td>2590</td>\n",
       "      <td>2</td>\n",
       "      <td>212</td>\n",
       "      <td>220</td>\n",
       "      <td>151</td>\n",
       "      <td>6225</td>\n",
       "      <td>5</td>\n",
       "      <td>1</td>\n",
       "      <td>0</td>\n",
       "      <td>0</td>\n",
       "      <td>0</td>\n",
       "      <td>0</td>\n",
       "      <td>1</td>\n",
       "      <td>0</td>\n",
       "      <td>0</td>\n",
       "    </tr>\n",
       "  </tbody>\n",
       "</table>\n",
       "</div>"
      ],
      "text/plain": [
       "   Elevation  Slope  Horizontal_Distance_To_Hydrology  Hillshade_9am  \\\n",
       "0       2596      3                               258            221   \n",
       "1       2590      2                               212            220   \n",
       "\n",
       "   Hillshade_3pm  Horizontal_Distance_To_Fire_Points  Cover_Type  GeoSoils  \\\n",
       "0            148                                6279           5         1   \n",
       "1            151                                6225           5         1   \n",
       "\n",
       "   Y1  Y2  Y3  Y4  Y5  Y6  Y7  \n",
       "0   0   0   0   0   1   0   0  \n",
       "1   0   0   0   0   1   0   0  "
      ]
     },
     "execution_count": 42,
     "metadata": {},
     "output_type": "execute_result"
    }
   ],
   "source": [
    "CoverTypeDF.head(2)"
   ]
  },
  {
   "cell_type": "code",
   "execution_count": 43,
   "metadata": {},
   "outputs": [],
   "source": [
    "features_to_use = [\n",
    "#     \"Cover_Type\",\n",
    "    \"GeoSoils\",\n",
    "    \"Elevation\",  \n",
    "    \"Slope\", \n",
    "    \"Hillshade_9am\", \n",
    "    \"Hillshade_3pm\", \n",
    "    \"Horizontal_Distance_To_Hydrology\", \n",
    "    \"Horizontal_Distance_To_Fire_Points\"\n",
    "]"
   ]
  },
  {
   "cell_type": "code",
   "execution_count": 44,
   "metadata": {},
   "outputs": [],
   "source": [
    "X = CoverTypeDF[features_to_use]\n",
    "X_encoded = pd.get_dummies(X)"
   ]
  },
  {
   "cell_type": "code",
   "execution_count": 45,
   "metadata": {},
   "outputs": [
    {
     "data": {
      "text/html": [
       "<div>\n",
       "<style scoped>\n",
       "    .dataframe tbody tr th:only-of-type {\n",
       "        vertical-align: middle;\n",
       "    }\n",
       "\n",
       "    .dataframe tbody tr th {\n",
       "        vertical-align: top;\n",
       "    }\n",
       "\n",
       "    .dataframe thead th {\n",
       "        text-align: right;\n",
       "    }\n",
       "</style>\n",
       "<table border=\"1\" class=\"dataframe\">\n",
       "  <thead>\n",
       "    <tr style=\"text-align: right;\">\n",
       "      <th></th>\n",
       "      <th>GeoSoils</th>\n",
       "      <th>Elevation</th>\n",
       "      <th>Slope</th>\n",
       "      <th>Hillshade_9am</th>\n",
       "      <th>Hillshade_3pm</th>\n",
       "      <th>Horizontal_Distance_To_Hydrology</th>\n",
       "      <th>Horizontal_Distance_To_Fire_Points</th>\n",
       "    </tr>\n",
       "  </thead>\n",
       "  <tbody>\n",
       "    <tr>\n",
       "      <th>0</th>\n",
       "      <td>1</td>\n",
       "      <td>2596</td>\n",
       "      <td>3</td>\n",
       "      <td>221</td>\n",
       "      <td>148</td>\n",
       "      <td>258</td>\n",
       "      <td>6279</td>\n",
       "    </tr>\n",
       "    <tr>\n",
       "      <th>1</th>\n",
       "      <td>1</td>\n",
       "      <td>2590</td>\n",
       "      <td>2</td>\n",
       "      <td>220</td>\n",
       "      <td>151</td>\n",
       "      <td>212</td>\n",
       "      <td>6225</td>\n",
       "    </tr>\n",
       "    <tr>\n",
       "      <th>2</th>\n",
       "      <td>1</td>\n",
       "      <td>2595</td>\n",
       "      <td>2</td>\n",
       "      <td>220</td>\n",
       "      <td>150</td>\n",
       "      <td>153</td>\n",
       "      <td>6172</td>\n",
       "    </tr>\n",
       "    <tr>\n",
       "      <th>3</th>\n",
       "      <td>1</td>\n",
       "      <td>2579</td>\n",
       "      <td>6</td>\n",
       "      <td>230</td>\n",
       "      <td>140</td>\n",
       "      <td>300</td>\n",
       "      <td>6031</td>\n",
       "    </tr>\n",
       "    <tr>\n",
       "      <th>4</th>\n",
       "      <td>1</td>\n",
       "      <td>2606</td>\n",
       "      <td>7</td>\n",
       "      <td>222</td>\n",
       "      <td>138</td>\n",
       "      <td>270</td>\n",
       "      <td>6256</td>\n",
       "    </tr>\n",
       "  </tbody>\n",
       "</table>\n",
       "</div>"
      ],
      "text/plain": [
       "   GeoSoils  Elevation  Slope  Hillshade_9am  Hillshade_3pm  \\\n",
       "0         1       2596      3            221            148   \n",
       "1         1       2590      2            220            151   \n",
       "2         1       2595      2            220            150   \n",
       "3         1       2579      6            230            140   \n",
       "4         1       2606      7            222            138   \n",
       "\n",
       "   Horizontal_Distance_To_Hydrology  Horizontal_Distance_To_Fire_Points  \n",
       "0                               258                                6279  \n",
       "1                               212                                6225  \n",
       "2                               153                                6172  \n",
       "3                               300                                6031  \n",
       "4                               270                                6256  "
      ]
     },
     "execution_count": 45,
     "metadata": {},
     "output_type": "execute_result"
    }
   ],
   "source": [
    "X_encoded.head()"
   ]
  },
  {
   "cell_type": "code",
   "execution_count": 46,
   "metadata": {},
   "outputs": [
    {
     "data": {
      "text/plain": [
       "(581012, 7)"
      ]
     },
     "execution_count": 46,
     "metadata": {},
     "output_type": "execute_result"
    }
   ],
   "source": [
    "X_encoded[features_to_use].shape"
   ]
  },
  {
   "cell_type": "markdown",
   "metadata": {},
   "source": [
    "##### Training for Type 1 Covertype - Spruce/Fir"
   ]
  },
  {
   "cell_type": "code",
   "execution_count": 47,
   "metadata": {},
   "outputs": [],
   "source": [
    "y1 = CoverTypeDF[[\"Y1\"]]\n",
    "X_train1, X_test1, y_train1, y_test1 = train_test_split(X_encoded, y1)\n",
    "pd.concat([X_train1, y_train1], axis=1)\n",
    "\n",
    "# normalizer\n",
    "sds1 = StandardScaler()\n",
    "sds1.fit(X_train1)\n",
    "X_train1 = sds1.transform(X_train1)\n",
    "X_test1 = sds1.transform(X_test1)"
   ]
  },
  {
   "cell_type": "code",
   "execution_count": 48,
   "metadata": {},
   "outputs": [
    {
     "data": {
      "text/plain": [
       "(435759, 7)"
      ]
     },
     "execution_count": 48,
     "metadata": {},
     "output_type": "execute_result"
    }
   ],
   "source": [
    "X_train1.shape"
   ]
  },
  {
   "cell_type": "code",
   "execution_count": 49,
   "metadata": {},
   "outputs": [
    {
     "data": {
      "text/plain": [
       "(435759, 1)"
      ]
     },
     "execution_count": 49,
     "metadata": {},
     "output_type": "execute_result"
    }
   ],
   "source": [
    "y_train1.shape"
   ]
  },
  {
   "cell_type": "code",
   "execution_count": 50,
   "metadata": {},
   "outputs": [
    {
     "data": {
      "text/plain": [
       "(145253, 7)"
      ]
     },
     "execution_count": 50,
     "metadata": {},
     "output_type": "execute_result"
    }
   ],
   "source": [
    "X_test1.shape"
   ]
  },
  {
   "cell_type": "code",
   "execution_count": 51,
   "metadata": {},
   "outputs": [
    {
     "data": {
      "text/plain": [
       "(145253, 1)"
      ]
     },
     "execution_count": 51,
     "metadata": {},
     "output_type": "execute_result"
    }
   ],
   "source": [
    "y_test1.shape"
   ]
  },
  {
   "cell_type": "code",
   "execution_count": 52,
   "metadata": {},
   "outputs": [],
   "source": [
    "def modelbench(classifier, X_train1, Y_train1):\n",
    "    \n",
    "    rs = ShuffleSplit(n_splits=3, test_size=.33)\n",
    "    \n",
    "    rs.get_n_splits(X_train)\n",
    "    \n",
    "    Y_train1 = Y_train1.values\n",
    "    Y_train1 = Y_train1.ravel()\n",
    "\n",
    "    for train_idx, test_idx in rs.split(X_train):\n",
    "        ssX_train1, ssX_test1 = X_train1[train_idx], X_train1[test_idx]\n",
    "        ssy_train1, ssy_test1 = Y_train1[train_idx], Y_train1[test_idx]\n",
    "\n",
    "        t0 = time.time()\n",
    "        \n",
    "        clf = classifier\n",
    "        clf.fit(X=ssX_train1, y=ssy_train1)\n",
    "\n",
    "        ypred1 = clf.predict(ssX_test1)\n",
    "\n",
    "        scores1 = roc_auc_score(ssy_test1, ypred1)\n",
    "    \n",
    "        t1 = time.time()\n",
    "    \n",
    "        print(f\"{classifier} \\n took {t1-t0} seconds to run and got a score of {scores1}\")\n",
    "        print()"
   ]
  },
  {
   "cell_type": "code",
   "execution_count": 53,
   "metadata": {},
   "outputs": [
    {
     "name": "stdout",
     "output_type": "stream",
     "text": [
      "DecisionTreeClassifier(class_weight=None, criterion='gini', max_depth=None,\n",
      "            max_features=None, max_leaf_nodes=None,\n",
      "            min_impurity_decrease=0.0, min_impurity_split=None,\n",
      "            min_samples_leaf=1, min_samples_split=2,\n",
      "            min_weight_fraction_leaf=0.0, presort=False, random_state=None,\n",
      "            splitter='best') \n",
      " took 1.8716189861297607 seconds to run and got a score of 0.8566389223814617\n",
      "\n",
      "DecisionTreeClassifier(class_weight=None, criterion='gini', max_depth=None,\n",
      "            max_features=None, max_leaf_nodes=None,\n",
      "            min_impurity_decrease=0.0, min_impurity_split=None,\n",
      "            min_samples_leaf=1, min_samples_split=2,\n",
      "            min_weight_fraction_leaf=0.0, presort=False, random_state=None,\n",
      "            splitter='best') \n",
      " took 1.861806869506836 seconds to run and got a score of 0.8566252361682821\n",
      "\n",
      "DecisionTreeClassifier(class_weight=None, criterion='gini', max_depth=None,\n",
      "            max_features=None, max_leaf_nodes=None,\n",
      "            min_impurity_decrease=0.0, min_impurity_split=None,\n",
      "            min_samples_leaf=1, min_samples_split=2,\n",
      "            min_weight_fraction_leaf=0.0, presort=False, random_state=None,\n",
      "            splitter='best') \n",
      " took 1.8457388877868652 seconds to run and got a score of 0.8562318274335565\n",
      "\n"
     ]
    }
   ],
   "source": [
    "modelbench(DecisionTreeClassifier(), X_train1, y_train1)"
   ]
  },
  {
   "cell_type": "code",
   "execution_count": 54,
   "metadata": {},
   "outputs": [
    {
     "name": "stdout",
     "output_type": "stream",
     "text": [
      "LogisticRegression(C=1.0, class_weight=None, dual=False, fit_intercept=True,\n",
      "          intercept_scaling=1, max_iter=100, multi_class='ovr', n_jobs=1,\n",
      "          penalty='l2', random_state=None, solver='liblinear', tol=0.0001,\n",
      "          verbose=0, warm_start=False) \n",
      " took 0.699491024017334 seconds to run and got a score of 0.7270049058427496\n",
      "\n",
      "LogisticRegression(C=1.0, class_weight=None, dual=False, fit_intercept=True,\n",
      "          intercept_scaling=1, max_iter=100, multi_class='ovr', n_jobs=1,\n",
      "          penalty='l2', random_state=None, solver='liblinear', tol=0.0001,\n",
      "          verbose=0, warm_start=False) \n",
      " took 0.6941850185394287 seconds to run and got a score of 0.7265228259593531\n",
      "\n",
      "LogisticRegression(C=1.0, class_weight=None, dual=False, fit_intercept=True,\n",
      "          intercept_scaling=1, max_iter=100, multi_class='ovr', n_jobs=1,\n",
      "          penalty='l2', random_state=None, solver='liblinear', tol=0.0001,\n",
      "          verbose=0, warm_start=False) \n",
      " took 0.6872599124908447 seconds to run and got a score of 0.7288809478496354\n",
      "\n"
     ]
    }
   ],
   "source": [
    "modelbench(LogisticRegression(), X_train1, y_train1)"
   ]
  },
  {
   "cell_type": "code",
   "execution_count": 55,
   "metadata": {},
   "outputs": [
    {
     "name": "stdout",
     "output_type": "stream",
     "text": [
      "RandomForestClassifier(bootstrap=True, class_weight=None, criterion='gini',\n",
      "            max_depth=None, max_features='auto', max_leaf_nodes=None,\n",
      "            min_impurity_decrease=0.0, min_impurity_split=None,\n",
      "            min_samples_leaf=1, min_samples_split=2,\n",
      "            min_weight_fraction_leaf=0.0, n_estimators=10, n_jobs=1,\n",
      "            oob_score=False, random_state=None, verbose=0,\n",
      "            warm_start=False) \n",
      " took 5.592145919799805 seconds to run and got a score of 0.8647157037081487\n",
      "\n",
      "RandomForestClassifier(bootstrap=True, class_weight=None, criterion='gini',\n",
      "            max_depth=None, max_features='auto', max_leaf_nodes=None,\n",
      "            min_impurity_decrease=0.0, min_impurity_split=None,\n",
      "            min_samples_leaf=1, min_samples_split=2,\n",
      "            min_weight_fraction_leaf=0.0, n_estimators=10, n_jobs=1,\n",
      "            oob_score=False, random_state=None, verbose=0,\n",
      "            warm_start=False) \n",
      " took 5.465188026428223 seconds to run and got a score of 0.8641273891801008\n",
      "\n",
      "RandomForestClassifier(bootstrap=True, class_weight=None, criterion='gini',\n",
      "            max_depth=None, max_features='auto', max_leaf_nodes=None,\n",
      "            min_impurity_decrease=0.0, min_impurity_split=None,\n",
      "            min_samples_leaf=1, min_samples_split=2,\n",
      "            min_weight_fraction_leaf=0.0, n_estimators=10, n_jobs=1,\n",
      "            oob_score=False, random_state=None, verbose=0,\n",
      "            warm_start=False) \n",
      " took 5.57430100440979 seconds to run and got a score of 0.8636755809537298\n",
      "\n"
     ]
    }
   ],
   "source": [
    "modelbench(RandomForestClassifier(), X_train1, y_train1)"
   ]
  },
  {
   "cell_type": "code",
   "execution_count": 56,
   "metadata": {},
   "outputs": [
    {
     "name": "stdout",
     "output_type": "stream",
     "text": [
      "RandomForestClassifier(bootstrap=True, class_weight=None, criterion='gini',\n",
      "            max_depth=None, max_features='auto', max_leaf_nodes=None,\n",
      "            min_impurity_decrease=0.0, min_impurity_split=None,\n",
      "            min_samples_leaf=1, min_samples_split=2,\n",
      "            min_weight_fraction_leaf=0.0, n_estimators=50, n_jobs=1,\n",
      "            oob_score=False, random_state=None, verbose=0,\n",
      "            warm_start=False) \n",
      " took 29.682819843292236 seconds to run and got a score of 0.8861854900498437\n",
      "\n",
      "RandomForestClassifier(bootstrap=True, class_weight=None, criterion='gini',\n",
      "            max_depth=None, max_features='auto', max_leaf_nodes=None,\n",
      "            min_impurity_decrease=0.0, min_impurity_split=None,\n",
      "            min_samples_leaf=1, min_samples_split=2,\n",
      "            min_weight_fraction_leaf=0.0, n_estimators=50, n_jobs=1,\n",
      "            oob_score=False, random_state=None, verbose=0,\n",
      "            warm_start=False) \n",
      " took 27.637573957443237 seconds to run and got a score of 0.8870975609556045\n",
      "\n",
      "RandomForestClassifier(bootstrap=True, class_weight=None, criterion='gini',\n",
      "            max_depth=None, max_features='auto', max_leaf_nodes=None,\n",
      "            min_impurity_decrease=0.0, min_impurity_split=None,\n",
      "            min_samples_leaf=1, min_samples_split=2,\n",
      "            min_weight_fraction_leaf=0.0, n_estimators=50, n_jobs=1,\n",
      "            oob_score=False, random_state=None, verbose=0,\n",
      "            warm_start=False) \n",
      " took 27.859477043151855 seconds to run and got a score of 0.8855372469688229\n",
      "\n"
     ]
    }
   ],
   "source": [
    "modelbench(RandomForestClassifier(n_estimators=50), X_train1, y_train1)"
   ]
  },
  {
   "cell_type": "code",
   "execution_count": 57,
   "metadata": {},
   "outputs": [
    {
     "name": "stdout",
     "output_type": "stream",
     "text": [
      "RandomForestClassifier(bootstrap=True, class_weight=None, criterion='gini',\n",
      "            max_depth=None, max_features='auto', max_leaf_nodes=None,\n",
      "            min_impurity_decrease=0.0, min_impurity_split=None,\n",
      "            min_samples_leaf=1, min_samples_split=2,\n",
      "            min_weight_fraction_leaf=0.0, n_estimators=100, n_jobs=1,\n",
      "            oob_score=False, random_state=None, verbose=0,\n",
      "            warm_start=False) \n",
      " took 60.35780715942383 seconds to run and got a score of 0.8885482819484336\n",
      "\n",
      "RandomForestClassifier(bootstrap=True, class_weight=None, criterion='gini',\n",
      "            max_depth=None, max_features='auto', max_leaf_nodes=None,\n",
      "            min_impurity_decrease=0.0, min_impurity_split=None,\n",
      "            min_samples_leaf=1, min_samples_split=2,\n",
      "            min_weight_fraction_leaf=0.0, n_estimators=100, n_jobs=1,\n",
      "            oob_score=False, random_state=None, verbose=0,\n",
      "            warm_start=False) \n",
      " took 58.305458307266235 seconds to run and got a score of 0.888548804478035\n",
      "\n",
      "RandomForestClassifier(bootstrap=True, class_weight=None, criterion='gini',\n",
      "            max_depth=None, max_features='auto', max_leaf_nodes=None,\n",
      "            min_impurity_decrease=0.0, min_impurity_split=None,\n",
      "            min_samples_leaf=1, min_samples_split=2,\n",
      "            min_weight_fraction_leaf=0.0, n_estimators=100, n_jobs=1,\n",
      "            oob_score=False, random_state=None, verbose=0,\n",
      "            warm_start=False) \n",
      " took 73.25498294830322 seconds to run and got a score of 0.8886189457143967\n",
      "\n"
     ]
    }
   ],
   "source": [
    "modelbench(RandomForestClassifier(n_estimators=100), X_train1, y_train1)"
   ]
  },
  {
   "cell_type": "markdown",
   "metadata": {},
   "source": [
    "### RandomForest Tuning"
   ]
  },
  {
   "cell_type": "code",
   "execution_count": 58,
   "metadata": {},
   "outputs": [],
   "source": [
    "params = {\n",
    "    \"max_depth\": [2,4,6,8,10],\n",
    "    \"min_samples_split\": [5, 9, 19],\n",
    "    \"min_samples_leaf\": [2, 5, 10],\n",
    "    \"max_leaf_nodes\": [15, 20, 50],\n",
    "}"
   ]
  },
  {
   "cell_type": "code",
   "execution_count": 59,
   "metadata": {},
   "outputs": [],
   "source": [
    "grid = GridSearchCV(RandomForestClassifier(n_estimators=10), params, cv=5)"
   ]
  },
  {
   "cell_type": "code",
   "execution_count": 60,
   "metadata": {},
   "outputs": [
    {
     "data": {
      "text/plain": [
       "GridSearchCV(cv=5, error_score='raise',\n",
       "       estimator=RandomForestClassifier(bootstrap=True, class_weight=None, criterion='gini',\n",
       "            max_depth=None, max_features='auto', max_leaf_nodes=None,\n",
       "            min_impurity_decrease=0.0, min_impurity_split=None,\n",
       "            min_samples_leaf=1, min_samples_split=2,\n",
       "            min_weight_fraction_leaf=0.0, n_estimators=10, n_jobs=1,\n",
       "            oob_score=False, random_state=None, verbose=0,\n",
       "            warm_start=False),\n",
       "       fit_params=None, iid=True, n_jobs=1,\n",
       "       param_grid={'max_depth': [2, 4, 6, 8, 10], 'min_samples_split': [5, 9, 19], 'min_samples_leaf': [2, 5, 10], 'max_leaf_nodes': [15, 20, 50]},\n",
       "       pre_dispatch='2*n_jobs', refit=True, return_train_score='warn',\n",
       "       scoring=None, verbose=0)"
      ]
     },
     "execution_count": 60,
     "metadata": {},
     "output_type": "execute_result"
    }
   ],
   "source": [
    "grid"
   ]
  },
  {
   "cell_type": "code",
   "execution_count": 61,
   "metadata": {},
   "outputs": [
    {
     "data": {
      "text/plain": [
       "GridSearchCV(cv=5, error_score='raise',\n",
       "       estimator=RandomForestClassifier(bootstrap=True, class_weight=None, criterion='gini',\n",
       "            max_depth=None, max_features='auto', max_leaf_nodes=None,\n",
       "            min_impurity_decrease=0.0, min_impurity_split=None,\n",
       "            min_samples_leaf=1, min_samples_split=2,\n",
       "            min_weight_fraction_leaf=0.0, n_estimators=10, n_jobs=1,\n",
       "            oob_score=False, random_state=None, verbose=0,\n",
       "            warm_start=False),\n",
       "       fit_params=None, iid=True, n_jobs=1,\n",
       "       param_grid={'max_depth': [2, 4, 6, 8, 10], 'min_samples_split': [5, 9, 19], 'min_samples_leaf': [2, 5, 10], 'max_leaf_nodes': [15, 20, 50]},\n",
       "       pre_dispatch='2*n_jobs', refit=True, return_train_score='warn',\n",
       "       scoring=None, verbose=0)"
      ]
     },
     "execution_count": 61,
     "metadata": {},
     "output_type": "execute_result"
    }
   ],
   "source": [
    "grid.fit(X_train1, y_train1.values.ravel())"
   ]
  },
  {
   "cell_type": "code",
   "execution_count": 62,
   "metadata": {},
   "outputs": [
    {
     "data": {
      "text/plain": [
       "RandomForestClassifier(bootstrap=True, class_weight=None, criterion='gini',\n",
       "            max_depth=10, max_features='auto', max_leaf_nodes=50,\n",
       "            min_impurity_decrease=0.0, min_impurity_split=None,\n",
       "            min_samples_leaf=2, min_samples_split=5,\n",
       "            min_weight_fraction_leaf=0.0, n_estimators=10, n_jobs=1,\n",
       "            oob_score=False, random_state=None, verbose=0,\n",
       "            warm_start=False)"
      ]
     },
     "execution_count": 62,
     "metadata": {},
     "output_type": "execute_result"
    }
   ],
   "source": [
    "grid.best_estimator_"
   ]
  },
  {
   "cell_type": "code",
   "execution_count": 63,
   "metadata": {},
   "outputs": [
    {
     "data": {
      "text/plain": [
       "{'max_depth': 10,\n",
       " 'max_leaf_nodes': 50,\n",
       " 'min_samples_leaf': 2,\n",
       " 'min_samples_split': 5}"
      ]
     },
     "execution_count": 63,
     "metadata": {},
     "output_type": "execute_result"
    }
   ],
   "source": [
    "grid.best_params_"
   ]
  },
  {
   "cell_type": "code",
   "execution_count": null,
   "metadata": {},
   "outputs": [],
   "source": [
    "train_auc = []\n",
    "test_auc = []\n",
    "\n",
    "for i in range(1,200):\n",
    "    clf = RandomForestClassifier(max_depth=10, max_leaf_nodes=50, min_samples_split=9,\n",
    "                                 n_estimators=50)\n",
    "    \n",
    "    clf.fit(X_train1, y_train1.values.ravel())\n",
    "    train_auc.append(roc_auc_score(y_train1, clf.predict(X_train1)))\n",
    "    test_auc.append(roc_auc_score(y_test1, clf.predict(X_test1)))\n",
    "\n",
    "train_auc, test_auc\n",
    "\n",
    "plt.plot(range(199), train_auc)\n",
    "plt.plot(range(199), test_auc)"
   ]
  },
  {
   "cell_type": "code",
   "execution_count": null,
   "metadata": {},
   "outputs": [],
   "source": [
    "train_df = pd.DataFrame(list(zip(train_auc, test_auc)),\n",
    "              columns=['train_auc','test_auc'])\n",
    "\n",
    "train_df1_200 = train_df.to_csv(\"Data/train_df1_200.csv\")"
   ]
  },
  {
   "cell_type": "markdown",
   "metadata": {},
   "source": [
    "##### Training for Type 4 Covertype - Cottonwood"
   ]
  },
  {
   "cell_type": "code",
   "execution_count": null,
   "metadata": {},
   "outputs": [],
   "source": [
    "y4 = CoverTypeDF[[\"Y4\"]]\n",
    "X_train4, X_test4, y_train4, y_test4 = train_test_split(X_encoded, y4)\n",
    "concat4 = pd.concat([X_train4, y_train4], axis=1)\n",
    "\n",
    "# normalizer\n",
    "sds4 = StandardScaler()\n",
    "sds4.fit(X_train4)\n",
    "X_train4 = sds4.transform(X_train4)\n",
    "X_test4 = sds4.transform(X_test4)\n",
    "\n",
    "# grid training session\n",
    "train_auc4 = []\n",
    "test_auc4 = []\n",
    "\n",
    "for i in range(1,20):\n",
    "    clf = RandomForestClassifier(max_depth=10, max_leaf_nodes=50, min_samples_split=9,\n",
    "                                 n_estimators=10)\n",
    "    \n",
    "    clf.fit(X_train4, y_train4.values.ravel())\n",
    "    train_auc4.append(roc_auc_score(y_train4, clf.predict(X_train4)))\n",
    "    test_auc4.append(roc_auc_score(y_test4, clf.predict(X_test4)))\n",
    "\n",
    "train_auc4, test_auc4\n",
    "\n",
    "plt.plot(range(19), train_auc4)\n",
    "plt.plot(range(19), test_auc4)"
   ]
  },
  {
   "cell_type": "code",
   "execution_count": null,
   "metadata": {},
   "outputs": [],
   "source": [
    "train_df4 = pd.DataFrame(list(zip(train_auc4, test_auc4)),\n",
    "              columns=['train_auc4','test_auc4'])\n",
    "\n",
    "train_df4 = train_df4.to_csv(\"Data/train_df4.csv\")"
   ]
  },
  {
   "cell_type": "markdown",
   "metadata": {},
   "source": [
    "##### Training for Type 7 Covertype - Krummholz"
   ]
  },
  {
   "cell_type": "code",
   "execution_count": null,
   "metadata": {},
   "outputs": [],
   "source": [
    "y7 = CoverTypeDF[[\"Y7\"]]\n",
    "X_train7, X_test7, y_train7, y_test7 = train_test_split(X_encoded, y7)\n",
    "concat7 = pd.concat([X_train7, y_train7], axis=1)\n",
    "\n",
    "# normalizer\n",
    "sds7 = StandardScaler()\n",
    "sds7.fit(X_train7)\n",
    "X_train7 = sds7.transform(X_train7)\n",
    "X_test7 = sds7.transform(X_test7)\n",
    "\n",
    "# grid training session\n",
    "train_auc7 = []\n",
    "test_auc7 = []\n",
    "\n",
    "for i in range(1,20):\n",
    "    clf = RandomForestClassifier(max_depth=10, max_leaf_nodes=50, min_samples_split=9,\n",
    "                                 n_estimators=10)\n",
    "    \n",
    "    clf.fit(X_train7, y_train7.values.ravel())\n",
    "    train_auc7.append(roc_auc_score(y_train7, clf.predict(X_train7)))\n",
    "    test_auc7.append(roc_auc_score(y_test7, clf.predict(X_test7)))\n",
    "\n",
    "train_auc7, test_auc7\n",
    "\n",
    "plt.plot(range(19), train_auc7)\n",
    "plt.plot(range(19), test_auc7)"
   ]
  },
  {
   "cell_type": "code",
   "execution_count": null,
   "metadata": {},
   "outputs": [],
   "source": [
    "train_df7 = pd.DataFrame(list(zip(train_auc7, test_auc7)),\n",
    "              columns=['train_auc7','test_auc7'])\n",
    "\n",
    "train_df7 = train_df7.to_csv(\"Data/train_df7.csv\")"
   ]
  },
  {
   "cell_type": "code",
   "execution_count": null,
   "metadata": {},
   "outputs": [],
   "source": [
    "params = {\n",
    "    \"max_depth\": [5,10,15,20,25],\n",
    "    \"min_samples_split\": [5, 10, 14],\n",
    "    \"min_samples_leaf\": [2, 5, 10],\n",
    "    \"max_leaf_nodes\": [15, 20, 50],\n",
    "}"
   ]
  },
  {
   "cell_type": "code",
   "execution_count": null,
   "metadata": {},
   "outputs": [],
   "source": [
    "grid = GridSearchCV(RandomForestClassifier(n_estimators=20), params, cv=5)"
   ]
  },
  {
   "cell_type": "code",
   "execution_count": null,
   "metadata": {},
   "outputs": [],
   "source": [
    "grid"
   ]
  },
  {
   "cell_type": "code",
   "execution_count": null,
   "metadata": {},
   "outputs": [],
   "source": [
    "grid.fit(X_train1, y_train1.values.ravel())"
   ]
  },
  {
   "cell_type": "code",
   "execution_count": null,
   "metadata": {},
   "outputs": [],
   "source": [
    "grid.best_estimator_"
   ]
  },
  {
   "cell_type": "code",
   "execution_count": null,
   "metadata": {},
   "outputs": [],
   "source": [
    "grid.best_params_"
   ]
  },
  {
   "cell_type": "code",
   "execution_count": null,
   "metadata": {},
   "outputs": [],
   "source": [
    "clf = RandomForestClassifier(max_depth=10, max_leaf_nodes=50, min_samples_split=5,\n",
    "                                 n_estimators=20)\n",
    "clf.fit(X_train1, y_train1.values.ravel())"
   ]
  },
  {
   "cell_type": "code",
   "execution_count": null,
   "metadata": {},
   "outputs": [],
   "source": [
    "clf.feature_importances_"
   ]
  },
  {
   "cell_type": "markdown",
   "metadata": {},
   "source": [
    "### Save the Model and Load"
   ]
  },
  {
   "cell_type": "code",
   "execution_count": null,
   "metadata": {},
   "outputs": [],
   "source": [
    "import pickle\n",
    "from sklearn.externals import joblib"
   ]
  },
  {
   "cell_type": "code",
   "execution_count": null,
   "metadata": {},
   "outputs": [],
   "source": [
    "filename = \"./final_covertype.model\""
   ]
  },
  {
   "cell_type": "code",
   "execution_count": null,
   "metadata": {},
   "outputs": [],
   "source": [
    "pickle.dump(clf, open(filename, \"wb\"))"
   ]
  },
  {
   "cell_type": "code",
   "execution_count": null,
   "metadata": {},
   "outputs": [],
   "source": [
    "# Save the scaler\n",
    "joblib.dump(sds1, \"covertype_scaler.model\")"
   ]
  },
  {
   "cell_type": "code",
   "execution_count": null,
   "metadata": {},
   "outputs": [],
   "source": [
    "sds1.mean_"
   ]
  },
  {
   "cell_type": "markdown",
   "metadata": {},
   "source": [
    "--- Delete the CLF file to clear it from memory."
   ]
  },
  {
   "cell_type": "code",
   "execution_count": null,
   "metadata": {},
   "outputs": [],
   "source": [
    "del clf"
   ]
  },
  {
   "cell_type": "markdown",
   "metadata": {},
   "source": [
    "--- Load CLF file in order to apply it to testing set to see how it performs."
   ]
  },
  {
   "cell_type": "code",
   "execution_count": null,
   "metadata": {},
   "outputs": [],
   "source": [
    "clf = pickle.load(open(filename, \"rb\"))"
   ]
  },
  {
   "cell_type": "code",
   "execution_count": null,
   "metadata": {},
   "outputs": [],
   "source": [
    "# CLF specifications\n",
    "clf"
   ]
  },
  {
   "cell_type": "code",
   "execution_count": null,
   "metadata": {},
   "outputs": [],
   "source": [
    "# test clf on #35.\n",
    "X_test1[35], y_test1.values.ravel()[35]"
   ]
  },
  {
   "cell_type": "code",
   "execution_count": null,
   "metadata": {},
   "outputs": [],
   "source": [
    "clf.predict([X_test1[35]])"
   ]
  },
  {
   "cell_type": "code",
   "execution_count": null,
   "metadata": {},
   "outputs": [],
   "source": [
    "clf.predict_proba([X_test1[35]])"
   ]
  },
  {
   "cell_type": "code",
   "execution_count": null,
   "metadata": {},
   "outputs": [],
   "source": [
    "clf.predict_proba(X_test1)"
   ]
  }
 ],
 "metadata": {
  "kernelspec": {
   "display_name": "Python 3",
   "language": "python",
   "name": "python3"
  },
  "language_info": {
   "codemirror_mode": {
    "name": "ipython",
    "version": 3
   },
   "file_extension": ".py",
   "mimetype": "text/x-python",
   "name": "python",
   "nbconvert_exporter": "python",
   "pygments_lexer": "ipython3",
   "version": "3.6.5"
  }
 },
 "nbformat": 4,
 "nbformat_minor": 2
}
