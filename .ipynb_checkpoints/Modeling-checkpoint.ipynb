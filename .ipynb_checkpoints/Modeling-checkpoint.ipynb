{
 "cells": [
  {
   "cell_type": "markdown",
   "metadata": {},
   "source": [
    "#### This is the 'Modeling' Workbook by Megan Gray for the \"Forest Cover Type Dataset: Tree types found in the Roosevelt National Forest in Colorado.\n",
    "\n",
    "https://www.kaggle.com/uciml/forest-cover-type-dataset\n",
    "\n",
    "Please note that you will need to apply the covtype.csv datafile from the above link to the 'Scrub' workbook in order to procure the \"soilsCovDF\" file needed for this section of the process."
   ]
  },
  {
   "cell_type": "code",
   "execution_count": 19,
   "metadata": {},
   "outputs": [],
   "source": [
    "import pandas as pd\n",
    "import seaborn as sns\n",
    "import matplotlib.pyplot as plt\n",
    "import numpy as np\n",
    "\n",
    "from sklearn.linear_model import LogisticRegression\n",
    "from sklearn.tree import DecisionTreeClassifier\n",
    "from sklearn.ensemble import RandomForestClassifier\n",
    "from sklearn.svm import SVC\n",
    "from sklearn.preprocessing import StandardScaler\n",
    "from sklearn.model_selection import train_test_split, ShuffleSplit, GridSearchCV\n",
    "from sklearn.metrics import roc_auc_score, roc_curve, auc\n",
    "from sklearn.neighbors import KNeighborsRegressor, KNeighborsClassifier\n",
    "\n",
    "import os\n",
    "import time\n",
    "import sys"
   ]
  },
  {
   "cell_type": "markdown",
   "metadata": {},
   "source": [
    "List of Cover Types and the respective Tree Types:\n",
    "\n",
    "1 -- Spruce/Fir\n",
    "2 -- Lodgepole Pine\n",
    "3 -- Ponderosa Pine\n",
    "4 -- Cottonwood/Willow\n",
    "5 -- Aspen\n",
    "6 -- Douglas-fir\n",
    "7 -- Krummholz"
   ]
  },
  {
   "cell_type": "code",
   "execution_count": 20,
   "metadata": {},
   "outputs": [
    {
     "name": "stderr",
     "output_type": "stream",
     "text": [
      "/Users/Megan/anaconda3/lib/python3.6/site-packages/IPython/core/interactiveshell.py:2785: DtypeWarning: Columns (19,20) have mixed types. Specify dtype option on import or set low_memory=False.\n",
      "  interactivity=interactivity, compiler=compiler, result=result)\n"
     ]
    }
   ],
   "source": [
    "soilsCovDF = pd.read_csv(\"Data/soilsCovtype.csv\")"
   ]
  },
  {
   "cell_type": "code",
   "execution_count": 21,
   "metadata": {},
   "outputs": [
    {
     "data": {
      "text/html": [
       "<div>\n",
       "<style scoped>\n",
       "    .dataframe tbody tr th:only-of-type {\n",
       "        vertical-align: middle;\n",
       "    }\n",
       "\n",
       "    .dataframe tbody tr th {\n",
       "        vertical-align: top;\n",
       "    }\n",
       "\n",
       "    .dataframe thead th {\n",
       "        text-align: right;\n",
       "    }\n",
       "</style>\n",
       "<table border=\"1\" class=\"dataframe\">\n",
       "  <thead>\n",
       "    <tr style=\"text-align: right;\">\n",
       "      <th></th>\n",
       "      <th>Elevation</th>\n",
       "      <th>Aspect</th>\n",
       "      <th>Slope</th>\n",
       "      <th>Horizontal_Distance_To_Hydrology</th>\n",
       "      <th>Vertical_Distance_To_Hydrology</th>\n",
       "      <th>Horizontal_Distance_To_Roadways</th>\n",
       "      <th>Hillshade_9am</th>\n",
       "      <th>Hillshade_Noon</th>\n",
       "      <th>Hillshade_3pm</th>\n",
       "      <th>Horizontal_Distance_To_Fire_Points</th>\n",
       "      <th>...</th>\n",
       "      <th>Cover_Type</th>\n",
       "      <th>SoilType</th>\n",
       "      <th>Soil_Type</th>\n",
       "      <th>code</th>\n",
       "      <th>family</th>\n",
       "      <th>sub-family</th>\n",
       "      <th>description</th>\n",
       "      <th>climatic zone</th>\n",
       "      <th>geologic zone</th>\n",
       "      <th>GeoSoils</th>\n",
       "    </tr>\n",
       "  </thead>\n",
       "  <tbody>\n",
       "    <tr>\n",
       "      <th>0</th>\n",
       "      <td>2596</td>\n",
       "      <td>51</td>\n",
       "      <td>3</td>\n",
       "      <td>258</td>\n",
       "      <td>0</td>\n",
       "      <td>510</td>\n",
       "      <td>221</td>\n",
       "      <td>232</td>\n",
       "      <td>148</td>\n",
       "      <td>6279</td>\n",
       "      <td>...</td>\n",
       "      <td>5</td>\n",
       "      <td>29</td>\n",
       "      <td>29</td>\n",
       "      <td>7745</td>\n",
       "      <td>Como</td>\n",
       "      <td>Legault</td>\n",
       "      <td>extremely stony</td>\n",
       "      <td>subalpine</td>\n",
       "      <td>igneous and metamorphic</td>\n",
       "      <td>1</td>\n",
       "    </tr>\n",
       "    <tr>\n",
       "      <th>1</th>\n",
       "      <td>2590</td>\n",
       "      <td>56</td>\n",
       "      <td>2</td>\n",
       "      <td>212</td>\n",
       "      <td>-6</td>\n",
       "      <td>390</td>\n",
       "      <td>220</td>\n",
       "      <td>235</td>\n",
       "      <td>151</td>\n",
       "      <td>6225</td>\n",
       "      <td>...</td>\n",
       "      <td>5</td>\n",
       "      <td>29</td>\n",
       "      <td>29</td>\n",
       "      <td>7745</td>\n",
       "      <td>Como</td>\n",
       "      <td>Legault</td>\n",
       "      <td>extremely stony</td>\n",
       "      <td>subalpine</td>\n",
       "      <td>igneous and metamorphic</td>\n",
       "      <td>1</td>\n",
       "    </tr>\n",
       "    <tr>\n",
       "      <th>2</th>\n",
       "      <td>2595</td>\n",
       "      <td>45</td>\n",
       "      <td>2</td>\n",
       "      <td>153</td>\n",
       "      <td>-1</td>\n",
       "      <td>391</td>\n",
       "      <td>220</td>\n",
       "      <td>234</td>\n",
       "      <td>150</td>\n",
       "      <td>6172</td>\n",
       "      <td>...</td>\n",
       "      <td>5</td>\n",
       "      <td>29</td>\n",
       "      <td>29</td>\n",
       "      <td>7745</td>\n",
       "      <td>Como</td>\n",
       "      <td>Legault</td>\n",
       "      <td>extremely stony</td>\n",
       "      <td>subalpine</td>\n",
       "      <td>igneous and metamorphic</td>\n",
       "      <td>1</td>\n",
       "    </tr>\n",
       "    <tr>\n",
       "      <th>3</th>\n",
       "      <td>2579</td>\n",
       "      <td>132</td>\n",
       "      <td>6</td>\n",
       "      <td>300</td>\n",
       "      <td>-15</td>\n",
       "      <td>67</td>\n",
       "      <td>230</td>\n",
       "      <td>237</td>\n",
       "      <td>140</td>\n",
       "      <td>6031</td>\n",
       "      <td>...</td>\n",
       "      <td>2</td>\n",
       "      <td>29</td>\n",
       "      <td>29</td>\n",
       "      <td>7745</td>\n",
       "      <td>Como</td>\n",
       "      <td>Legault</td>\n",
       "      <td>extremely stony</td>\n",
       "      <td>subalpine</td>\n",
       "      <td>igneous and metamorphic</td>\n",
       "      <td>1</td>\n",
       "    </tr>\n",
       "    <tr>\n",
       "      <th>4</th>\n",
       "      <td>2606</td>\n",
       "      <td>45</td>\n",
       "      <td>7</td>\n",
       "      <td>270</td>\n",
       "      <td>5</td>\n",
       "      <td>633</td>\n",
       "      <td>222</td>\n",
       "      <td>225</td>\n",
       "      <td>138</td>\n",
       "      <td>6256</td>\n",
       "      <td>...</td>\n",
       "      <td>5</td>\n",
       "      <td>29</td>\n",
       "      <td>29</td>\n",
       "      <td>7745</td>\n",
       "      <td>Como</td>\n",
       "      <td>Legault</td>\n",
       "      <td>extremely stony</td>\n",
       "      <td>subalpine</td>\n",
       "      <td>igneous and metamorphic</td>\n",
       "      <td>1</td>\n",
       "    </tr>\n",
       "  </tbody>\n",
       "</table>\n",
       "<p>5 rows × 24 columns</p>\n",
       "</div>"
      ],
      "text/plain": [
       "   Elevation  Aspect  Slope  Horizontal_Distance_To_Hydrology  \\\n",
       "0       2596      51      3                               258   \n",
       "1       2590      56      2                               212   \n",
       "2       2595      45      2                               153   \n",
       "3       2579     132      6                               300   \n",
       "4       2606      45      7                               270   \n",
       "\n",
       "   Vertical_Distance_To_Hydrology  Horizontal_Distance_To_Roadways  \\\n",
       "0                               0                              510   \n",
       "1                              -6                              390   \n",
       "2                              -1                              391   \n",
       "3                             -15                               67   \n",
       "4                               5                              633   \n",
       "\n",
       "   Hillshade_9am  Hillshade_Noon  Hillshade_3pm  \\\n",
       "0            221             232            148   \n",
       "1            220             235            151   \n",
       "2            220             234            150   \n",
       "3            230             237            140   \n",
       "4            222             225            138   \n",
       "\n",
       "   Horizontal_Distance_To_Fire_Points   ...     Cover_Type  SoilType  \\\n",
       "0                                6279   ...              5        29   \n",
       "1                                6225   ...              5        29   \n",
       "2                                6172   ...              5        29   \n",
       "3                                6031   ...              2        29   \n",
       "4                                6256   ...              5        29   \n",
       "\n",
       "   Soil_Type  code  family  sub-family      description  climatic zone  \\\n",
       "0         29  7745    Como     Legault  extremely stony      subalpine   \n",
       "1         29  7745    Como     Legault  extremely stony      subalpine   \n",
       "2         29  7745    Como     Legault  extremely stony      subalpine   \n",
       "3         29  7745    Como     Legault  extremely stony      subalpine   \n",
       "4         29  7745    Como     Legault  extremely stony      subalpine   \n",
       "\n",
       "             geologic zone GeoSoils  \n",
       "0  igneous and metamorphic        1  \n",
       "1  igneous and metamorphic        1  \n",
       "2  igneous and metamorphic        1  \n",
       "3  igneous and metamorphic        1  \n",
       "4  igneous and metamorphic        1  \n",
       "\n",
       "[5 rows x 24 columns]"
      ]
     },
     "execution_count": 21,
     "metadata": {},
     "output_type": "execute_result"
    }
   ],
   "source": [
    "soilsCovDF.head()"
   ]
  },
  {
   "cell_type": "code",
   "execution_count": 22,
   "metadata": {},
   "outputs": [
    {
     "data": {
      "text/plain": [
       "Index(['Elevation', 'Aspect', 'Slope', 'Horizontal_Distance_To_Hydrology',\n",
       "       'Vertical_Distance_To_Hydrology', 'Horizontal_Distance_To_Roadways',\n",
       "       'Hillshade_9am', 'Hillshade_Noon', 'Hillshade_3pm',\n",
       "       'Horizontal_Distance_To_Fire_Points', 'Wilderness_Area1',\n",
       "       'Wilderness_Area2', 'Wilderness_Area3', 'Wilderness_Area4',\n",
       "       'Cover_Type', 'SoilType', 'Soil_Type', 'code', 'family', 'sub-family',\n",
       "       'description', 'climatic zone', 'geologic zone', 'GeoSoils'],\n",
       "      dtype='object')"
      ]
     },
     "execution_count": 22,
     "metadata": {},
     "output_type": "execute_result"
    }
   ],
   "source": [
    "soilsCovDF.columns"
   ]
  },
  {
   "cell_type": "markdown",
   "metadata": {},
   "source": [
    "#### To begin the modeling process - I need to specify which features to use for the model to train on."
   ]
  },
  {
   "cell_type": "code",
   "execution_count": 23,
   "metadata": {},
   "outputs": [],
   "source": [
    "features_to_use = [\n",
    "#     \"Cover_Type\",\n",
    "    \"GeoSoils\",\n",
    "    \"Elevation\",  \n",
    "    \"Slope\", \n",
    "    \"Hillshade_9am\", \n",
    "    \"Hillshade_3pm\", \n",
    "    \"Horizontal_Distance_To_Hydrology\", \n",
    "    \"Horizontal_Distance_To_Fire_Points\"\n",
    "]"
   ]
  },
  {
   "cell_type": "markdown",
   "metadata": {},
   "source": [
    "#### However I do need to drop un-needed columns from the dataset for now. I may need to come back to this and remove some of these items from the drop list to re-incorporate if I feel that they are needed."
   ]
  },
  {
   "cell_type": "code",
   "execution_count": 24,
   "metadata": {
    "scrolled": false
   },
   "outputs": [],
   "source": [
    "CoverTypeDF = soilsCovDF.drop(columns=[\n",
    "    \"Aspect\",\n",
    "    \"Vertical_Distance_To_Hydrology\",\n",
    "    \"Horizontal_Distance_To_Roadways\",\n",
    "    \"Hillshade_Noon\",\n",
    "    \"Wilderness_Area1\",\n",
    "    \"Wilderness_Area2\",\n",
    "    \"Wilderness_Area3\",\n",
    "    \"Wilderness_Area4\",\n",
    "    \"SoilType\",\n",
    "    \"Soil_Type\",\n",
    "    \"code\",\n",
    "    \"family\",\n",
    "    \"sub-family\",\n",
    "    \"description\",\n",
    "    \"climatic zone\",\n",
    "    \"geologic zone\"\n",
    "    ])"
   ]
  },
  {
   "cell_type": "code",
   "execution_count": 25,
   "metadata": {},
   "outputs": [
    {
     "data": {
      "text/html": [
       "<div>\n",
       "<style scoped>\n",
       "    .dataframe tbody tr th:only-of-type {\n",
       "        vertical-align: middle;\n",
       "    }\n",
       "\n",
       "    .dataframe tbody tr th {\n",
       "        vertical-align: top;\n",
       "    }\n",
       "\n",
       "    .dataframe thead th {\n",
       "        text-align: right;\n",
       "    }\n",
       "</style>\n",
       "<table border=\"1\" class=\"dataframe\">\n",
       "  <thead>\n",
       "    <tr style=\"text-align: right;\">\n",
       "      <th></th>\n",
       "      <th>Elevation</th>\n",
       "      <th>Slope</th>\n",
       "      <th>Horizontal_Distance_To_Hydrology</th>\n",
       "      <th>Hillshade_9am</th>\n",
       "      <th>Hillshade_3pm</th>\n",
       "      <th>Horizontal_Distance_To_Fire_Points</th>\n",
       "      <th>Cover_Type</th>\n",
       "      <th>GeoSoils</th>\n",
       "    </tr>\n",
       "  </thead>\n",
       "  <tbody>\n",
       "    <tr>\n",
       "      <th>0</th>\n",
       "      <td>2596</td>\n",
       "      <td>3</td>\n",
       "      <td>258</td>\n",
       "      <td>221</td>\n",
       "      <td>148</td>\n",
       "      <td>6279</td>\n",
       "      <td>5</td>\n",
       "      <td>1</td>\n",
       "    </tr>\n",
       "    <tr>\n",
       "      <th>1</th>\n",
       "      <td>2590</td>\n",
       "      <td>2</td>\n",
       "      <td>212</td>\n",
       "      <td>220</td>\n",
       "      <td>151</td>\n",
       "      <td>6225</td>\n",
       "      <td>5</td>\n",
       "      <td>1</td>\n",
       "    </tr>\n",
       "    <tr>\n",
       "      <th>2</th>\n",
       "      <td>2595</td>\n",
       "      <td>2</td>\n",
       "      <td>153</td>\n",
       "      <td>220</td>\n",
       "      <td>150</td>\n",
       "      <td>6172</td>\n",
       "      <td>5</td>\n",
       "      <td>1</td>\n",
       "    </tr>\n",
       "    <tr>\n",
       "      <th>3</th>\n",
       "      <td>2579</td>\n",
       "      <td>6</td>\n",
       "      <td>300</td>\n",
       "      <td>230</td>\n",
       "      <td>140</td>\n",
       "      <td>6031</td>\n",
       "      <td>2</td>\n",
       "      <td>1</td>\n",
       "    </tr>\n",
       "    <tr>\n",
       "      <th>4</th>\n",
       "      <td>2606</td>\n",
       "      <td>7</td>\n",
       "      <td>270</td>\n",
       "      <td>222</td>\n",
       "      <td>138</td>\n",
       "      <td>6256</td>\n",
       "      <td>5</td>\n",
       "      <td>1</td>\n",
       "    </tr>\n",
       "  </tbody>\n",
       "</table>\n",
       "</div>"
      ],
      "text/plain": [
       "   Elevation  Slope  Horizontal_Distance_To_Hydrology  Hillshade_9am  \\\n",
       "0       2596      3                               258            221   \n",
       "1       2590      2                               212            220   \n",
       "2       2595      2                               153            220   \n",
       "3       2579      6                               300            230   \n",
       "4       2606      7                               270            222   \n",
       "\n",
       "   Hillshade_3pm  Horizontal_Distance_To_Fire_Points  Cover_Type  GeoSoils  \n",
       "0            148                                6279           5         1  \n",
       "1            151                                6225           5         1  \n",
       "2            150                                6172           5         1  \n",
       "3            140                                6031           2         1  \n",
       "4            138                                6256           5         1  "
      ]
     },
     "execution_count": 25,
     "metadata": {},
     "output_type": "execute_result"
    }
   ],
   "source": [
    "CoverTypeDF.head()"
   ]
  },
  {
   "cell_type": "code",
   "execution_count": 26,
   "metadata": {},
   "outputs": [
    {
     "data": {
      "text/plain": [
       "Elevation                             int64\n",
       "Slope                                 int64\n",
       "Horizontal_Distance_To_Hydrology      int64\n",
       "Hillshade_9am                         int64\n",
       "Hillshade_3pm                         int64\n",
       "Horizontal_Distance_To_Fire_Points    int64\n",
       "Cover_Type                            int64\n",
       "GeoSoils                              int64\n",
       "dtype: object"
      ]
     },
     "execution_count": 26,
     "metadata": {},
     "output_type": "execute_result"
    }
   ],
   "source": [
    "CoverTypeDF.dtypes"
   ]
  },
  {
   "cell_type": "code",
   "execution_count": 27,
   "metadata": {},
   "outputs": [],
   "source": [
    "features_to_use = [\n",
    "#     \"Cover_Type\",\n",
    "    \"GeoSoils\",\n",
    "    \"Elevation\",  \n",
    "    \"Slope\", \n",
    "    \"Hillshade_9am\", \n",
    "    \"Hillshade_3pm\", \n",
    "    \"Horizontal_Distance_To_Hydrology\", \n",
    "    \"Horizontal_Distance_To_Fire_Points\",\n",
    "]"
   ]
  },
  {
   "cell_type": "markdown",
   "metadata": {},
   "source": [
    "#### Create 'X' which is the summarized dataframe from CoverTypeDF with the extracted data via 'features_to_use'."
   ]
  },
  {
   "cell_type": "code",
   "execution_count": 28,
   "metadata": {},
   "outputs": [],
   "source": [
    "X = CoverTypeDF[features_to_use]"
   ]
  },
  {
   "cell_type": "code",
   "execution_count": 29,
   "metadata": {},
   "outputs": [
    {
     "data": {
      "text/html": [
       "<div>\n",
       "<style scoped>\n",
       "    .dataframe tbody tr th:only-of-type {\n",
       "        vertical-align: middle;\n",
       "    }\n",
       "\n",
       "    .dataframe tbody tr th {\n",
       "        vertical-align: top;\n",
       "    }\n",
       "\n",
       "    .dataframe thead th {\n",
       "        text-align: right;\n",
       "    }\n",
       "</style>\n",
       "<table border=\"1\" class=\"dataframe\">\n",
       "  <thead>\n",
       "    <tr style=\"text-align: right;\">\n",
       "      <th></th>\n",
       "      <th>GeoSoils</th>\n",
       "      <th>Elevation</th>\n",
       "      <th>Slope</th>\n",
       "      <th>Hillshade_9am</th>\n",
       "      <th>Hillshade_3pm</th>\n",
       "      <th>Horizontal_Distance_To_Hydrology</th>\n",
       "      <th>Horizontal_Distance_To_Fire_Points</th>\n",
       "    </tr>\n",
       "  </thead>\n",
       "  <tbody>\n",
       "    <tr>\n",
       "      <th>0</th>\n",
       "      <td>1</td>\n",
       "      <td>2596</td>\n",
       "      <td>3</td>\n",
       "      <td>221</td>\n",
       "      <td>148</td>\n",
       "      <td>258</td>\n",
       "      <td>6279</td>\n",
       "    </tr>\n",
       "    <tr>\n",
       "      <th>1</th>\n",
       "      <td>1</td>\n",
       "      <td>2590</td>\n",
       "      <td>2</td>\n",
       "      <td>220</td>\n",
       "      <td>151</td>\n",
       "      <td>212</td>\n",
       "      <td>6225</td>\n",
       "    </tr>\n",
       "    <tr>\n",
       "      <th>2</th>\n",
       "      <td>1</td>\n",
       "      <td>2595</td>\n",
       "      <td>2</td>\n",
       "      <td>220</td>\n",
       "      <td>150</td>\n",
       "      <td>153</td>\n",
       "      <td>6172</td>\n",
       "    </tr>\n",
       "    <tr>\n",
       "      <th>3</th>\n",
       "      <td>1</td>\n",
       "      <td>2579</td>\n",
       "      <td>6</td>\n",
       "      <td>230</td>\n",
       "      <td>140</td>\n",
       "      <td>300</td>\n",
       "      <td>6031</td>\n",
       "    </tr>\n",
       "    <tr>\n",
       "      <th>4</th>\n",
       "      <td>1</td>\n",
       "      <td>2606</td>\n",
       "      <td>7</td>\n",
       "      <td>222</td>\n",
       "      <td>138</td>\n",
       "      <td>270</td>\n",
       "      <td>6256</td>\n",
       "    </tr>\n",
       "  </tbody>\n",
       "</table>\n",
       "</div>"
      ],
      "text/plain": [
       "   GeoSoils  Elevation  Slope  Hillshade_9am  Hillshade_3pm  \\\n",
       "0         1       2596      3            221            148   \n",
       "1         1       2590      2            220            151   \n",
       "2         1       2595      2            220            150   \n",
       "3         1       2579      6            230            140   \n",
       "4         1       2606      7            222            138   \n",
       "\n",
       "   Horizontal_Distance_To_Hydrology  Horizontal_Distance_To_Fire_Points  \n",
       "0                               258                                6279  \n",
       "1                               212                                6225  \n",
       "2                               153                                6172  \n",
       "3                               300                                6031  \n",
       "4                               270                                6256  "
      ]
     },
     "execution_count": 29,
     "metadata": {},
     "output_type": "execute_result"
    }
   ],
   "source": [
    "X.head()"
   ]
  },
  {
   "cell_type": "code",
   "execution_count": 30,
   "metadata": {
    "scrolled": true
   },
   "outputs": [],
   "source": [
    "# apply X to 'get_dummies' to get X_encoded\n",
    "X_encoded = pd.get_dummies(X)"
   ]
  },
  {
   "cell_type": "code",
   "execution_count": 31,
   "metadata": {},
   "outputs": [],
   "source": [
    "# specify what \"y\" is\n",
    "y = CoverTypeDF[[\"Cover_Type\"]]"
   ]
  },
  {
   "cell_type": "code",
   "execution_count": 32,
   "metadata": {},
   "outputs": [],
   "source": [
    "# create training and testing datasets for x and y.\n",
    "X_train, X_test, y_train, y_test = train_test_split(X_encoded[features_to_use], y)"
   ]
  },
  {
   "cell_type": "code",
   "execution_count": 33,
   "metadata": {},
   "outputs": [],
   "source": [
    "# normalize the X_train and X_test\n",
    "sds = StandardScaler()\n",
    "sds.fit(X_train)\n",
    "X_train = sds.transform(X_train)\n",
    "X_test = sds.transform(X_test)"
   ]
  },
  {
   "cell_type": "code",
   "execution_count": 34,
   "metadata": {},
   "outputs": [
    {
     "ename": "ValueError",
     "evalue": "multiclass format is not supported",
     "output_type": "error",
     "traceback": [
      "\u001b[0;31m---------------------------------------------------------------------------\u001b[0m",
      "\u001b[0;31mValueError\u001b[0m                                Traceback (most recent call last)",
      "\u001b[0;32m<ipython-input-34-3fe9f51fe59c>\u001b[0m in \u001b[0;36m<module>\u001b[0;34m()\u001b[0m\n\u001b[1;32m      8\u001b[0m \u001b[0;34m\u001b[0m\u001b[0m\n\u001b[1;32m      9\u001b[0m     \u001b[0mypred\u001b[0m \u001b[0;34m=\u001b[0m \u001b[0mclf\u001b[0m\u001b[0;34m.\u001b[0m\u001b[0mpredict\u001b[0m\u001b[0;34m(\u001b[0m\u001b[0mX_test\u001b[0m\u001b[0;34m)\u001b[0m\u001b[0;34m\u001b[0m\u001b[0m\n\u001b[0;32m---> 10\u001b[0;31m     \u001b[0mscores\u001b[0m \u001b[0;34m=\u001b[0m \u001b[0mroc_auc_score\u001b[0m\u001b[0;34m(\u001b[0m\u001b[0my_test\u001b[0m\u001b[0;34m,\u001b[0m \u001b[0mypred\u001b[0m\u001b[0;34m)\u001b[0m\u001b[0;34m\u001b[0m\u001b[0m\n\u001b[0m\u001b[1;32m     11\u001b[0m \u001b[0;34m\u001b[0m\u001b[0m\n\u001b[1;32m     12\u001b[0m     \u001b[0mprint\u001b[0m\u001b[0;34m(\u001b[0m\u001b[0;34mf\"Decision tree {i+1} took {t1-t0} seconds to train and got a score of {scores}\"\u001b[0m\u001b[0;34m)\u001b[0m\u001b[0;34m\u001b[0m\u001b[0m\n",
      "\u001b[0;32m~/anaconda3/lib/python3.6/site-packages/sklearn/metrics/ranking.py\u001b[0m in \u001b[0;36mroc_auc_score\u001b[0;34m(y_true, y_score, average, sample_weight)\u001b[0m\n\u001b[1;32m    275\u001b[0m     return _average_binary_score(\n\u001b[1;32m    276\u001b[0m         \u001b[0m_binary_roc_auc_score\u001b[0m\u001b[0;34m,\u001b[0m \u001b[0my_true\u001b[0m\u001b[0;34m,\u001b[0m \u001b[0my_score\u001b[0m\u001b[0;34m,\u001b[0m \u001b[0maverage\u001b[0m\u001b[0;34m,\u001b[0m\u001b[0;34m\u001b[0m\u001b[0m\n\u001b[0;32m--> 277\u001b[0;31m         sample_weight=sample_weight)\n\u001b[0m\u001b[1;32m    278\u001b[0m \u001b[0;34m\u001b[0m\u001b[0m\n\u001b[1;32m    279\u001b[0m \u001b[0;34m\u001b[0m\u001b[0m\n",
      "\u001b[0;32m~/anaconda3/lib/python3.6/site-packages/sklearn/metrics/base.py\u001b[0m in \u001b[0;36m_average_binary_score\u001b[0;34m(binary_metric, y_true, y_score, average, sample_weight)\u001b[0m\n\u001b[1;32m     70\u001b[0m     \u001b[0my_type\u001b[0m \u001b[0;34m=\u001b[0m \u001b[0mtype_of_target\u001b[0m\u001b[0;34m(\u001b[0m\u001b[0my_true\u001b[0m\u001b[0;34m)\u001b[0m\u001b[0;34m\u001b[0m\u001b[0m\n\u001b[1;32m     71\u001b[0m     \u001b[0;32mif\u001b[0m \u001b[0my_type\u001b[0m \u001b[0;32mnot\u001b[0m \u001b[0;32min\u001b[0m \u001b[0;34m(\u001b[0m\u001b[0;34m\"binary\"\u001b[0m\u001b[0;34m,\u001b[0m \u001b[0;34m\"multilabel-indicator\"\u001b[0m\u001b[0;34m)\u001b[0m\u001b[0;34m:\u001b[0m\u001b[0;34m\u001b[0m\u001b[0m\n\u001b[0;32m---> 72\u001b[0;31m         \u001b[0;32mraise\u001b[0m \u001b[0mValueError\u001b[0m\u001b[0;34m(\u001b[0m\u001b[0;34m\"{0} format is not supported\"\u001b[0m\u001b[0;34m.\u001b[0m\u001b[0mformat\u001b[0m\u001b[0;34m(\u001b[0m\u001b[0my_type\u001b[0m\u001b[0;34m)\u001b[0m\u001b[0;34m)\u001b[0m\u001b[0;34m\u001b[0m\u001b[0m\n\u001b[0m\u001b[1;32m     73\u001b[0m \u001b[0;34m\u001b[0m\u001b[0m\n\u001b[1;32m     74\u001b[0m     \u001b[0;32mif\u001b[0m \u001b[0my_type\u001b[0m \u001b[0;34m==\u001b[0m \u001b[0;34m\"binary\"\u001b[0m\u001b[0;34m:\u001b[0m\u001b[0;34m\u001b[0m\u001b[0m\n",
      "\u001b[0;31mValueError\u001b[0m: multiclass format is not supported"
     ]
    }
   ],
   "source": [
    "# apply training dataset to see if the DecisionTree Classifier is able to predict features.\n",
    "for i in range(5):\n",
    "    \n",
    "    t0 = time.time()\n",
    "    clf = DecisionTreeClassifier()\n",
    "    \n",
    "    clf.fit(X_train, y_train)\n",
    "    t1 = time.time()\n",
    "    \n",
    "    ypred = clf.predict(X_test)\n",
    "    scores = roc_auc_score(y_test, ypred)\n",
    "    \n",
    "    print(f\"Decision tree {i+1} took {t1-t0} seconds to train and got a score of {scores}\")\n",
    "    print()\n",
    "    print(\"And here are the top features: \")\n",
    "    c = X_encoded.columns \n",
    "    for cfi in zip(c, clf.feature_importances_):\n",
    "        print(cfi)\n",
    "    print()"
   ]
  },
  {
   "cell_type": "markdown",
   "metadata": {},
   "source": [
    "#### After trying to run the Decision Tree Classifier on main Dataframe - the results come back with \"ValueError: multiclass format is not supported\". Now is the time to separate Cover_Type out into separate columns with values of '1' or '0' in order to allow for binary values for each covertype and re-run for each."
   ]
  },
  {
   "cell_type": "code",
   "execution_count": 35,
   "metadata": {},
   "outputs": [],
   "source": [
    "CoverTypeDF['Y1'] = CoverTypeDF.Cover_Type.apply(lambda x: 1 if x == 1 else 0)\n",
    "CoverTypeDF['Y2'] = CoverTypeDF.Cover_Type.apply(lambda x: 1 if x == 2 else 0)\n",
    "CoverTypeDF['Y3'] = CoverTypeDF.Cover_Type.apply(lambda x: 1 if x == 3 else 0)\n",
    "CoverTypeDF['Y4'] = CoverTypeDF.Cover_Type.apply(lambda x: 1 if x == 4 else 0)\n",
    "CoverTypeDF['Y5'] = CoverTypeDF.Cover_Type.apply(lambda x: 1 if x == 5 else 0)\n",
    "CoverTypeDF['Y6'] = CoverTypeDF.Cover_Type.apply(lambda x: 1 if x == 6 else 0)\n",
    "CoverTypeDF['Y7'] = CoverTypeDF.Cover_Type.apply(lambda x: 1 if x == 7 else 0)"
   ]
  },
  {
   "cell_type": "code",
   "execution_count": 36,
   "metadata": {},
   "outputs": [],
   "source": [
    "# export new dataframe to csv to preserve data.\n",
    "CoverTypeCSV = CoverTypeDF.to_csv(\"Data/CovTypeDF.csv\")"
   ]
  },
  {
   "cell_type": "code",
   "execution_count": 41,
   "metadata": {},
   "outputs": [
    {
     "data": {
      "text/html": [
       "<div>\n",
       "<style scoped>\n",
       "    .dataframe tbody tr th:only-of-type {\n",
       "        vertical-align: middle;\n",
       "    }\n",
       "\n",
       "    .dataframe tbody tr th {\n",
       "        vertical-align: top;\n",
       "    }\n",
       "\n",
       "    .dataframe thead th {\n",
       "        text-align: right;\n",
       "    }\n",
       "</style>\n",
       "<table border=\"1\" class=\"dataframe\">\n",
       "  <thead>\n",
       "    <tr style=\"text-align: right;\">\n",
       "      <th></th>\n",
       "      <th>Elevation</th>\n",
       "      <th>Slope</th>\n",
       "      <th>Horizontal_Distance_To_Hydrology</th>\n",
       "      <th>Hillshade_9am</th>\n",
       "      <th>Hillshade_3pm</th>\n",
       "      <th>Horizontal_Distance_To_Fire_Points</th>\n",
       "      <th>Cover_Type</th>\n",
       "      <th>GeoSoils</th>\n",
       "      <th>Y1</th>\n",
       "      <th>Y2</th>\n",
       "      <th>Y3</th>\n",
       "      <th>Y4</th>\n",
       "      <th>Y5</th>\n",
       "      <th>Y6</th>\n",
       "      <th>Y7</th>\n",
       "    </tr>\n",
       "  </thead>\n",
       "  <tbody>\n",
       "    <tr>\n",
       "      <th>0</th>\n",
       "      <td>2596</td>\n",
       "      <td>3</td>\n",
       "      <td>258</td>\n",
       "      <td>221</td>\n",
       "      <td>148</td>\n",
       "      <td>6279</td>\n",
       "      <td>5</td>\n",
       "      <td>1</td>\n",
       "      <td>0</td>\n",
       "      <td>0</td>\n",
       "      <td>0</td>\n",
       "      <td>0</td>\n",
       "      <td>1</td>\n",
       "      <td>0</td>\n",
       "      <td>0</td>\n",
       "    </tr>\n",
       "    <tr>\n",
       "      <th>1</th>\n",
       "      <td>2590</td>\n",
       "      <td>2</td>\n",
       "      <td>212</td>\n",
       "      <td>220</td>\n",
       "      <td>151</td>\n",
       "      <td>6225</td>\n",
       "      <td>5</td>\n",
       "      <td>1</td>\n",
       "      <td>0</td>\n",
       "      <td>0</td>\n",
       "      <td>0</td>\n",
       "      <td>0</td>\n",
       "      <td>1</td>\n",
       "      <td>0</td>\n",
       "      <td>0</td>\n",
       "    </tr>\n",
       "    <tr>\n",
       "      <th>2</th>\n",
       "      <td>2595</td>\n",
       "      <td>2</td>\n",
       "      <td>153</td>\n",
       "      <td>220</td>\n",
       "      <td>150</td>\n",
       "      <td>6172</td>\n",
       "      <td>5</td>\n",
       "      <td>1</td>\n",
       "      <td>0</td>\n",
       "      <td>0</td>\n",
       "      <td>0</td>\n",
       "      <td>0</td>\n",
       "      <td>1</td>\n",
       "      <td>0</td>\n",
       "      <td>0</td>\n",
       "    </tr>\n",
       "    <tr>\n",
       "      <th>3</th>\n",
       "      <td>2579</td>\n",
       "      <td>6</td>\n",
       "      <td>300</td>\n",
       "      <td>230</td>\n",
       "      <td>140</td>\n",
       "      <td>6031</td>\n",
       "      <td>2</td>\n",
       "      <td>1</td>\n",
       "      <td>0</td>\n",
       "      <td>1</td>\n",
       "      <td>0</td>\n",
       "      <td>0</td>\n",
       "      <td>0</td>\n",
       "      <td>0</td>\n",
       "      <td>0</td>\n",
       "    </tr>\n",
       "    <tr>\n",
       "      <th>4</th>\n",
       "      <td>2606</td>\n",
       "      <td>7</td>\n",
       "      <td>270</td>\n",
       "      <td>222</td>\n",
       "      <td>138</td>\n",
       "      <td>6256</td>\n",
       "      <td>5</td>\n",
       "      <td>1</td>\n",
       "      <td>0</td>\n",
       "      <td>0</td>\n",
       "      <td>0</td>\n",
       "      <td>0</td>\n",
       "      <td>1</td>\n",
       "      <td>0</td>\n",
       "      <td>0</td>\n",
       "    </tr>\n",
       "  </tbody>\n",
       "</table>\n",
       "</div>"
      ],
      "text/plain": [
       "   Elevation  Slope  Horizontal_Distance_To_Hydrology  Hillshade_9am  \\\n",
       "0       2596      3                               258            221   \n",
       "1       2590      2                               212            220   \n",
       "2       2595      2                               153            220   \n",
       "3       2579      6                               300            230   \n",
       "4       2606      7                               270            222   \n",
       "\n",
       "   Hillshade_3pm  Horizontal_Distance_To_Fire_Points  Cover_Type  GeoSoils  \\\n",
       "0            148                                6279           5         1   \n",
       "1            151                                6225           5         1   \n",
       "2            150                                6172           5         1   \n",
       "3            140                                6031           2         1   \n",
       "4            138                                6256           5         1   \n",
       "\n",
       "   Y1  Y2  Y3  Y4  Y5  Y6  Y7  \n",
       "0   0   0   0   0   1   0   0  \n",
       "1   0   0   0   0   1   0   0  \n",
       "2   0   0   0   0   1   0   0  \n",
       "3   0   1   0   0   0   0   0  \n",
       "4   0   0   0   0   1   0   0  "
      ]
     },
     "execution_count": 41,
     "metadata": {},
     "output_type": "execute_result"
    }
   ],
   "source": [
    "CoverTypeDF.head()"
   ]
  },
  {
   "cell_type": "markdown",
   "metadata": {},
   "source": [
    "#### Re-do the same modeling process as above but now each CoverType needs to be done individually."
   ]
  },
  {
   "cell_type": "code",
   "execution_count": 47,
   "metadata": {},
   "outputs": [],
   "source": [
    "X = CoverTypeDF[features_to_use]"
   ]
  },
  {
   "cell_type": "code",
   "execution_count": 48,
   "metadata": {},
   "outputs": [],
   "source": [
    "y1 = CoverTypeDF[[\"Y1\"]]"
   ]
  },
  {
   "cell_type": "code",
   "execution_count": 49,
   "metadata": {
    "scrolled": true
   },
   "outputs": [
    {
     "data": {
      "text/html": [
       "<div>\n",
       "<style scoped>\n",
       "    .dataframe tbody tr th:only-of-type {\n",
       "        vertical-align: middle;\n",
       "    }\n",
       "\n",
       "    .dataframe tbody tr th {\n",
       "        vertical-align: top;\n",
       "    }\n",
       "\n",
       "    .dataframe thead th {\n",
       "        text-align: right;\n",
       "    }\n",
       "</style>\n",
       "<table border=\"1\" class=\"dataframe\">\n",
       "  <thead>\n",
       "    <tr style=\"text-align: right;\">\n",
       "      <th></th>\n",
       "      <th>GeoSoils</th>\n",
       "      <th>Elevation</th>\n",
       "      <th>Slope</th>\n",
       "      <th>Hillshade_9am</th>\n",
       "      <th>Hillshade_3pm</th>\n",
       "      <th>Horizontal_Distance_To_Hydrology</th>\n",
       "      <th>Horizontal_Distance_To_Fire_Points</th>\n",
       "    </tr>\n",
       "  </thead>\n",
       "  <tbody>\n",
       "    <tr>\n",
       "      <th>0</th>\n",
       "      <td>1</td>\n",
       "      <td>2596</td>\n",
       "      <td>3</td>\n",
       "      <td>221</td>\n",
       "      <td>148</td>\n",
       "      <td>258</td>\n",
       "      <td>6279</td>\n",
       "    </tr>\n",
       "    <tr>\n",
       "      <th>1</th>\n",
       "      <td>1</td>\n",
       "      <td>2590</td>\n",
       "      <td>2</td>\n",
       "      <td>220</td>\n",
       "      <td>151</td>\n",
       "      <td>212</td>\n",
       "      <td>6225</td>\n",
       "    </tr>\n",
       "    <tr>\n",
       "      <th>2</th>\n",
       "      <td>1</td>\n",
       "      <td>2595</td>\n",
       "      <td>2</td>\n",
       "      <td>220</td>\n",
       "      <td>150</td>\n",
       "      <td>153</td>\n",
       "      <td>6172</td>\n",
       "    </tr>\n",
       "    <tr>\n",
       "      <th>3</th>\n",
       "      <td>1</td>\n",
       "      <td>2579</td>\n",
       "      <td>6</td>\n",
       "      <td>230</td>\n",
       "      <td>140</td>\n",
       "      <td>300</td>\n",
       "      <td>6031</td>\n",
       "    </tr>\n",
       "    <tr>\n",
       "      <th>4</th>\n",
       "      <td>1</td>\n",
       "      <td>2606</td>\n",
       "      <td>7</td>\n",
       "      <td>222</td>\n",
       "      <td>138</td>\n",
       "      <td>270</td>\n",
       "      <td>6256</td>\n",
       "    </tr>\n",
       "  </tbody>\n",
       "</table>\n",
       "</div>"
      ],
      "text/plain": [
       "   GeoSoils  Elevation  Slope  Hillshade_9am  Hillshade_3pm  \\\n",
       "0         1       2596      3            221            148   \n",
       "1         1       2590      2            220            151   \n",
       "2         1       2595      2            220            150   \n",
       "3         1       2579      6            230            140   \n",
       "4         1       2606      7            222            138   \n",
       "\n",
       "   Horizontal_Distance_To_Hydrology  Horizontal_Distance_To_Fire_Points  \n",
       "0                               258                                6279  \n",
       "1                               212                                6225  \n",
       "2                               153                                6172  \n",
       "3                               300                                6031  \n",
       "4                               270                                6256  "
      ]
     },
     "execution_count": 49,
     "metadata": {},
     "output_type": "execute_result"
    }
   ],
   "source": [
    "X.head()"
   ]
  },
  {
   "cell_type": "code",
   "execution_count": 50,
   "metadata": {},
   "outputs": [
    {
     "data": {
      "text/html": [
       "<div>\n",
       "<style scoped>\n",
       "    .dataframe tbody tr th:only-of-type {\n",
       "        vertical-align: middle;\n",
       "    }\n",
       "\n",
       "    .dataframe tbody tr th {\n",
       "        vertical-align: top;\n",
       "    }\n",
       "\n",
       "    .dataframe thead th {\n",
       "        text-align: right;\n",
       "    }\n",
       "</style>\n",
       "<table border=\"1\" class=\"dataframe\">\n",
       "  <thead>\n",
       "    <tr style=\"text-align: right;\">\n",
       "      <th></th>\n",
       "      <th>Y1</th>\n",
       "    </tr>\n",
       "  </thead>\n",
       "  <tbody>\n",
       "    <tr>\n",
       "      <th>0</th>\n",
       "      <td>0</td>\n",
       "    </tr>\n",
       "    <tr>\n",
       "      <th>1</th>\n",
       "      <td>0</td>\n",
       "    </tr>\n",
       "    <tr>\n",
       "      <th>2</th>\n",
       "      <td>0</td>\n",
       "    </tr>\n",
       "    <tr>\n",
       "      <th>3</th>\n",
       "      <td>0</td>\n",
       "    </tr>\n",
       "    <tr>\n",
       "      <th>4</th>\n",
       "      <td>0</td>\n",
       "    </tr>\n",
       "  </tbody>\n",
       "</table>\n",
       "</div>"
      ],
      "text/plain": [
       "   Y1\n",
       "0   0\n",
       "1   0\n",
       "2   0\n",
       "3   0\n",
       "4   0"
      ]
     },
     "execution_count": 50,
     "metadata": {},
     "output_type": "execute_result"
    }
   ],
   "source": [
    "y1.head()"
   ]
  },
  {
   "cell_type": "code",
   "execution_count": 51,
   "metadata": {},
   "outputs": [],
   "source": [
    "X_encoded = pd.get_dummies(X)"
   ]
  },
  {
   "cell_type": "code",
   "execution_count": 52,
   "metadata": {},
   "outputs": [],
   "source": [
    "X_train1, X_test1, y_train1, y_test1 = train_test_split(X_encoded, y1)"
   ]
  },
  {
   "cell_type": "code",
   "execution_count": 53,
   "metadata": {},
   "outputs": [
    {
     "data": {
      "text/plain": [
       "((435759, 7), (145253, 7))"
      ]
     },
     "execution_count": 53,
     "metadata": {},
     "output_type": "execute_result"
    }
   ],
   "source": [
    "X_train1.shape, X_test1.shape"
   ]
  },
  {
   "cell_type": "code",
   "execution_count": 54,
   "metadata": {},
   "outputs": [
    {
     "data": {
      "text/html": [
       "<div>\n",
       "<style scoped>\n",
       "    .dataframe tbody tr th:only-of-type {\n",
       "        vertical-align: middle;\n",
       "    }\n",
       "\n",
       "    .dataframe tbody tr th {\n",
       "        vertical-align: top;\n",
       "    }\n",
       "\n",
       "    .dataframe thead th {\n",
       "        text-align: right;\n",
       "    }\n",
       "</style>\n",
       "<table border=\"1\" class=\"dataframe\">\n",
       "  <thead>\n",
       "    <tr style=\"text-align: right;\">\n",
       "      <th></th>\n",
       "      <th>GeoSoils</th>\n",
       "      <th>Elevation</th>\n",
       "      <th>Slope</th>\n",
       "      <th>Hillshade_9am</th>\n",
       "      <th>Hillshade_3pm</th>\n",
       "      <th>Horizontal_Distance_To_Hydrology</th>\n",
       "      <th>Horizontal_Distance_To_Fire_Points</th>\n",
       "    </tr>\n",
       "  </thead>\n",
       "  <tbody>\n",
       "    <tr>\n",
       "      <th>247900</th>\n",
       "      <td>0</td>\n",
       "      <td>3038</td>\n",
       "      <td>2</td>\n",
       "      <td>221</td>\n",
       "      <td>149</td>\n",
       "      <td>30</td>\n",
       "      <td>2621</td>\n",
       "    </tr>\n",
       "    <tr>\n",
       "      <th>557332</th>\n",
       "      <td>0</td>\n",
       "      <td>2070</td>\n",
       "      <td>29</td>\n",
       "      <td>135</td>\n",
       "      <td>234</td>\n",
       "      <td>30</td>\n",
       "      <td>247</td>\n",
       "    </tr>\n",
       "    <tr>\n",
       "      <th>356626</th>\n",
       "      <td>1</td>\n",
       "      <td>2828</td>\n",
       "      <td>25</td>\n",
       "      <td>174</td>\n",
       "      <td>208</td>\n",
       "      <td>319</td>\n",
       "      <td>1719</td>\n",
       "    </tr>\n",
       "    <tr>\n",
       "      <th>34532</th>\n",
       "      <td>1</td>\n",
       "      <td>2939</td>\n",
       "      <td>14</td>\n",
       "      <td>186</td>\n",
       "      <td>200</td>\n",
       "      <td>351</td>\n",
       "      <td>3346</td>\n",
       "    </tr>\n",
       "    <tr>\n",
       "      <th>112097</th>\n",
       "      <td>1</td>\n",
       "      <td>3263</td>\n",
       "      <td>14</td>\n",
       "      <td>231</td>\n",
       "      <td>142</td>\n",
       "      <td>182</td>\n",
       "      <td>1591</td>\n",
       "    </tr>\n",
       "  </tbody>\n",
       "</table>\n",
       "</div>"
      ],
      "text/plain": [
       "        GeoSoils  Elevation  Slope  Hillshade_9am  Hillshade_3pm  \\\n",
       "247900         0       3038      2            221            149   \n",
       "557332         0       2070     29            135            234   \n",
       "356626         1       2828     25            174            208   \n",
       "34532          1       2939     14            186            200   \n",
       "112097         1       3263     14            231            142   \n",
       "\n",
       "        Horizontal_Distance_To_Hydrology  Horizontal_Distance_To_Fire_Points  \n",
       "247900                                30                                2621  \n",
       "557332                                30                                 247  \n",
       "356626                               319                                1719  \n",
       "34532                                351                                3346  \n",
       "112097                               182                                1591  "
      ]
     },
     "execution_count": 54,
     "metadata": {},
     "output_type": "execute_result"
    }
   ],
   "source": [
    "X_train1.head()"
   ]
  },
  {
   "cell_type": "code",
   "execution_count": 55,
   "metadata": {},
   "outputs": [
    {
     "data": {
      "text/html": [
       "<div>\n",
       "<style scoped>\n",
       "    .dataframe tbody tr th:only-of-type {\n",
       "        vertical-align: middle;\n",
       "    }\n",
       "\n",
       "    .dataframe tbody tr th {\n",
       "        vertical-align: top;\n",
       "    }\n",
       "\n",
       "    .dataframe thead th {\n",
       "        text-align: right;\n",
       "    }\n",
       "</style>\n",
       "<table border=\"1\" class=\"dataframe\">\n",
       "  <thead>\n",
       "    <tr style=\"text-align: right;\">\n",
       "      <th></th>\n",
       "      <th>GeoSoils</th>\n",
       "      <th>Elevation</th>\n",
       "      <th>Slope</th>\n",
       "      <th>Hillshade_9am</th>\n",
       "      <th>Hillshade_3pm</th>\n",
       "      <th>Horizontal_Distance_To_Hydrology</th>\n",
       "      <th>Horizontal_Distance_To_Fire_Points</th>\n",
       "      <th>Y1</th>\n",
       "    </tr>\n",
       "  </thead>\n",
       "  <tbody>\n",
       "    <tr>\n",
       "      <th>247900</th>\n",
       "      <td>0</td>\n",
       "      <td>3038</td>\n",
       "      <td>2</td>\n",
       "      <td>221</td>\n",
       "      <td>149</td>\n",
       "      <td>30</td>\n",
       "      <td>2621</td>\n",
       "      <td>1</td>\n",
       "    </tr>\n",
       "    <tr>\n",
       "      <th>557332</th>\n",
       "      <td>0</td>\n",
       "      <td>2070</td>\n",
       "      <td>29</td>\n",
       "      <td>135</td>\n",
       "      <td>234</td>\n",
       "      <td>30</td>\n",
       "      <td>247</td>\n",
       "      <td>0</td>\n",
       "    </tr>\n",
       "    <tr>\n",
       "      <th>356626</th>\n",
       "      <td>1</td>\n",
       "      <td>2828</td>\n",
       "      <td>25</td>\n",
       "      <td>174</td>\n",
       "      <td>208</td>\n",
       "      <td>319</td>\n",
       "      <td>1719</td>\n",
       "      <td>0</td>\n",
       "    </tr>\n",
       "    <tr>\n",
       "      <th>34532</th>\n",
       "      <td>1</td>\n",
       "      <td>2939</td>\n",
       "      <td>14</td>\n",
       "      <td>186</td>\n",
       "      <td>200</td>\n",
       "      <td>351</td>\n",
       "      <td>3346</td>\n",
       "      <td>0</td>\n",
       "    </tr>\n",
       "    <tr>\n",
       "      <th>112097</th>\n",
       "      <td>1</td>\n",
       "      <td>3263</td>\n",
       "      <td>14</td>\n",
       "      <td>231</td>\n",
       "      <td>142</td>\n",
       "      <td>182</td>\n",
       "      <td>1591</td>\n",
       "      <td>0</td>\n",
       "    </tr>\n",
       "  </tbody>\n",
       "</table>\n",
       "</div>"
      ],
      "text/plain": [
       "        GeoSoils  Elevation  Slope  Hillshade_9am  Hillshade_3pm  \\\n",
       "247900         0       3038      2            221            149   \n",
       "557332         0       2070     29            135            234   \n",
       "356626         1       2828     25            174            208   \n",
       "34532          1       2939     14            186            200   \n",
       "112097         1       3263     14            231            142   \n",
       "\n",
       "        Horizontal_Distance_To_Hydrology  Horizontal_Distance_To_Fire_Points  \\\n",
       "247900                                30                                2621   \n",
       "557332                                30                                 247   \n",
       "356626                               319                                1719   \n",
       "34532                                351                                3346   \n",
       "112097                               182                                1591   \n",
       "\n",
       "        Y1  \n",
       "247900   1  \n",
       "557332   0  \n",
       "356626   0  \n",
       "34532    0  \n",
       "112097   0  "
      ]
     },
     "execution_count": 55,
     "metadata": {},
     "output_type": "execute_result"
    }
   ],
   "source": [
    "pd.concat([X_train1, y_train1], axis=1).head()"
   ]
  },
  {
   "cell_type": "code",
   "execution_count": 56,
   "metadata": {},
   "outputs": [],
   "source": [
    "sds1 = StandardScaler()\n",
    "sds1.fit(X_train1)\n",
    "X_train1 = sds1.transform(X_train1)\n",
    "X_test1 = sds1.transform(X_test1)"
   ]
  },
  {
   "cell_type": "markdown",
   "metadata": {},
   "source": [
    "## Decision Tree Classifier"
   ]
  },
  {
   "cell_type": "markdown",
   "metadata": {},
   "source": [
    "#### Apply Decision Tree Classifier to all 7 Cover Types\n",
    "\n",
    "1 -- Spruce/Fir\n",
    "2 -- Lodgepole Pine\n",
    "3 -- Ponderosa Pine\n",
    "4 -- Cottonwood/Willow\n",
    "5 -- Aspen\n",
    "6 -- Douglas-fir\n",
    "7 -- Krummholz"
   ]
  },
  {
   "cell_type": "code",
   "execution_count": 57,
   "metadata": {},
   "outputs": [
    {
     "name": "stdout",
     "output_type": "stream",
     "text": [
      "Decision tree 1 took 2.6802139282226562 seconds to train and got a score of 0.8730912890704279\n",
      "\n",
      "And here are the top features: \n",
      "('GeoSoils', 0.030626842066736208)\n",
      "('Elevation', 0.3902257115231325)\n",
      "('Slope', 0.06522684489123273)\n",
      "('Hillshade_9am', 0.0809220374133341)\n",
      "('Hillshade_3pm', 0.09138750582523113)\n",
      "('Horizontal_Distance_To_Hydrology', 0.11972704087559108)\n",
      "('Horizontal_Distance_To_Fire_Points', 0.22188401740474212)\n",
      "\n",
      "Decision tree 2 took 3.074549913406372 seconds to train and got a score of 0.8736867658307966\n",
      "\n",
      "And here are the top features: \n",
      "('GeoSoils', 0.03059681629188596)\n",
      "('Elevation', 0.39037060611070246)\n",
      "('Slope', 0.06515868173004687)\n",
      "('Hillshade_9am', 0.08107239378797157)\n",
      "('Hillshade_3pm', 0.09135243425957107)\n",
      "('Horizontal_Distance_To_Hydrology', 0.11928207610616769)\n",
      "('Horizontal_Distance_To_Fire_Points', 0.2221669917136545)\n",
      "\n",
      "Decision tree 3 took 3.0799639225006104 seconds to train and got a score of 0.874156658239728\n",
      "\n",
      "And here are the top features: \n",
      "('GeoSoils', 0.030605003663841383)\n",
      "('Elevation', 0.3906080913005929)\n",
      "('Slope', 0.06457973944569911)\n",
      "('Hillshade_9am', 0.08115175403273572)\n",
      "('Hillshade_3pm', 0.09207129155937509)\n",
      "('Horizontal_Distance_To_Hydrology', 0.11935281903412596)\n",
      "('Horizontal_Distance_To_Fire_Points', 0.22163130096362987)\n",
      "\n",
      "Decision tree 4 took 2.989884853363037 seconds to train and got a score of 0.8732394438455473\n",
      "\n",
      "And here are the top features: \n",
      "('GeoSoils', 0.030595684121903357)\n",
      "('Elevation', 0.39039803034968495)\n",
      "('Slope', 0.06473465396388124)\n",
      "('Hillshade_9am', 0.08113057813394486)\n",
      "('Hillshade_3pm', 0.09153208691645809)\n",
      "('Horizontal_Distance_To_Hydrology', 0.1199481951728301)\n",
      "('Horizontal_Distance_To_Fire_Points', 0.22166077134129744)\n",
      "\n",
      "Decision tree 5 took 3.090394973754883 seconds to train and got a score of 0.8739847950664293\n",
      "\n",
      "And here are the top features: \n",
      "('GeoSoils', 0.030607036810201698)\n",
      "('Elevation', 0.39063618470901174)\n",
      "('Slope', 0.06494246526771282)\n",
      "('Hillshade_9am', 0.08106350630692258)\n",
      "('Hillshade_3pm', 0.0915195956386199)\n",
      "('Horizontal_Distance_To_Hydrology', 0.11933327683792368)\n",
      "('Horizontal_Distance_To_Fire_Points', 0.22189793442960765)\n",
      "\n"
     ]
    }
   ],
   "source": [
    "# Cover-Type 1: Spruce/Fir\n",
    "\n",
    "for i in range(5):\n",
    "    \n",
    "    t0 = time.time()\n",
    "    clf = DecisionTreeClassifier()\n",
    "    \n",
    "    clf.fit(X_train1, y_train1)\n",
    "    t1 = time.time()\n",
    "    \n",
    "    ypred1 = clf.predict(X_test1)\n",
    "    scores1 = roc_auc_score(y_test1, ypred1)\n",
    "    \n",
    "    print(f\"Decision tree {i+1} took {t1-t0} seconds to train and got a score of {scores1}\")\n",
    "    print()\n",
    "    print(\"And here are the top features: \")\n",
    "    c = X_encoded.columns \n",
    "    for cfi in zip(c, clf.feature_importances_):\n",
    "        print(cfi)\n",
    "    print()"
   ]
  },
  {
   "cell_type": "markdown",
   "metadata": {},
   "source": [
    "#### For Type 2 Covertypes - Lodgepole Pine"
   ]
  },
  {
   "cell_type": "code",
   "execution_count": 58,
   "metadata": {},
   "outputs": [
    {
     "name": "stdout",
     "output_type": "stream",
     "text": [
      "Decision tree 1 took 3.139270782470703 seconds to train and got a score of 0.8630587929150223\n",
      "\n",
      "And here are the top features: \n",
      "('GeoSoils', 0.026724178317352586)\n",
      "('Elevation', 0.3942133841227599)\n",
      "('Slope', 0.06536021759934674)\n",
      "('Hillshade_9am', 0.08964998014914045)\n",
      "('Hillshade_3pm', 0.09582382111309744)\n",
      "('Horizontal_Distance_To_Hydrology', 0.11856635869868705)\n",
      "('Horizontal_Distance_To_Fire_Points', 0.20966205999961576)\n",
      "\n",
      "Decision tree 2 took 3.121708869934082 seconds to train and got a score of 0.8628160330963347\n",
      "\n",
      "And here are the top features: \n",
      "('GeoSoils', 0.02676362254917109)\n",
      "('Elevation', 0.394797718489199)\n",
      "('Slope', 0.06555379632810066)\n",
      "('Hillshade_9am', 0.08950481510481423)\n",
      "('Hillshade_3pm', 0.0951223618244034)\n",
      "('Horizontal_Distance_To_Hydrology', 0.11817979350336033)\n",
      "('Horizontal_Distance_To_Fire_Points', 0.2100778922009513)\n",
      "\n",
      "Decision tree 3 took 3.313452959060669 seconds to train and got a score of 0.8625096395488449\n",
      "\n",
      "And here are the top features: \n",
      "('GeoSoils', 0.026807794268991016)\n",
      "('Elevation', 0.39422479059733795)\n",
      "('Slope', 0.06525474484669277)\n",
      "('Hillshade_9am', 0.08905227471197176)\n",
      "('Hillshade_3pm', 0.0959102543300409)\n",
      "('Horizontal_Distance_To_Hydrology', 0.11867664557929057)\n",
      "('Horizontal_Distance_To_Fire_Points', 0.21007349566567496)\n",
      "\n",
      "Decision tree 4 took 3.071700096130371 seconds to train and got a score of 0.8638499728361352\n",
      "\n",
      "And here are the top features: \n",
      "('GeoSoils', 0.026842287357483174)\n",
      "('Elevation', 0.39360774263169146)\n",
      "('Slope', 0.06548450393300322)\n",
      "('Hillshade_9am', 0.089178087547127)\n",
      "('Hillshade_3pm', 0.09575787723240457)\n",
      "('Horizontal_Distance_To_Hydrology', 0.11870652040459549)\n",
      "('Horizontal_Distance_To_Fire_Points', 0.2104229808936951)\n",
      "\n",
      "Decision tree 5 took 3.0965750217437744 seconds to train and got a score of 0.8633039049641457\n",
      "\n",
      "And here are the top features: \n",
      "('GeoSoils', 0.026885384718596753)\n",
      "('Elevation', 0.39384541621204044)\n",
      "('Slope', 0.06560327977141756)\n",
      "('Hillshade_9am', 0.08914698892277248)\n",
      "('Hillshade_3pm', 0.09627404411862643)\n",
      "('Horizontal_Distance_To_Hydrology', 0.11852415081519212)\n",
      "('Horizontal_Distance_To_Fire_Points', 0.20972073544135422)\n",
      "\n"
     ]
    }
   ],
   "source": [
    "y2 = CoverTypeDF[[\"Y2\"]]\n",
    "X_train2, X_test2, y_train2, y_test2 = train_test_split(X_encoded, y2)\n",
    "pd.concat([X_train2, y_train2], axis=1)\n",
    "\n",
    "# normalizer\n",
    "sds2 = StandardScaler()\n",
    "sds2.fit(X_train2)\n",
    "X_train2 = sds2.transform(X_train2)\n",
    "X_test2 = sds2.transform(X_test2)\n",
    "\n",
    "for i in range(5):\n",
    "    \n",
    "    t0 = time.time()\n",
    "    clf = DecisionTreeClassifier()\n",
    "    \n",
    "    clf.fit(X_train2, y_train2)\n",
    "    t1 = time.time()\n",
    "    \n",
    "    ypred2 = clf.predict(X_test2)\n",
    "    scores2 = roc_auc_score(y_test2, ypred2)\n",
    "    \n",
    "    print(f\"Decision tree {i+1} took {t1-t0} seconds to train and got a score of {scores2}\")\n",
    "    print()\n",
    "    print(\"And here are the top features: \")\n",
    "    c = X_encoded.columns \n",
    "    for cfi in zip(c, clf.feature_importances_):\n",
    "        print(cfi)\n",
    "    print()"
   ]
  },
  {
   "cell_type": "markdown",
   "metadata": {},
   "source": [
    "#### For Type 3 Covertypes - Ponderosa Pine"
   ]
  },
  {
   "cell_type": "code",
   "execution_count": 59,
   "metadata": {},
   "outputs": [
    {
     "name": "stdout",
     "output_type": "stream",
     "text": [
      "Decision tree 1 took 1.6343228816986084 seconds to train and got a score of 0.9027714543295844\n",
      "\n",
      "And here are the top features: \n",
      "('GeoSoils', 0.012426767531973776)\n",
      "('Elevation', 0.5208467747619411)\n",
      "('Slope', 0.060491061580497316)\n",
      "('Hillshade_9am', 0.08341430438697829)\n",
      "('Hillshade_3pm', 0.0765155842828541)\n",
      "('Horizontal_Distance_To_Hydrology', 0.09516730613709484)\n",
      "('Horizontal_Distance_To_Fire_Points', 0.15113820131866068)\n",
      "\n",
      "Decision tree 2 took 1.4490458965301514 seconds to train and got a score of 0.9009889275710232\n",
      "\n",
      "And here are the top features: \n",
      "('GeoSoils', 0.01204904520239029)\n",
      "('Elevation', 0.521487301077575)\n",
      "('Slope', 0.060828447859987776)\n",
      "('Hillshade_9am', 0.08313104603408764)\n",
      "('Hillshade_3pm', 0.07514580420455198)\n",
      "('Horizontal_Distance_To_Hydrology', 0.09553820038988338)\n",
      "('Horizontal_Distance_To_Fire_Points', 0.15182015523152387)\n",
      "\n",
      "Decision tree 3 took 1.5572199821472168 seconds to train and got a score of 0.9021645968948466\n",
      "\n",
      "And here are the top features: \n",
      "('GeoSoils', 0.01210306865892388)\n",
      "('Elevation', 0.5210266073959671)\n",
      "('Slope', 0.060354477286063773)\n",
      "('Hillshade_9am', 0.08380053730148569)\n",
      "('Hillshade_3pm', 0.07614007038704479)\n",
      "('Horizontal_Distance_To_Hydrology', 0.09531100967477221)\n",
      "('Horizontal_Distance_To_Fire_Points', 0.15126422929574254)\n",
      "\n",
      "Decision tree 4 took 1.7214930057525635 seconds to train and got a score of 0.9029172016855541\n",
      "\n",
      "And here are the top features: \n",
      "('GeoSoils', 0.012394953777618515)\n",
      "('Elevation', 0.522330264941288)\n",
      "('Slope', 0.060686682910924)\n",
      "('Hillshade_9am', 0.08419116726661693)\n",
      "('Hillshade_3pm', 0.07359969432012917)\n",
      "('Horizontal_Distance_To_Hydrology', 0.09630027454411759)\n",
      "('Horizontal_Distance_To_Fire_Points', 0.1504969622393056)\n",
      "\n",
      "Decision tree 5 took 1.6558377742767334 seconds to train and got a score of 0.9035291095932086\n",
      "\n",
      "And here are the top features: \n",
      "('GeoSoils', 0.012365170936550396)\n",
      "('Elevation', 0.5227337376733484)\n",
      "('Slope', 0.060451910871383414)\n",
      "('Hillshade_9am', 0.08282132845037725)\n",
      "('Hillshade_3pm', 0.07532528324301167)\n",
      "('Horizontal_Distance_To_Hydrology', 0.0944139915781987)\n",
      "('Horizontal_Distance_To_Fire_Points', 0.15188857724713015)\n",
      "\n"
     ]
    }
   ],
   "source": [
    "y3 = CoverTypeDF[[\"Y3\"]]\n",
    "X_train3, X_test3, y_train3, y_test3 = train_test_split(X_encoded, y3)\n",
    "pd.concat([X_train3, y_train3], axis=1)\n",
    "\n",
    "# normalizer\n",
    "sds3 = StandardScaler()\n",
    "sds3.fit(X_train3)\n",
    "X_train3 = sds3.transform(X_train3)\n",
    "X_test3 = sds3.transform(X_test3)\n",
    "\n",
    "for i in range(5):\n",
    "    \n",
    "    t0 = time.time()\n",
    "    clf = DecisionTreeClassifier()\n",
    "    \n",
    "    clf.fit(X_train3, y_train3)\n",
    "    t1 = time.time()\n",
    "    \n",
    "    ypred3 = clf.predict(X_test3)\n",
    "    scores3 = roc_auc_score(y_test3, ypred3)\n",
    "    \n",
    "    print(f\"Decision tree {i+1} took {t1-t0} seconds to train and got a score of {scores3}\")\n",
    "    print()\n",
    "    print(\"And here are the top features: \")\n",
    "    c = X_encoded.columns \n",
    "    for cfi in zip(c, clf.feature_importances_):\n",
    "        print(cfi)\n",
    "    print()"
   ]
  },
  {
   "cell_type": "markdown",
   "metadata": {},
   "source": [
    "#### For Type 4 Covertypes - Cottonwood/Willow"
   ]
  },
  {
   "cell_type": "code",
   "execution_count": 60,
   "metadata": {},
   "outputs": [
    {
     "name": "stdout",
     "output_type": "stream",
     "text": [
      "Decision tree 1 took 0.7621960639953613 seconds to train and got a score of 0.8698688333886495\n",
      "\n",
      "And here are the top features: \n",
      "('GeoSoils', 0.02100023896697948)\n",
      "('Elevation', 0.2759461978366241)\n",
      "('Slope', 0.06018903593445468)\n",
      "('Hillshade_9am', 0.1471517981152085)\n",
      "('Hillshade_3pm', 0.07678972172579542)\n",
      "('Horizontal_Distance_To_Hydrology', 0.21978599277500335)\n",
      "('Horizontal_Distance_To_Fire_Points', 0.1991370146459344)\n",
      "\n",
      "Decision tree 2 took 0.7154498100280762 seconds to train and got a score of 0.8590080809197566\n",
      "\n",
      "And here are the top features: \n",
      "('GeoSoils', 0.02177981116308317)\n",
      "('Elevation', 0.27681447112261226)\n",
      "('Slope', 0.06356736327367578)\n",
      "('Hillshade_9am', 0.14272329780894016)\n",
      "('Hillshade_3pm', 0.07457897105553603)\n",
      "('Horizontal_Distance_To_Hydrology', 0.2195551511466249)\n",
      "('Horizontal_Distance_To_Fire_Points', 0.20098093442952772)\n",
      "\n",
      "Decision tree 3 took 0.7203519344329834 seconds to train and got a score of 0.8619128130963233\n",
      "\n",
      "And here are the top features: \n",
      "('GeoSoils', 0.021291124114779365)\n",
      "('Elevation', 0.27589574397075567)\n",
      "('Slope', 0.06665428075177945)\n",
      "('Hillshade_9am', 0.14367767365390402)\n",
      "('Hillshade_3pm', 0.07513626105418689)\n",
      "('Horizontal_Distance_To_Hydrology', 0.21567365422494017)\n",
      "('Horizontal_Distance_To_Fire_Points', 0.20167126222965454)\n",
      "\n",
      "Decision tree 4 took 0.9417598247528076 seconds to train and got a score of 0.8612099764364319\n",
      "\n",
      "And here are the top features: \n",
      "('GeoSoils', 0.021046780590627468)\n",
      "('Elevation', 0.27599807816046973)\n",
      "('Slope', 0.05870135038593445)\n",
      "('Hillshade_9am', 0.15082414972737812)\n",
      "('Hillshade_3pm', 0.07232110822976859)\n",
      "('Horizontal_Distance_To_Hydrology', 0.21814898793221787)\n",
      "('Horizontal_Distance_To_Fire_Points', 0.20295954497360397)\n",
      "\n",
      "Decision tree 5 took 0.7937600612640381 seconds to train and got a score of 0.8640939562714428\n",
      "\n",
      "And here are the top features: \n",
      "('GeoSoils', 0.021750722648303186)\n",
      "('Elevation', 0.27631190163130886)\n",
      "('Slope', 0.0625765728923664)\n",
      "('Hillshade_9am', 0.14698556024950638)\n",
      "('Hillshade_3pm', 0.07586448451849909)\n",
      "('Horizontal_Distance_To_Hydrology', 0.2183138490803005)\n",
      "('Horizontal_Distance_To_Fire_Points', 0.19819690897971562)\n",
      "\n"
     ]
    }
   ],
   "source": [
    "y4 = CoverTypeDF[[\"Y4\"]]\n",
    "X_train4, X_test4, y_train4, y_test4 = train_test_split(X_encoded, y4)\n",
    "pd.concat([X_train4, y_train4], axis=1)\n",
    "\n",
    "# normalizer\n",
    "sds4 = StandardScaler()\n",
    "sds4.fit(X_train4)\n",
    "X_train4 = sds4.transform(X_train4)\n",
    "X_test4 = sds4.transform(X_test4)\n",
    "\n",
    "for i in range(5):\n",
    "    \n",
    "    t0 = time.time()\n",
    "    clf = DecisionTreeClassifier()\n",
    "    \n",
    "    clf.fit(X_train4, y_train4)\n",
    "    t1 = time.time()\n",
    "    \n",
    "    ypred4 = clf.predict(X_test4)\n",
    "    scores4 = roc_auc_score(y_test4, ypred4)\n",
    "    \n",
    "    print(f\"Decision tree {i+1} took {t1-t0} seconds to train and got a score of {scores4}\")\n",
    "    print()\n",
    "    print(\"And here are the top features: \")\n",
    "    c = X_encoded.columns \n",
    "    for cfi in zip(c, clf.feature_importances_):\n",
    "        print(cfi)\n",
    "    print()"
   ]
  },
  {
   "cell_type": "markdown",
   "metadata": {},
   "source": [
    "#### For Type 5 Covertypes - Aspen"
   ]
  },
  {
   "cell_type": "code",
   "execution_count": 61,
   "metadata": {},
   "outputs": [
    {
     "name": "stdout",
     "output_type": "stream",
     "text": [
      "Decision tree 1 took 1.4009008407592773 seconds to train and got a score of 0.8040153253045379\n",
      "\n",
      "And here are the top features: \n",
      "('GeoSoils', 0.010406852798781353)\n",
      "('Elevation', 0.2479198741358542)\n",
      "('Slope', 0.07718912641410029)\n",
      "('Hillshade_9am', 0.09082728268571783)\n",
      "('Hillshade_3pm', 0.15447685915607742)\n",
      "('Horizontal_Distance_To_Hydrology', 0.16016182745641522)\n",
      "('Horizontal_Distance_To_Fire_Points', 0.2590181773530536)\n",
      "\n",
      "Decision tree 2 took 1.5764119625091553 seconds to train and got a score of 0.8030268312830001\n",
      "\n",
      "And here are the top features: \n",
      "('GeoSoils', 0.010868847372390801)\n",
      "('Elevation', 0.24707142268088775)\n",
      "('Slope', 0.0781017780378913)\n",
      "('Hillshade_9am', 0.09165657465237532)\n",
      "('Hillshade_3pm', 0.1469192848772925)\n",
      "('Horizontal_Distance_To_Hydrology', 0.15968055367948394)\n",
      "('Horizontal_Distance_To_Fire_Points', 0.26570153869967833)\n",
      "\n",
      "Decision tree 3 took 1.4368669986724854 seconds to train and got a score of 0.8016401390619226\n",
      "\n",
      "And here are the top features: \n",
      "('GeoSoils', 0.010614487682148952)\n",
      "('Elevation', 0.24719313336411866)\n",
      "('Slope', 0.07824472334171668)\n",
      "('Hillshade_9am', 0.09109068963355196)\n",
      "('Hillshade_3pm', 0.15064632014181423)\n",
      "('Horizontal_Distance_To_Hydrology', 0.16013026508322287)\n",
      "('Horizontal_Distance_To_Fire_Points', 0.2620803807534266)\n",
      "\n",
      "Decision tree 4 took 1.5839519500732422 seconds to train and got a score of 0.8019788247043127\n",
      "\n",
      "And here are the top features: \n",
      "('GeoSoils', 0.011374841501711227)\n",
      "('Elevation', 0.24738020642843359)\n",
      "('Slope', 0.07566611490910706)\n",
      "('Hillshade_9am', 0.09119133315060642)\n",
      "('Hillshade_3pm', 0.15170695498673467)\n",
      "('Horizontal_Distance_To_Hydrology', 0.16096878546747237)\n",
      "('Horizontal_Distance_To_Fire_Points', 0.2617117635559348)\n",
      "\n",
      "Decision tree 5 took 1.432992935180664 seconds to train and got a score of 0.8038022232501445\n",
      "\n",
      "And here are the top features: \n",
      "('GeoSoils', 0.010857508727654628)\n",
      "('Elevation', 0.24707587988590873)\n",
      "('Slope', 0.07907323250465856)\n",
      "('Hillshade_9am', 0.09192022113818772)\n",
      "('Hillshade_3pm', 0.14964476801865648)\n",
      "('Horizontal_Distance_To_Hydrology', 0.15945093320230183)\n",
      "('Horizontal_Distance_To_Fire_Points', 0.2619774565226321)\n",
      "\n"
     ]
    }
   ],
   "source": [
    "y5 = CoverTypeDF[[\"Y5\"]]\n",
    "X_train5, X_test5, y_train5, y_test5 = train_test_split(X_encoded, y5)\n",
    "pd.concat([X_train5, y_train5], axis=1)\n",
    "\n",
    "# normalizer\n",
    "sds5 = StandardScaler()\n",
    "sds5.fit(X_train5)\n",
    "X_train5 = sds5.transform(X_train5)\n",
    "X_test5 = sds5.transform(X_test5)\n",
    "\n",
    "for i in range(5):\n",
    "    \n",
    "    t0 = time.time()\n",
    "    clf = DecisionTreeClassifier()\n",
    "    \n",
    "    clf.fit(X_train5, y_train5)\n",
    "    t1 = time.time()\n",
    "    \n",
    "    ypred5 = clf.predict(X_test5)\n",
    "    scores5 = roc_auc_score(y_test5, ypred5)\n",
    "    \n",
    "    print(f\"Decision tree {i+1} took {t1-t0} seconds to train and got a score of {scores5}\")\n",
    "    print()\n",
    "    print(\"And here are the top features: \")\n",
    "    c = X_encoded.columns \n",
    "    for cfi in zip(c, clf.feature_importances_):\n",
    "        print(cfi)\n",
    "    print()"
   ]
  },
  {
   "cell_type": "markdown",
   "metadata": {},
   "source": [
    "#### For Type 6 Covertypes - Douglas-fir"
   ]
  },
  {
   "cell_type": "code",
   "execution_count": 172,
   "metadata": {},
   "outputs": [
    {
     "name": "stdout",
     "output_type": "stream",
     "text": [
      "Decision tree 1 took 1.3359720706939697 seconds to train and got a score of 0.8299827255540467\n",
      "\n",
      "And here are the top features: \n",
      "('GeoSoils', 0.00988046353906651)\n",
      "('Elevation', 0.36262281207508135)\n",
      "('Slope', 0.07684994555467602)\n",
      "('Hillshade_9am', 0.11632263930942002)\n",
      "('Hillshade_3pm', 0.10588464938748804)\n",
      "('Horizontal_Distance_To_Hydrology', 0.13358186354677526)\n",
      "('Horizontal_Distance_To_Fire_Points', 0.1948576265874929)\n",
      "\n",
      "Decision tree 2 took 1.398169755935669 seconds to train and got a score of 0.83381582917837\n",
      "\n",
      "And here are the top features: \n",
      "('GeoSoils', 0.01031993836192178)\n",
      "('Elevation', 0.364536713764776)\n",
      "('Slope', 0.07464096142920278)\n",
      "('Hillshade_9am', 0.11714289962928164)\n",
      "('Hillshade_3pm', 0.1056736280544254)\n",
      "('Horizontal_Distance_To_Hydrology', 0.13330303924873552)\n",
      "('Horizontal_Distance_To_Fire_Points', 0.19438281951165695)\n",
      "\n",
      "Decision tree 3 took 1.4597082138061523 seconds to train and got a score of 0.8336398965611902\n",
      "\n",
      "And here are the top features: \n",
      "('GeoSoils', 0.010607642383959599)\n",
      "('Elevation', 0.3610542135059487)\n",
      "('Slope', 0.07665005222046067)\n",
      "('Hillshade_9am', 0.11748772938414329)\n",
      "('Hillshade_3pm', 0.10553882182220706)\n",
      "('Horizontal_Distance_To_Hydrology', 0.13272695214278035)\n",
      "('Horizontal_Distance_To_Fire_Points', 0.19593458854050022)\n",
      "\n",
      "Decision tree 4 took 1.3243529796600342 seconds to train and got a score of 0.8316734873223819\n",
      "\n",
      "And here are the top features: \n",
      "('GeoSoils', 0.010682250743514336)\n",
      "('Elevation', 0.3641040863017219)\n",
      "('Slope', 0.07652717759674667)\n",
      "('Hillshade_9am', 0.11592967191105093)\n",
      "('Hillshade_3pm', 0.10529026475703918)\n",
      "('Horizontal_Distance_To_Hydrology', 0.13178783039860759)\n",
      "('Horizontal_Distance_To_Fire_Points', 0.19567871829131944)\n",
      "\n",
      "Decision tree 5 took 1.4284229278564453 seconds to train and got a score of 0.8334106927367427\n",
      "\n",
      "And here are the top features: \n",
      "('GeoSoils', 0.010126120672083636)\n",
      "('Elevation', 0.36321468901150566)\n",
      "('Slope', 0.07721065034045245)\n",
      "('Hillshade_9am', 0.11647072531715429)\n",
      "('Hillshade_3pm', 0.10500080863754101)\n",
      "('Horizontal_Distance_To_Hydrology', 0.13227316678732698)\n",
      "('Horizontal_Distance_To_Fire_Points', 0.19570383923393608)\n",
      "\n"
     ]
    }
   ],
   "source": [
    "y6 = CoverTypeDF[[\"Y6\"]]\n",
    "X_train6, X_test6, y_train6, y_test6 = train_test_split(X_encoded, y6)\n",
    "pd.concat([X_train6, y_train6], axis=1)\n",
    "\n",
    "# normalizer\n",
    "sds6 = StandardScaler()\n",
    "sds6.fit(X_train6)\n",
    "X_train6 = sds6.transform(X_train6)\n",
    "X_test6 = sds6.transform(X_test6)\n",
    "\n",
    "for i in range(5):\n",
    "    \n",
    "    t0 = time.time()\n",
    "    clf = DecisionTreeClassifier()\n",
    "    \n",
    "    clf.fit(X_train6, y_train6)\n",
    "    t1 = time.time()\n",
    "    \n",
    "    ypred6 = clf.predict(X_test6)\n",
    "    scores6 = roc_auc_score(y_test6, ypred6)\n",
    "    \n",
    "    print(f\"Decision tree {i+1} took {t1-t0} seconds to train and got a score of {scores6}\")\n",
    "    print()\n",
    "    print(\"And here are the top features: \")\n",
    "    c = X_encoded.columns \n",
    "    for cfi in zip(c, clf.feature_importances_):\n",
    "        print(cfi)\n",
    "    print()"
   ]
  },
  {
   "cell_type": "markdown",
   "metadata": {},
   "source": [
    "#### For Type 7 Covertypes - Krummholz"
   ]
  },
  {
   "cell_type": "code",
   "execution_count": 173,
   "metadata": {},
   "outputs": [
    {
     "name": "stdout",
     "output_type": "stream",
     "text": [
      "Decision tree 1 took 1.7314388751983643 seconds to train and got a score of 0.911327939563464\n",
      "\n",
      "And here are the top features: \n",
      "('GeoSoils', 0.013475112061646156)\n",
      "('Elevation', 0.3739512428242851)\n",
      "('Slope', 0.06712161673392898)\n",
      "('Hillshade_9am', 0.08286211353787956)\n",
      "('Hillshade_3pm', 0.09736896651565918)\n",
      "('Horizontal_Distance_To_Hydrology', 0.12481446114372244)\n",
      "('Horizontal_Distance_To_Fire_Points', 0.2404064871828785)\n",
      "\n",
      "Decision tree 2 took 1.9177100658416748 seconds to train and got a score of 0.9092588151315191\n",
      "\n",
      "And here are the top features: \n",
      "('GeoSoils', 0.01317364910797594)\n",
      "('Elevation', 0.3746008230402953)\n",
      "('Slope', 0.06958568843553556)\n",
      "('Hillshade_9am', 0.08064646843319037)\n",
      "('Hillshade_3pm', 0.09785689557018301)\n",
      "('Horizontal_Distance_To_Hydrology', 0.12484177224669492)\n",
      "('Horizontal_Distance_To_Fire_Points', 0.2392947031661248)\n",
      "\n",
      "Decision tree 3 took 1.7536139488220215 seconds to train and got a score of 0.9103943356922842\n",
      "\n",
      "And here are the top features: \n",
      "('GeoSoils', 0.013549588466304545)\n",
      "('Elevation', 0.3751072868597571)\n",
      "('Slope', 0.06868972514005402)\n",
      "('Hillshade_9am', 0.08159405630548258)\n",
      "('Hillshade_3pm', 0.09621414770162705)\n",
      "('Horizontal_Distance_To_Hydrology', 0.1252417857021128)\n",
      "('Horizontal_Distance_To_Fire_Points', 0.23960340982466194)\n",
      "\n",
      "Decision tree 4 took 1.6945929527282715 seconds to train and got a score of 0.9105452515731711\n",
      "\n",
      "And here are the top features: \n",
      "('GeoSoils', 0.012921082863237487)\n",
      "('Elevation', 0.37354014378432243)\n",
      "('Slope', 0.06863189412101325)\n",
      "('Hillshade_9am', 0.08256892381570854)\n",
      "('Hillshade_3pm', 0.0966396687167586)\n",
      "('Horizontal_Distance_To_Hydrology', 0.12543265397102463)\n",
      "('Horizontal_Distance_To_Fire_Points', 0.240265632727935)\n",
      "\n",
      "Decision tree 5 took 1.9859719276428223 seconds to train and got a score of 0.9123375230113895\n",
      "\n",
      "And here are the top features: \n",
      "('GeoSoils', 0.013094379592369977)\n",
      "('Elevation', 0.373534476121332)\n",
      "('Slope', 0.0685690957487311)\n",
      "('Hillshade_9am', 0.08356777718860221)\n",
      "('Hillshade_3pm', 0.09649265304508191)\n",
      "('Horizontal_Distance_To_Hydrology', 0.12465718591011658)\n",
      "('Horizontal_Distance_To_Fire_Points', 0.24008443239376626)\n",
      "\n"
     ]
    }
   ],
   "source": [
    "y7 = CoverTypeDF[[\"Y7\"]]\n",
    "X_train7, X_test7, y_train7, y_test7 = train_test_split(X_encoded, y7)\n",
    "pd.concat([X_train7, y_train7], axis=1)\n",
    "\n",
    "# normalizer\n",
    "sds7 = StandardScaler()\n",
    "sds7.fit(X_train7)\n",
    "X_train7 = sds7.transform(X_train7)\n",
    "X_test7 = sds7.transform(X_test7)\n",
    "\n",
    "for i in range(5):\n",
    "    \n",
    "    t0 = time.time()\n",
    "    clf = DecisionTreeClassifier()\n",
    "    \n",
    "    clf.fit(X_train7, y_train7)\n",
    "    t1 = time.time()\n",
    "    \n",
    "    ypred7 = clf.predict(X_test7)\n",
    "    scores7 = roc_auc_score(y_test7, ypred7)\n",
    "    \n",
    "    print(f\"Decision tree {i+1} took {t1-t0} seconds to train and got a score of {scores7}\")\n",
    "    print()\n",
    "    print(\"And here are the top features: \")\n",
    "    c = X_encoded.columns \n",
    "    for cfi in zip(c, clf.feature_importances_):\n",
    "        print(cfi)\n",
    "    print()"
   ]
  },
  {
   "cell_type": "markdown",
   "metadata": {},
   "source": [
    "#### For both all Covertypes, the lowest CLF score for features is consistently GeoSoils. Now it is time to take it out of the 'features_to_use' set to see if this helps to improve the model."
   ]
  },
  {
   "cell_type": "code",
   "execution_count": 62,
   "metadata": {},
   "outputs": [],
   "source": [
    "features_to_use = [\n",
    "#     \"Cover_Type\",\n",
    "#     \"GeoSoils\",\n",
    "    \"Elevation\",  \n",
    "    \"Slope\", \n",
    "    \"Hillshade_9am\", \n",
    "    \"Hillshade_3pm\", \n",
    "    \"Horizontal_Distance_To_Hydrology\", \n",
    "    \"Horizontal_Distance_To_Fire_Points\"\n",
    "]"
   ]
  },
  {
   "cell_type": "code",
   "execution_count": 63,
   "metadata": {},
   "outputs": [
    {
     "data": {
      "text/plain": [
       "['Elevation',\n",
       " 'Slope',\n",
       " 'Hillshade_9am',\n",
       " 'Hillshade_3pm',\n",
       " 'Horizontal_Distance_To_Hydrology',\n",
       " 'Horizontal_Distance_To_Fire_Points']"
      ]
     },
     "execution_count": 63,
     "metadata": {},
     "output_type": "execute_result"
    }
   ],
   "source": [
    "features_to_use"
   ]
  },
  {
   "cell_type": "markdown",
   "metadata": {},
   "source": [
    "#### Re-run Y1 through Y7 without GeoSoils"
   ]
  },
  {
   "cell_type": "code",
   "execution_count": 64,
   "metadata": {},
   "outputs": [],
   "source": [
    "X = CoverTypeDF[features_to_use]\n",
    "X_encoded = pd.get_dummies(X)"
   ]
  },
  {
   "cell_type": "code",
   "execution_count": 65,
   "metadata": {},
   "outputs": [
    {
     "data": {
      "text/html": [
       "<div>\n",
       "<style scoped>\n",
       "    .dataframe tbody tr th:only-of-type {\n",
       "        vertical-align: middle;\n",
       "    }\n",
       "\n",
       "    .dataframe tbody tr th {\n",
       "        vertical-align: top;\n",
       "    }\n",
       "\n",
       "    .dataframe thead th {\n",
       "        text-align: right;\n",
       "    }\n",
       "</style>\n",
       "<table border=\"1\" class=\"dataframe\">\n",
       "  <thead>\n",
       "    <tr style=\"text-align: right;\">\n",
       "      <th></th>\n",
       "      <th>Elevation</th>\n",
       "      <th>Slope</th>\n",
       "      <th>Hillshade_9am</th>\n",
       "      <th>Hillshade_3pm</th>\n",
       "      <th>Horizontal_Distance_To_Hydrology</th>\n",
       "      <th>Horizontal_Distance_To_Fire_Points</th>\n",
       "    </tr>\n",
       "  </thead>\n",
       "  <tbody>\n",
       "    <tr>\n",
       "      <th>0</th>\n",
       "      <td>2596</td>\n",
       "      <td>3</td>\n",
       "      <td>221</td>\n",
       "      <td>148</td>\n",
       "      <td>258</td>\n",
       "      <td>6279</td>\n",
       "    </tr>\n",
       "    <tr>\n",
       "      <th>1</th>\n",
       "      <td>2590</td>\n",
       "      <td>2</td>\n",
       "      <td>220</td>\n",
       "      <td>151</td>\n",
       "      <td>212</td>\n",
       "      <td>6225</td>\n",
       "    </tr>\n",
       "  </tbody>\n",
       "</table>\n",
       "</div>"
      ],
      "text/plain": [
       "   Elevation  Slope  Hillshade_9am  Hillshade_3pm  \\\n",
       "0       2596      3            221            148   \n",
       "1       2590      2            220            151   \n",
       "\n",
       "   Horizontal_Distance_To_Hydrology  Horizontal_Distance_To_Fire_Points  \n",
       "0                               258                                6279  \n",
       "1                               212                                6225  "
      ]
     },
     "execution_count": 65,
     "metadata": {},
     "output_type": "execute_result"
    }
   ],
   "source": [
    "X.head(2)"
   ]
  },
  {
   "cell_type": "code",
   "execution_count": 66,
   "metadata": {},
   "outputs": [
    {
     "name": "stdout",
     "output_type": "stream",
     "text": [
      "Decision tree 1 took 3.260895013809204 seconds to train and got a score of 0.8578022536901494\n",
      "\n",
      "And here are the top features: \n",
      "('Elevation', 0.39239029459873687)\n",
      "('Slope', 0.06624642969597971)\n",
      "('Hillshade_9am', 0.09770275082507311)\n",
      "('Hillshade_3pm', 0.09764912617160067)\n",
      "('Horizontal_Distance_To_Hydrology', 0.12021600680114271)\n",
      "('Horizontal_Distance_To_Fire_Points', 0.2257953919074669)\n",
      "\n",
      "Decision tree 2 took 3.1158881187438965 seconds to train and got a score of 0.8580805274745711\n",
      "\n",
      "And here are the top features: \n",
      "('Elevation', 0.39265024165474255)\n",
      "('Slope', 0.06640707765394847)\n",
      "('Hillshade_9am', 0.09807696667717851)\n",
      "('Hillshade_3pm', 0.09670236629327451)\n",
      "('Horizontal_Distance_To_Hydrology', 0.12036250974407056)\n",
      "('Horizontal_Distance_To_Fire_Points', 0.22580083797678546)\n",
      "\n",
      "Decision tree 3 took 2.7474329471588135 seconds to train and got a score of 0.8585853884812503\n",
      "\n",
      "And here are the top features: \n",
      "('Elevation', 0.39231122686742786)\n",
      "('Slope', 0.06624754619346804)\n",
      "('Hillshade_9am', 0.09787698675121727)\n",
      "('Hillshade_3pm', 0.09740283686689984)\n",
      "('Horizontal_Distance_To_Hydrology', 0.12001858526444785)\n",
      "('Horizontal_Distance_To_Fire_Points', 0.22614281805653916)\n",
      "\n",
      "Decision tree 4 took 2.801413059234619 seconds to train and got a score of 0.8582403951326328\n",
      "\n",
      "And here are the top features: \n",
      "('Elevation', 0.3929770875732965)\n",
      "('Slope', 0.06676042883337607)\n",
      "('Hillshade_9am', 0.09728860549641151)\n",
      "('Hillshade_3pm', 0.09705095492439184)\n",
      "('Horizontal_Distance_To_Hydrology', 0.12088312616778724)\n",
      "('Horizontal_Distance_To_Fire_Points', 0.22503979700473684)\n",
      "\n",
      "Decision tree 5 took 2.804265022277832 seconds to train and got a score of 0.8581826589428448\n",
      "\n",
      "And here are the top features: \n",
      "('Elevation', 0.39183792794309247)\n",
      "('Slope', 0.06709281122484871)\n",
      "('Hillshade_9am', 0.09819639974363892)\n",
      "('Hillshade_3pm', 0.09668423700304307)\n",
      "('Horizontal_Distance_To_Hydrology', 0.12067836654575159)\n",
      "('Horizontal_Distance_To_Fire_Points', 0.22551025753962517)\n",
      "\n"
     ]
    }
   ],
   "source": [
    "y1 = CoverTypeDF[[\"Y1\"]]\n",
    "X_train1, X_test1, y_train1, y_test1 = train_test_split(X_encoded, y1)\n",
    "pd.concat([X_train1, y_train1], axis=1)\n",
    "\n",
    "# normalizer\n",
    "sds1 = StandardScaler()\n",
    "sds1.fit(X_train1)\n",
    "X_train1 = sds1.transform(X_train1)\n",
    "X_test1 = sds1.transform(X_test1)\n",
    "\n",
    "for i in range(5):\n",
    "    \n",
    "    t0 = time.time()\n",
    "    clf = DecisionTreeClassifier()\n",
    "    \n",
    "    clf.fit(X_train1, y_train1)\n",
    "    t1 = time.time()\n",
    "    \n",
    "    ypred1 = clf.predict(X_test1)\n",
    "    scores1 = roc_auc_score(y_test1, ypred1)\n",
    "    \n",
    "    print(f\"Decision tree {i+1} took {t1-t0} seconds to train and got a score of {scores1}\")\n",
    "    print()\n",
    "    print(\"And here are the top features: \")\n",
    "    c = X_encoded.columns \n",
    "    for cfi in zip(c, clf.feature_importances_):\n",
    "        print(cfi)\n",
    "    print()"
   ]
  },
  {
   "cell_type": "markdown",
   "metadata": {},
   "source": [
    "#### Taking GeoSoils out did not have much of an impact to the overall model, but did decrease the score slightly. So - taking this variable out did not improve the model. It appears that adding more variables may help to improve the model."
   ]
  },
  {
   "cell_type": "markdown",
   "metadata": {},
   "source": [
    "## Model Bench and Model Selection"
   ]
  },
  {
   "cell_type": "code",
   "execution_count": 99,
   "metadata": {},
   "outputs": [
    {
     "data": {
      "text/html": [
       "<div>\n",
       "<style scoped>\n",
       "    .dataframe tbody tr th:only-of-type {\n",
       "        vertical-align: middle;\n",
       "    }\n",
       "\n",
       "    .dataframe tbody tr th {\n",
       "        vertical-align: top;\n",
       "    }\n",
       "\n",
       "    .dataframe thead th {\n",
       "        text-align: right;\n",
       "    }\n",
       "</style>\n",
       "<table border=\"1\" class=\"dataframe\">\n",
       "  <thead>\n",
       "    <tr style=\"text-align: right;\">\n",
       "      <th></th>\n",
       "      <th>Elevation</th>\n",
       "      <th>Slope</th>\n",
       "      <th>Horizontal_Distance_To_Hydrology</th>\n",
       "      <th>Hillshade_9am</th>\n",
       "      <th>Hillshade_3pm</th>\n",
       "      <th>Horizontal_Distance_To_Fire_Points</th>\n",
       "      <th>Cover_Type</th>\n",
       "      <th>GeoSoils</th>\n",
       "      <th>Y1</th>\n",
       "      <th>Y2</th>\n",
       "      <th>Y3</th>\n",
       "      <th>Y4</th>\n",
       "      <th>Y5</th>\n",
       "      <th>Y6</th>\n",
       "      <th>Y7</th>\n",
       "    </tr>\n",
       "  </thead>\n",
       "  <tbody>\n",
       "    <tr>\n",
       "      <th>0</th>\n",
       "      <td>2596</td>\n",
       "      <td>3</td>\n",
       "      <td>258</td>\n",
       "      <td>221</td>\n",
       "      <td>148</td>\n",
       "      <td>6279</td>\n",
       "      <td>5</td>\n",
       "      <td>1</td>\n",
       "      <td>0</td>\n",
       "      <td>0</td>\n",
       "      <td>0</td>\n",
       "      <td>0</td>\n",
       "      <td>1</td>\n",
       "      <td>0</td>\n",
       "      <td>0</td>\n",
       "    </tr>\n",
       "    <tr>\n",
       "      <th>1</th>\n",
       "      <td>2590</td>\n",
       "      <td>2</td>\n",
       "      <td>212</td>\n",
       "      <td>220</td>\n",
       "      <td>151</td>\n",
       "      <td>6225</td>\n",
       "      <td>5</td>\n",
       "      <td>1</td>\n",
       "      <td>0</td>\n",
       "      <td>0</td>\n",
       "      <td>0</td>\n",
       "      <td>0</td>\n",
       "      <td>1</td>\n",
       "      <td>0</td>\n",
       "      <td>0</td>\n",
       "    </tr>\n",
       "  </tbody>\n",
       "</table>\n",
       "</div>"
      ],
      "text/plain": [
       "   Elevation  Slope  Horizontal_Distance_To_Hydrology  Hillshade_9am  \\\n",
       "0       2596      3                               258            221   \n",
       "1       2590      2                               212            220   \n",
       "\n",
       "   Hillshade_3pm  Horizontal_Distance_To_Fire_Points  Cover_Type  GeoSoils  \\\n",
       "0            148                                6279           5         1   \n",
       "1            151                                6225           5         1   \n",
       "\n",
       "   Y1  Y2  Y3  Y4  Y5  Y6  Y7  \n",
       "0   0   0   0   0   1   0   0  \n",
       "1   0   0   0   0   1   0   0  "
      ]
     },
     "execution_count": 99,
     "metadata": {},
     "output_type": "execute_result"
    }
   ],
   "source": [
    "CoverTypeDF.head(2)"
   ]
  },
  {
   "cell_type": "code",
   "execution_count": 100,
   "metadata": {},
   "outputs": [],
   "source": [
    "features_to_use = [\n",
    "#     \"Cover_Type\",\n",
    "    \"GeoSoils\",\n",
    "    \"Elevation\",  \n",
    "    \"Slope\", \n",
    "    \"Hillshade_9am\", \n",
    "    \"Hillshade_3pm\", \n",
    "    \"Horizontal_Distance_To_Hydrology\", \n",
    "    \"Horizontal_Distance_To_Fire_Points\"\n",
    "]"
   ]
  },
  {
   "cell_type": "code",
   "execution_count": 101,
   "metadata": {},
   "outputs": [],
   "source": [
    "X = CoverTypeDF[features_to_use]\n",
    "X_encoded = pd.get_dummies(X)"
   ]
  },
  {
   "cell_type": "code",
   "execution_count": 102,
   "metadata": {},
   "outputs": [
    {
     "data": {
      "text/html": [
       "<div>\n",
       "<style scoped>\n",
       "    .dataframe tbody tr th:only-of-type {\n",
       "        vertical-align: middle;\n",
       "    }\n",
       "\n",
       "    .dataframe tbody tr th {\n",
       "        vertical-align: top;\n",
       "    }\n",
       "\n",
       "    .dataframe thead th {\n",
       "        text-align: right;\n",
       "    }\n",
       "</style>\n",
       "<table border=\"1\" class=\"dataframe\">\n",
       "  <thead>\n",
       "    <tr style=\"text-align: right;\">\n",
       "      <th></th>\n",
       "      <th>GeoSoils</th>\n",
       "      <th>Elevation</th>\n",
       "      <th>Slope</th>\n",
       "      <th>Hillshade_9am</th>\n",
       "      <th>Hillshade_3pm</th>\n",
       "      <th>Horizontal_Distance_To_Hydrology</th>\n",
       "      <th>Horizontal_Distance_To_Fire_Points</th>\n",
       "    </tr>\n",
       "  </thead>\n",
       "  <tbody>\n",
       "    <tr>\n",
       "      <th>0</th>\n",
       "      <td>1</td>\n",
       "      <td>2596</td>\n",
       "      <td>3</td>\n",
       "      <td>221</td>\n",
       "      <td>148</td>\n",
       "      <td>258</td>\n",
       "      <td>6279</td>\n",
       "    </tr>\n",
       "    <tr>\n",
       "      <th>1</th>\n",
       "      <td>1</td>\n",
       "      <td>2590</td>\n",
       "      <td>2</td>\n",
       "      <td>220</td>\n",
       "      <td>151</td>\n",
       "      <td>212</td>\n",
       "      <td>6225</td>\n",
       "    </tr>\n",
       "    <tr>\n",
       "      <th>2</th>\n",
       "      <td>1</td>\n",
       "      <td>2595</td>\n",
       "      <td>2</td>\n",
       "      <td>220</td>\n",
       "      <td>150</td>\n",
       "      <td>153</td>\n",
       "      <td>6172</td>\n",
       "    </tr>\n",
       "    <tr>\n",
       "      <th>3</th>\n",
       "      <td>1</td>\n",
       "      <td>2579</td>\n",
       "      <td>6</td>\n",
       "      <td>230</td>\n",
       "      <td>140</td>\n",
       "      <td>300</td>\n",
       "      <td>6031</td>\n",
       "    </tr>\n",
       "    <tr>\n",
       "      <th>4</th>\n",
       "      <td>1</td>\n",
       "      <td>2606</td>\n",
       "      <td>7</td>\n",
       "      <td>222</td>\n",
       "      <td>138</td>\n",
       "      <td>270</td>\n",
       "      <td>6256</td>\n",
       "    </tr>\n",
       "  </tbody>\n",
       "</table>\n",
       "</div>"
      ],
      "text/plain": [
       "   GeoSoils  Elevation  Slope  Hillshade_9am  Hillshade_3pm  \\\n",
       "0         1       2596      3            221            148   \n",
       "1         1       2590      2            220            151   \n",
       "2         1       2595      2            220            150   \n",
       "3         1       2579      6            230            140   \n",
       "4         1       2606      7            222            138   \n",
       "\n",
       "   Horizontal_Distance_To_Hydrology  Horizontal_Distance_To_Fire_Points  \n",
       "0                               258                                6279  \n",
       "1                               212                                6225  \n",
       "2                               153                                6172  \n",
       "3                               300                                6031  \n",
       "4                               270                                6256  "
      ]
     },
     "execution_count": 102,
     "metadata": {},
     "output_type": "execute_result"
    }
   ],
   "source": [
    "X_encoded.head()"
   ]
  },
  {
   "cell_type": "code",
   "execution_count": 103,
   "metadata": {},
   "outputs": [
    {
     "data": {
      "text/plain": [
       "(581012, 7)"
      ]
     },
     "execution_count": 103,
     "metadata": {},
     "output_type": "execute_result"
    }
   ],
   "source": [
    "X_encoded[features_to_use].shape"
   ]
  },
  {
   "cell_type": "markdown",
   "metadata": {},
   "source": [
    "##### Training for Type 1 Covertype - Spruce/Fir"
   ]
  },
  {
   "cell_type": "code",
   "execution_count": 104,
   "metadata": {},
   "outputs": [],
   "source": [
    "y1 = CoverTypeDF[[\"Y1\"]]\n",
    "X_train1, X_test1, y_train1, y_test1 = train_test_split(X_encoded, y1)\n",
    "pd.concat([X_train1, y_train1], axis=1)\n",
    "\n",
    "# normalizer\n",
    "sds1 = StandardScaler()\n",
    "sds1.fit(X_train1)\n",
    "X_train1 = sds1.transform(X_train1)\n",
    "X_test1 = sds1.transform(X_test1)"
   ]
  },
  {
   "cell_type": "code",
   "execution_count": 107,
   "metadata": {},
   "outputs": [
    {
     "data": {
      "text/plain": [
       "(435759, 7)"
      ]
     },
     "execution_count": 107,
     "metadata": {},
     "output_type": "execute_result"
    }
   ],
   "source": [
    "X_train1.shape"
   ]
  },
  {
   "cell_type": "code",
   "execution_count": 108,
   "metadata": {},
   "outputs": [
    {
     "data": {
      "text/plain": [
       "(435759, 1)"
      ]
     },
     "execution_count": 108,
     "metadata": {},
     "output_type": "execute_result"
    }
   ],
   "source": [
    "y_train1.shape"
   ]
  },
  {
   "cell_type": "code",
   "execution_count": 109,
   "metadata": {},
   "outputs": [
    {
     "data": {
      "text/plain": [
       "(145253, 7)"
      ]
     },
     "execution_count": 109,
     "metadata": {},
     "output_type": "execute_result"
    }
   ],
   "source": [
    "X_test1.shape"
   ]
  },
  {
   "cell_type": "code",
   "execution_count": 110,
   "metadata": {},
   "outputs": [
    {
     "data": {
      "text/plain": [
       "(145253, 1)"
      ]
     },
     "execution_count": 110,
     "metadata": {},
     "output_type": "execute_result"
    }
   ],
   "source": [
    "y_test1.shape"
   ]
  },
  {
   "cell_type": "code",
   "execution_count": 111,
   "metadata": {},
   "outputs": [],
   "source": [
    "def modelbench(classifier, X_train1, Y_train1):\n",
    "    \n",
    "    rs = ShuffleSplit(n_splits=3, test_size=.33)\n",
    "    \n",
    "    rs.get_n_splits(X_train)\n",
    "    \n",
    "    Y_train1 = Y_train1.values\n",
    "    Y_train1 = Y_train1.ravel()\n",
    "\n",
    "    for train_idx, test_idx in rs.split(X_train):\n",
    "        ssX_train1, ssX_test1 = X_train1[train_idx], X_train1[test_idx]\n",
    "        ssy_train1, ssy_test1 = Y_train1[train_idx], Y_train1[test_idx]\n",
    "\n",
    "        t0 = time.time()\n",
    "        \n",
    "        clf = classifier\n",
    "        clf.fit(X=ssX_train1, y=ssy_train1)\n",
    "\n",
    "        ypred1 = clf.predict(ssX_test1)\n",
    "\n",
    "        scores1 = roc_auc_score(ssy_test1, ypred1)\n",
    "    \n",
    "        t1 = time.time()\n",
    "    \n",
    "        print(f\"{classifier} \\n took {t1-t0} seconds to run and got a score of {scores1}\")\n",
    "        print()"
   ]
  },
  {
   "cell_type": "code",
   "execution_count": 112,
   "metadata": {},
   "outputs": [
    {
     "name": "stdout",
     "output_type": "stream",
     "text": [
      "DecisionTreeClassifier(class_weight=None, criterion='gini', max_depth=None,\n",
      "            max_features=None, max_leaf_nodes=None,\n",
      "            min_impurity_decrease=0.0, min_impurity_split=None,\n",
      "            min_samples_leaf=1, min_samples_split=2,\n",
      "            min_weight_fraction_leaf=0.0, presort=False, random_state=None,\n",
      "            splitter='best') \n",
      " took 2.142256021499634 seconds to run and got a score of 0.8562931878029002\n",
      "\n",
      "DecisionTreeClassifier(class_weight=None, criterion='gini', max_depth=None,\n",
      "            max_features=None, max_leaf_nodes=None,\n",
      "            min_impurity_decrease=0.0, min_impurity_split=None,\n",
      "            min_samples_leaf=1, min_samples_split=2,\n",
      "            min_weight_fraction_leaf=0.0, presort=False, random_state=None,\n",
      "            splitter='best') \n",
      " took 1.9165949821472168 seconds to run and got a score of 0.8585643758713\n",
      "\n",
      "DecisionTreeClassifier(class_weight=None, criterion='gini', max_depth=None,\n",
      "            max_features=None, max_leaf_nodes=None,\n",
      "            min_impurity_decrease=0.0, min_impurity_split=None,\n",
      "            min_samples_leaf=1, min_samples_split=2,\n",
      "            min_weight_fraction_leaf=0.0, presort=False, random_state=None,\n",
      "            splitter='best') \n",
      " took 2.0207128524780273 seconds to run and got a score of 0.857302597089932\n",
      "\n"
     ]
    }
   ],
   "source": [
    "modelbench(DecisionTreeClassifier(), X_train1, y_train1)"
   ]
  },
  {
   "cell_type": "code",
   "execution_count": 113,
   "metadata": {},
   "outputs": [
    {
     "name": "stdout",
     "output_type": "stream",
     "text": [
      "LogisticRegression(C=1.0, class_weight=None, dual=False, fit_intercept=True,\n",
      "          intercept_scaling=1, max_iter=100, multi_class='ovr', n_jobs=1,\n",
      "          penalty='l2', random_state=None, solver='liblinear', tol=0.0001,\n",
      "          verbose=0, warm_start=False) \n",
      " took 0.7315750122070312 seconds to run and got a score of 0.7271850135515857\n",
      "\n",
      "LogisticRegression(C=1.0, class_weight=None, dual=False, fit_intercept=True,\n",
      "          intercept_scaling=1, max_iter=100, multi_class='ovr', n_jobs=1,\n",
      "          penalty='l2', random_state=None, solver='liblinear', tol=0.0001,\n",
      "          verbose=0, warm_start=False) \n",
      " took 0.7812280654907227 seconds to run and got a score of 0.7269165843041978\n",
      "\n",
      "LogisticRegression(C=1.0, class_weight=None, dual=False, fit_intercept=True,\n",
      "          intercept_scaling=1, max_iter=100, multi_class='ovr', n_jobs=1,\n",
      "          penalty='l2', random_state=None, solver='liblinear', tol=0.0001,\n",
      "          verbose=0, warm_start=False) \n",
      " took 0.8908770084381104 seconds to run and got a score of 0.726800895549918\n",
      "\n"
     ]
    }
   ],
   "source": [
    "modelbench(LogisticRegression(), X_train1, y_train1)"
   ]
  },
  {
   "cell_type": "code",
   "execution_count": 115,
   "metadata": {},
   "outputs": [
    {
     "name": "stdout",
     "output_type": "stream",
     "text": [
      "RandomForestClassifier(bootstrap=True, class_weight=None, criterion='gini',\n",
      "            max_depth=None, max_features='auto', max_leaf_nodes=None,\n",
      "            min_impurity_decrease=0.0, min_impurity_split=None,\n",
      "            min_samples_leaf=1, min_samples_split=2,\n",
      "            min_weight_fraction_leaf=0.0, n_estimators=10, n_jobs=1,\n",
      "            oob_score=False, random_state=None, verbose=0,\n",
      "            warm_start=False) \n",
      " took 7.509960174560547 seconds to run and got a score of 0.8643178259624864\n",
      "\n",
      "RandomForestClassifier(bootstrap=True, class_weight=None, criterion='gini',\n",
      "            max_depth=None, max_features='auto', max_leaf_nodes=None,\n",
      "            min_impurity_decrease=0.0, min_impurity_split=None,\n",
      "            min_samples_leaf=1, min_samples_split=2,\n",
      "            min_weight_fraction_leaf=0.0, n_estimators=10, n_jobs=1,\n",
      "            oob_score=False, random_state=None, verbose=0,\n",
      "            warm_start=False) \n",
      " took 7.6267499923706055 seconds to run and got a score of 0.8623003526951235\n",
      "\n",
      "RandomForestClassifier(bootstrap=True, class_weight=None, criterion='gini',\n",
      "            max_depth=None, max_features='auto', max_leaf_nodes=None,\n",
      "            min_impurity_decrease=0.0, min_impurity_split=None,\n",
      "            min_samples_leaf=1, min_samples_split=2,\n",
      "            min_weight_fraction_leaf=0.0, n_estimators=10, n_jobs=1,\n",
      "            oob_score=False, random_state=None, verbose=0,\n",
      "            warm_start=False) \n",
      " took 6.863274335861206 seconds to run and got a score of 0.8643300618998722\n",
      "\n"
     ]
    }
   ],
   "source": [
    "modelbench(RandomForestClassifier(), X_train1, y_train1)"
   ]
  },
  {
   "cell_type": "code",
   "execution_count": 116,
   "metadata": {},
   "outputs": [
    {
     "name": "stdout",
     "output_type": "stream",
     "text": [
      "RandomForestClassifier(bootstrap=True, class_weight=None, criterion='gini',\n",
      "            max_depth=None, max_features='auto', max_leaf_nodes=None,\n",
      "            min_impurity_decrease=0.0, min_impurity_split=None,\n",
      "            min_samples_leaf=1, min_samples_split=2,\n",
      "            min_weight_fraction_leaf=0.0, n_estimators=50, n_jobs=1,\n",
      "            oob_score=False, random_state=None, verbose=0,\n",
      "            warm_start=False) \n",
      " took 27.893510818481445 seconds to run and got a score of 0.8865568543176063\n",
      "\n",
      "RandomForestClassifier(bootstrap=True, class_weight=None, criterion='gini',\n",
      "            max_depth=None, max_features='auto', max_leaf_nodes=None,\n",
      "            min_impurity_decrease=0.0, min_impurity_split=None,\n",
      "            min_samples_leaf=1, min_samples_split=2,\n",
      "            min_weight_fraction_leaf=0.0, n_estimators=50, n_jobs=1,\n",
      "            oob_score=False, random_state=None, verbose=0,\n",
      "            warm_start=False) \n",
      " took 28.531726121902466 seconds to run and got a score of 0.8875159149263337\n",
      "\n",
      "RandomForestClassifier(bootstrap=True, class_weight=None, criterion='gini',\n",
      "            max_depth=None, max_features='auto', max_leaf_nodes=None,\n",
      "            min_impurity_decrease=0.0, min_impurity_split=None,\n",
      "            min_samples_leaf=1, min_samples_split=2,\n",
      "            min_weight_fraction_leaf=0.0, n_estimators=50, n_jobs=1,\n",
      "            oob_score=False, random_state=None, verbose=0,\n",
      "            warm_start=False) \n",
      " took 29.202720165252686 seconds to run and got a score of 0.8861652015504337\n",
      "\n"
     ]
    }
   ],
   "source": [
    "modelbench(RandomForestClassifier(n_estimators=50), X_train1, y_train1)"
   ]
  },
  {
   "cell_type": "code",
   "execution_count": 117,
   "metadata": {},
   "outputs": [
    {
     "name": "stdout",
     "output_type": "stream",
     "text": [
      "RandomForestClassifier(bootstrap=True, class_weight=None, criterion='gini',\n",
      "            max_depth=None, max_features='auto', max_leaf_nodes=None,\n",
      "            min_impurity_decrease=0.0, min_impurity_split=None,\n",
      "            min_samples_leaf=1, min_samples_split=2,\n",
      "            min_weight_fraction_leaf=0.0, n_estimators=100, n_jobs=1,\n",
      "            oob_score=False, random_state=None, verbose=0,\n",
      "            warm_start=False) \n",
      " took 62.88572907447815 seconds to run and got a score of 0.889193736067212\n",
      "\n",
      "RandomForestClassifier(bootstrap=True, class_weight=None, criterion='gini',\n",
      "            max_depth=None, max_features='auto', max_leaf_nodes=None,\n",
      "            min_impurity_decrease=0.0, min_impurity_split=None,\n",
      "            min_samples_leaf=1, min_samples_split=2,\n",
      "            min_weight_fraction_leaf=0.0, n_estimators=100, n_jobs=1,\n",
      "            oob_score=False, random_state=None, verbose=0,\n",
      "            warm_start=False) \n",
      " took 57.874006032943726 seconds to run and got a score of 0.8897042624976869\n",
      "\n",
      "RandomForestClassifier(bootstrap=True, class_weight=None, criterion='gini',\n",
      "            max_depth=None, max_features='auto', max_leaf_nodes=None,\n",
      "            min_impurity_decrease=0.0, min_impurity_split=None,\n",
      "            min_samples_leaf=1, min_samples_split=2,\n",
      "            min_weight_fraction_leaf=0.0, n_estimators=100, n_jobs=1,\n",
      "            oob_score=False, random_state=None, verbose=0,\n",
      "            warm_start=False) \n",
      " took 58.20684790611267 seconds to run and got a score of 0.8882393162012091\n",
      "\n"
     ]
    }
   ],
   "source": [
    "modelbench(RandomForestClassifier(n_estimators=100), X_train1, y_train1)"
   ]
  },
  {
   "cell_type": "markdown",
   "metadata": {},
   "source": [
    "### RandomForest Tuning"
   ]
  },
  {
   "cell_type": "code",
   "execution_count": 120,
   "metadata": {},
   "outputs": [],
   "source": [
    "params = {\n",
    "    \"max_depth\": [2,4,6,8,10],\n",
    "    \"min_samples_split\": [5, 9, 19],\n",
    "    \"min_samples_leaf\": [2, 5, 10],\n",
    "    \"max_leaf_nodes\": [15, 20, 50],\n",
    "}"
   ]
  },
  {
   "cell_type": "code",
   "execution_count": 121,
   "metadata": {},
   "outputs": [],
   "source": [
    "grid = GridSearchCV(RandomForestClassifier(n_estimators=10), params, cv=5)"
   ]
  },
  {
   "cell_type": "code",
   "execution_count": 122,
   "metadata": {},
   "outputs": [
    {
     "data": {
      "text/plain": [
       "GridSearchCV(cv=5, error_score='raise',\n",
       "       estimator=RandomForestClassifier(bootstrap=True, class_weight=None, criterion='gini',\n",
       "            max_depth=None, max_features='auto', max_leaf_nodes=None,\n",
       "            min_impurity_decrease=0.0, min_impurity_split=None,\n",
       "            min_samples_leaf=1, min_samples_split=2,\n",
       "            min_weight_fraction_leaf=0.0, n_estimators=10, n_jobs=1,\n",
       "            oob_score=False, random_state=None, verbose=0,\n",
       "            warm_start=False),\n",
       "       fit_params=None, iid=True, n_jobs=1,\n",
       "       param_grid={'max_depth': [2, 4, 6, 8, 10], 'min_samples_split': [5, 9, 19], 'min_samples_leaf': [2, 5, 10], 'max_leaf_nodes': [15, 20, 50]},\n",
       "       pre_dispatch='2*n_jobs', refit=True, return_train_score='warn',\n",
       "       scoring=None, verbose=0)"
      ]
     },
     "execution_count": 122,
     "metadata": {},
     "output_type": "execute_result"
    }
   ],
   "source": [
    "grid"
   ]
  },
  {
   "cell_type": "code",
   "execution_count": 123,
   "metadata": {},
   "outputs": [
    {
     "data": {
      "text/plain": [
       "GridSearchCV(cv=5, error_score='raise',\n",
       "       estimator=RandomForestClassifier(bootstrap=True, class_weight=None, criterion='gini',\n",
       "            max_depth=None, max_features='auto', max_leaf_nodes=None,\n",
       "            min_impurity_decrease=0.0, min_impurity_split=None,\n",
       "            min_samples_leaf=1, min_samples_split=2,\n",
       "            min_weight_fraction_leaf=0.0, n_estimators=10, n_jobs=1,\n",
       "            oob_score=False, random_state=None, verbose=0,\n",
       "            warm_start=False),\n",
       "       fit_params=None, iid=True, n_jobs=1,\n",
       "       param_grid={'max_depth': [2, 4, 6, 8, 10], 'min_samples_split': [5, 9, 19], 'min_samples_leaf': [2, 5, 10], 'max_leaf_nodes': [15, 20, 50]},\n",
       "       pre_dispatch='2*n_jobs', refit=True, return_train_score='warn',\n",
       "       scoring=None, verbose=0)"
      ]
     },
     "execution_count": 123,
     "metadata": {},
     "output_type": "execute_result"
    }
   ],
   "source": [
    "grid.fit(X_train1, y_train1.values.ravel())"
   ]
  },
  {
   "cell_type": "code",
   "execution_count": 124,
   "metadata": {},
   "outputs": [
    {
     "data": {
      "text/plain": [
       "RandomForestClassifier(bootstrap=True, class_weight=None, criterion='gini',\n",
       "            max_depth=10, max_features='auto', max_leaf_nodes=50,\n",
       "            min_impurity_decrease=0.0, min_impurity_split=None,\n",
       "            min_samples_leaf=10, min_samples_split=9,\n",
       "            min_weight_fraction_leaf=0.0, n_estimators=10, n_jobs=1,\n",
       "            oob_score=False, random_state=None, verbose=0,\n",
       "            warm_start=False)"
      ]
     },
     "execution_count": 124,
     "metadata": {},
     "output_type": "execute_result"
    }
   ],
   "source": [
    "grid.best_estimator_"
   ]
  },
  {
   "cell_type": "code",
   "execution_count": 125,
   "metadata": {},
   "outputs": [
    {
     "data": {
      "text/plain": [
       "{'max_depth': 10,\n",
       " 'max_leaf_nodes': 50,\n",
       " 'min_samples_leaf': 10,\n",
       " 'min_samples_split': 9}"
      ]
     },
     "execution_count": 125,
     "metadata": {},
     "output_type": "execute_result"
    }
   ],
   "source": [
    "grid.best_params_"
   ]
  },
  {
   "cell_type": "code",
   "execution_count": 142,
   "metadata": {},
   "outputs": [
    {
     "data": {
      "text/plain": [
       "[<matplotlib.lines.Line2D at 0x1a1bdbda58>]"
      ]
     },
     "execution_count": 142,
     "metadata": {},
     "output_type": "execute_result"
    },
    {
     "data": {
      "image/png": "[encoded data removed]",
      "text/plain": [
       "<Figure size 432x288 with 1 Axes>"
      ]
     },
     "metadata": {},
     "output_type": "display_data"
    }
   ],
   "source": [
    "train_auc = []\n",
    "test_auc = []\n",
    "\n",
    "for i in range(1,200):\n",
    "    clf = RandomForestClassifier(max_depth=10, max_leaf_nodes=50, min_samples_split=9,\n",
    "                                 n_estimators=50)\n",
    "    \n",
    "    clf.fit(X_train1, y_train1.values.ravel())\n",
    "    train_auc.append(roc_auc_score(y_train1, clf.predict(X_train1)))\n",
    "    test_auc.append(roc_auc_score(y_test1, clf.predict(X_test1)))\n",
    "\n",
    "train_auc, test_auc\n",
    "\n",
    "plt.plot(range(199), train_auc)\n",
    "plt.plot(range(199), test_auc)"
   ]
  },
  {
   "cell_type": "code",
   "execution_count": 143,
   "metadata": {},
   "outputs": [],
   "source": [
    "train_df = pd.DataFrame(list(zip(train_auc, test_auc)),\n",
    "              columns=['train_auc','test_auc'])\n",
    "\n",
    "train_df1_200 = train_df.to_csv(\"Data/train_df1_200.csv\")"
   ]
  },
  {
   "cell_type": "markdown",
   "metadata": {},
   "source": [
    "##### Training for Type 4 Covertype - Cottonwood"
   ]
  },
  {
   "cell_type": "code",
   "execution_count": 144,
   "metadata": {},
   "outputs": [
    {
     "data": {
      "text/plain": [
       "[<matplotlib.lines.Line2D at 0x1a203520b8>]"
      ]
     },
     "execution_count": 144,
     "metadata": {},
     "output_type": "execute_result"
    },
    {
     "data": {
      "image/png": "[encoded data removed]",
      "text/plain": [
       "<Figure size 432x288 with 1 Axes>"
      ]
     },
     "metadata": {},
     "output_type": "display_data"
    }
   ],
   "source": [
    "y4 = CoverTypeDF[[\"Y4\"]]\n",
    "X_train4, X_test4, y_train4, y_test4 = train_test_split(X_encoded, y4)\n",
    "concat4 = pd.concat([X_train4, y_train4], axis=1)\n",
    "\n",
    "# normalizer\n",
    "sds4 = StandardScaler()\n",
    "sds4.fit(X_train4)\n",
    "X_train4 = sds4.transform(X_train4)\n",
    "X_test4 = sds4.transform(X_test4)\n",
    "\n",
    "# grid training session\n",
    "train_auc4 = []\n",
    "test_auc4 = []\n",
    "\n",
    "for i in range(1,20):\n",
    "    clf = RandomForestClassifier(max_depth=10, max_leaf_nodes=50, min_samples_split=9,\n",
    "                                 n_estimators=10)\n",
    "    \n",
    "    clf.fit(X_train4, y_train4.values.ravel())\n",
    "    train_auc4.append(roc_auc_score(y_train4, clf.predict(X_train4)))\n",
    "    test_auc4.append(roc_auc_score(y_test4, clf.predict(X_test4)))\n",
    "\n",
    "train_auc4, test_auc4\n",
    "\n",
    "plt.plot(range(19), train_auc4)\n",
    "plt.plot(range(19), test_auc4)"
   ]
  },
  {
   "cell_type": "code",
   "execution_count": 147,
   "metadata": {},
   "outputs": [],
   "source": [
    "train_df4 = pd.DataFrame(list(zip(train_auc4, test_auc4)),\n",
    "              columns=['train_auc4','test_auc4'])\n",
    "\n",
    "train_df4 = train_df4.to_csv(\"Data/train_df4.csv\")"
   ]
  },
  {
   "cell_type": "markdown",
   "metadata": {},
   "source": [
    "##### Training for Type 7 Covertype - Krummholz"
   ]
  },
  {
   "cell_type": "code",
   "execution_count": 146,
   "metadata": {},
   "outputs": [
    {
     "data": {
      "text/plain": [
       "[<matplotlib.lines.Line2D at 0x117c89f28>]"
      ]
     },
     "execution_count": 146,
     "metadata": {},
     "output_type": "execute_result"
    },
    {
     "data": {
      "image/png": "[encoded data removed]",
      "text/plain": [
       "<Figure size 432x288 with 1 Axes>"
      ]
     },
     "metadata": {},
     "output_type": "display_data"
    }
   ],
   "source": [
    "y7 = CoverTypeDF[[\"Y7\"]]\n",
    "X_train7, X_test7, y_train7, y_test7 = train_test_split(X_encoded, y7)\n",
    "concat7 = pd.concat([X_train7, y_train7], axis=1)\n",
    "\n",
    "# normalizer\n",
    "sds7 = StandardScaler()\n",
    "sds7.fit(X_train7)\n",
    "X_train7 = sds7.transform(X_train7)\n",
    "X_test7 = sds7.transform(X_test7)\n",
    "\n",
    "# grid training session\n",
    "train_auc7 = []\n",
    "test_auc7 = []\n",
    "\n",
    "for i in range(1,20):\n",
    "    clf = RandomForestClassifier(max_depth=10, max_leaf_nodes=50, min_samples_split=9,\n",
    "                                 n_estimators=10)\n",
    "    \n",
    "    clf.fit(X_train7, y_train7.values.ravel())\n",
    "    train_auc7.append(roc_auc_score(y_train7, clf.predict(X_train7)))\n",
    "    test_auc7.append(roc_auc_score(y_test7, clf.predict(X_test7)))\n",
    "\n",
    "train_auc7, test_auc7\n",
    "\n",
    "plt.plot(range(19), train_auc7)\n",
    "plt.plot(range(19), test_auc7)"
   ]
  },
  {
   "cell_type": "code",
   "execution_count": 148,
   "metadata": {},
   "outputs": [],
   "source": [
    "train_df7 = pd.DataFrame(list(zip(train_auc7, test_auc7)),\n",
    "              columns=['train_auc7','test_auc7'])\n",
    "\n",
    "train_df7 = train_df7.to_csv(\"Data/train_df7.csv\")"
   ]
  },
  {
   "cell_type": "code",
   "execution_count": 150,
   "metadata": {},
   "outputs": [],
   "source": [
    "params = {\n",
    "    \"max_depth\": [5,10,15,20,25],\n",
    "    \"min_samples_split\": [5, 10, 14],\n",
    "    \"min_samples_leaf\": [2, 5, 10],\n",
    "    \"max_leaf_nodes\": [15, 20, 50],\n",
    "}"
   ]
  },
  {
   "cell_type": "code",
   "execution_count": 151,
   "metadata": {},
   "outputs": [],
   "source": [
    "grid = GridSearchCV(RandomForestClassifier(n_estimators=20), params, cv=5)"
   ]
  },
  {
   "cell_type": "code",
   "execution_count": 152,
   "metadata": {},
   "outputs": [
    {
     "data": {
      "text/plain": [
       "GridSearchCV(cv=5, error_score='raise',\n",
       "       estimator=RandomForestClassifier(bootstrap=True, class_weight=None, criterion='gini',\n",
       "            max_depth=None, max_features='auto', max_leaf_nodes=None,\n",
       "            min_impurity_decrease=0.0, min_impurity_split=None,\n",
       "            min_samples_leaf=1, min_samples_split=2,\n",
       "            min_weight_fraction_leaf=0.0, n_estimators=20, n_jobs=1,\n",
       "            oob_score=False, random_state=None, verbose=0,\n",
       "            warm_start=False),\n",
       "       fit_params=None, iid=True, n_jobs=1,\n",
       "       param_grid={'max_depth': [5, 10, 15, 20, 25], 'min_samples_split': [5, 10, 14], 'min_samples_leaf': [2, 5, 10], 'max_leaf_nodes': [15, 20, 50]},\n",
       "       pre_dispatch='2*n_jobs', refit=True, return_train_score='warn',\n",
       "       scoring=None, verbose=0)"
      ]
     },
     "execution_count": 152,
     "metadata": {},
     "output_type": "execute_result"
    }
   ],
   "source": [
    "grid"
   ]
  },
  {
   "cell_type": "code",
   "execution_count": 153,
   "metadata": {},
   "outputs": [
    {
     "data": {
      "text/plain": [
       "GridSearchCV(cv=5, error_score='raise',\n",
       "       estimator=RandomForestClassifier(bootstrap=True, class_weight=None, criterion='gini',\n",
       "            max_depth=None, max_features='auto', max_leaf_nodes=None,\n",
       "            min_impurity_decrease=0.0, min_impurity_split=None,\n",
       "            min_samples_leaf=1, min_samples_split=2,\n",
       "            min_weight_fraction_leaf=0.0, n_estimators=20, n_jobs=1,\n",
       "            oob_score=False, random_state=None, verbose=0,\n",
       "            warm_start=False),\n",
       "       fit_params=None, iid=True, n_jobs=1,\n",
       "       param_grid={'max_depth': [5, 10, 15, 20, 25], 'min_samples_split': [5, 10, 14], 'min_samples_leaf': [2, 5, 10], 'max_leaf_nodes': [15, 20, 50]},\n",
       "       pre_dispatch='2*n_jobs', refit=True, return_train_score='warn',\n",
       "       scoring=None, verbose=0)"
      ]
     },
     "execution_count": 153,
     "metadata": {},
     "output_type": "execute_result"
    }
   ],
   "source": [
    "grid.fit(X_train1, y_train1.values.ravel())"
   ]
  },
  {
   "cell_type": "code",
   "execution_count": 154,
   "metadata": {},
   "outputs": [
    {
     "data": {
      "text/plain": [
       "RandomForestClassifier(bootstrap=True, class_weight=None, criterion='gini',\n",
       "            max_depth=10, max_features='auto', max_leaf_nodes=50,\n",
       "            min_impurity_decrease=0.0, min_impurity_split=None,\n",
       "            min_samples_leaf=10, min_samples_split=5,\n",
       "            min_weight_fraction_leaf=0.0, n_estimators=20, n_jobs=1,\n",
       "            oob_score=False, random_state=None, verbose=0,\n",
       "            warm_start=False)"
      ]
     },
     "execution_count": 154,
     "metadata": {},
     "output_type": "execute_result"
    }
   ],
   "source": [
    "grid.best_estimator_"
   ]
  },
  {
   "cell_type": "code",
   "execution_count": 155,
   "metadata": {},
   "outputs": [
    {
     "data": {
      "text/plain": [
       "{'max_depth': 10,\n",
       " 'max_leaf_nodes': 50,\n",
       " 'min_samples_leaf': 10,\n",
       " 'min_samples_split': 5}"
      ]
     },
     "execution_count": 155,
     "metadata": {},
     "output_type": "execute_result"
    }
   ],
   "source": [
    "grid.best_params_"
   ]
  },
  {
   "cell_type": "code",
   "execution_count": 156,
   "metadata": {},
   "outputs": [
    {
     "data": {
      "text/plain": [
       "RandomForestClassifier(bootstrap=True, class_weight=None, criterion='gini',\n",
       "            max_depth=10, max_features='auto', max_leaf_nodes=50,\n",
       "            min_impurity_decrease=0.0, min_impurity_split=None,\n",
       "            min_samples_leaf=1, min_samples_split=5,\n",
       "            min_weight_fraction_leaf=0.0, n_estimators=20, n_jobs=1,\n",
       "            oob_score=False, random_state=None, verbose=0,\n",
       "            warm_start=False)"
      ]
     },
     "execution_count": 156,
     "metadata": {},
     "output_type": "execute_result"
    }
   ],
   "source": [
    "clf = RandomForestClassifier(max_depth=10, max_leaf_nodes=50, min_samples_split=5,\n",
    "                                 n_estimators=20)\n",
    "clf.fit(X_train1, y_train1.values.ravel())"
   ]
  },
  {
   "cell_type": "code",
   "execution_count": 157,
   "metadata": {},
   "outputs": [
    {
     "data": {
      "text/plain": [
       "array([0.12917165, 0.76093383, 0.01269751, 0.01104362, 0.01060139,\n",
       "       0.04057838, 0.03497362])"
      ]
     },
     "execution_count": 157,
     "metadata": {},
     "output_type": "execute_result"
    }
   ],
   "source": [
    "clf.feature_importances_"
   ]
  },
  {
   "cell_type": "markdown",
   "metadata": {},
   "source": [
    "### Save the Model and Load"
   ]
  },
  {
   "cell_type": "code",
   "execution_count": 158,
   "metadata": {},
   "outputs": [],
   "source": [
    "import pickle\n",
    "from sklearn.externals import joblib"
   ]
  },
  {
   "cell_type": "code",
   "execution_count": 159,
   "metadata": {},
   "outputs": [],
   "source": [
    "filename = \"./final_covertype.model\""
   ]
  },
  {
   "cell_type": "code",
   "execution_count": 160,
   "metadata": {},
   "outputs": [],
   "source": [
    "pickle.dump(clf, open(filename, \"wb\"))"
   ]
  },
  {
   "cell_type": "code",
   "execution_count": 161,
   "metadata": {},
   "outputs": [
    {
     "data": {
      "text/plain": [
       "['covertype_scaler.model']"
      ]
     },
     "execution_count": 161,
     "metadata": {},
     "output_type": "execute_result"
    }
   ],
   "source": [
    "# Save the scaler\n",
    "joblib.dump(sds1, \"covertype_scaler.model\")"
   ]
  },
  {
   "cell_type": "code",
   "execution_count": 162,
   "metadata": {},
   "outputs": [
    {
     "data": {
      "text/plain": [
       "array([8.04357454e-01, 2.95964011e+03, 1.40932580e+01, 2.12168699e+02,\n",
       "       1.42536379e+02, 2.69492178e+02, 1.98092682e+03])"
      ]
     },
     "execution_count": 162,
     "metadata": {},
     "output_type": "execute_result"
    }
   ],
   "source": [
    "sds1.mean_"
   ]
  },
  {
   "cell_type": "markdown",
   "metadata": {},
   "source": [
    "--- Delete the CLF file to clear it from memory."
   ]
  },
  {
   "cell_type": "code",
   "execution_count": 163,
   "metadata": {},
   "outputs": [],
   "source": [
    "del clf"
   ]
  },
  {
   "cell_type": "markdown",
   "metadata": {},
   "source": [
    "--- Load CLF file in order to apply it to testing set to see how it performs."
   ]
  },
  {
   "cell_type": "code",
   "execution_count": 164,
   "metadata": {},
   "outputs": [],
   "source": [
    "clf = pickle.load(open(filename, \"rb\"))"
   ]
  },
  {
   "cell_type": "code",
   "execution_count": 165,
   "metadata": {},
   "outputs": [
    {
     "data": {
      "text/plain": [
       "RandomForestClassifier(bootstrap=True, class_weight=None, criterion='gini',\n",
       "            max_depth=10, max_features='auto', max_leaf_nodes=50,\n",
       "            min_impurity_decrease=0.0, min_impurity_split=None,\n",
       "            min_samples_leaf=1, min_samples_split=5,\n",
       "            min_weight_fraction_leaf=0.0, n_estimators=20, n_jobs=1,\n",
       "            oob_score=False, random_state=None, verbose=0,\n",
       "            warm_start=False)"
      ]
     },
     "execution_count": 165,
     "metadata": {},
     "output_type": "execute_result"
    }
   ],
   "source": [
    "# CLF specifications\n",
    "clf"
   ]
  },
  {
   "cell_type": "code",
   "execution_count": 166,
   "metadata": {},
   "outputs": [
    {
     "data": {
      "text/plain": [
       "(array([ 0.49318187, -1.43084614, -0.14593764, -0.00630699, -0.19692355,\n",
       "        -0.00701899, -0.64292219]), 0)"
      ]
     },
     "execution_count": 166,
     "metadata": {},
     "output_type": "execute_result"
    }
   ],
   "source": [
    "# test clf on #35.\n",
    "X_test1[35], y_test1.values.ravel()[35]"
   ]
  },
  {
   "cell_type": "code",
   "execution_count": 167,
   "metadata": {},
   "outputs": [
    {
     "data": {
      "text/plain": [
       "array([0])"
      ]
     },
     "execution_count": 167,
     "metadata": {},
     "output_type": "execute_result"
    }
   ],
   "source": [
    "clf.predict([X_test1[35]])"
   ]
  },
  {
   "cell_type": "code",
   "execution_count": 168,
   "metadata": {},
   "outputs": [
    {
     "data": {
      "text/plain": [
       "array([[0.9069272, 0.0930728]])"
      ]
     },
     "execution_count": 168,
     "metadata": {},
     "output_type": "execute_result"
    }
   ],
   "source": [
    "clf.predict_proba([X_test1[35]])"
   ]
  },
  {
   "cell_type": "code",
   "execution_count": 170,
   "metadata": {},
   "outputs": [
    {
     "data": {
      "text/plain": [
       "array([[0.85734818, 0.14265182],\n",
       "       [0.91798602, 0.08201398],\n",
       "       [0.53644497, 0.46355503],\n",
       "       ...,\n",
       "       [0.38562902, 0.61437098],\n",
       "       [0.92422246, 0.07577754],\n",
       "       [0.90425091, 0.09574909]])"
      ]
     },
     "execution_count": 170,
     "metadata": {},
     "output_type": "execute_result"
    }
   ],
   "source": [
    "clf.predict_proba(X_test1)"
   ]
  }
 ],
 "metadata": {
  "kernelspec": {
   "display_name": "Python 3",
   "language": "python",
   "name": "python3"
  },
  "language_info": {
   "codemirror_mode": {
    "name": "ipython",
    "version": 3
   },
   "file_extension": ".py",
   "mimetype": "text/x-python",
   "name": "python",
   "nbconvert_exporter": "python",
   "pygments_lexer": "ipython3",
   "version": "3.6.5"
  }
 },
 "nbformat": 4,
 "nbformat_minor": 2
}
